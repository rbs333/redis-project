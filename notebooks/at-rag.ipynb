{
 "cells": [
  {
   "cell_type": "markdown",
   "metadata": {},
   "source": [
    "# Goal: create RAG for trail directions.\n",
    "\n",
    "## requirements\n",
    "- show source of information\n",
    "- provided easy chat interface\n",
    "- output easy to use trail directions\n",
    "\n",
    "## technical outline\n",
    "1. load white_blaze pdf data\n",
    "2. use langchain to load/split the pdf data into more usable chunks\n",
    "3. use openai to make the chunks more machine interpretable aka propositions\n",
    "4. create text embeddings for propositions so they can be stored in vectorDB\n",
    "5. Run Redis and define schemas for stored prop embeddings\n",
    "6. Create simple chat for searching the new redisVL db with questions."
   ]
  },
  {
   "cell_type": "code",
   "execution_count": 1,
   "metadata": {},
   "outputs": [
    {
     "name": "stdout",
     "output_type": "stream",
     "text": [
      "Listing available documents ... ['docs/at-1.pdf', 'docs/white_blaze_sample.pdf', 'docs/white_blaze_sample_quick_info.pdf']\n"
     ]
    }
   ],
   "source": [
    "# boiler plate for loading resources\n",
    "\n",
    "import os\n",
    "\n",
    "# Load list of pdfs\n",
    "data_path = \"docs/\"\n",
    "docs = [os.path.join(data_path, file) for file in os.listdir(data_path)]\n",
    "\n",
    "print(\"Listing available documents ...\", docs)\n",
    "\n",
    "# read the pdfs and turn them into something we can use\n",
    "\n",
    "from langchain.text_splitter import RecursiveCharacterTextSplitter\n",
    "from langchain.document_loaders import UnstructuredFileLoader\n",
    "\n",
    "# # start with the sample to see if it's viable\n",
    "doc = [doc for doc in docs if \"white_blaze_sample_quick_info\" in doc][0]\n",
    "\n",
    "loader = UnstructuredFileLoader(\n",
    "    doc, mode=\"single\", strategy=\"fast\"\n",
    "  )\n",
    "\n",
    "text_splitter = RecursiveCharacterTextSplitter(\n",
    "    chunk_size=2500, chunk_overlap=0\n",
    "  )"
   ]
  },
  {
   "cell_type": "code",
   "execution_count": 3,
   "metadata": {},
   "outputs": [
    {
     "data": {
      "text/plain": [
       "'docs/white_blaze_sample_quick_info.pdf'"
      ]
     },
     "execution_count": 3,
     "metadata": {},
     "output_type": "execute_result"
    }
   ],
   "source": [
    "doc"
   ]
  },
  {
   "cell_type": "code",
   "execution_count": 2,
   "metadata": {},
   "outputs": [
    {
     "name": "stderr",
     "output_type": "stream",
     "text": [
      "c:\\Users\\robert\\Documents\\code\\ai-sandbox\\AT-tool\\.venv\\Lib\\site-packages\\tqdm\\auto.py:21: TqdmWarning: IProgress not found. Please update jupyter and ipywidgets. See https://ipywidgets.readthedocs.io/en/stable/user_install.html\n",
      "  from .autonotebook import tqdm as notebook_tqdm\n",
      "[nltk_data] Downloading package punkt to\n",
      "[nltk_data]     C:\\Users\\robert\\AppData\\Roaming\\nltk_data...\n",
      "[nltk_data]   Unzipping tokenizers\\punkt.zip.\n",
      "[nltk_data] Downloading package averaged_perceptron_tagger to\n",
      "[nltk_data]     C:\\Users\\robert\\AppData\\Roaming\\nltk_data...\n",
      "[nltk_data]   Unzipping taggers\\averaged_perceptron_tagger.zip.\n"
     ]
    },
    {
     "name": "stdout",
     "output_type": "stream",
     "text": [
      "Done preprocessing. Created 8 chunks of the original pdf docs/white_blaze_sample_quick_info.pdf\n"
     ]
    }
   ],
   "source": [
    "chunks = loader.load_and_split(text_splitter)\n",
    "\n",
    "print(\"Done preprocessing. Created\", len(chunks), \"chunks of the original pdf\", doc)"
   ]
  },
  {
   "cell_type": "code",
   "execution_count": 3,
   "metadata": {},
   "outputs": [
    {
     "data": {
      "text/plain": [
       "[Document(page_content='Resupply\\n\\nResupply locations along the Appalachian Trail ATTENTION: For more detailed information read write-up under mileage in book and see maps. Shaded entries are 1.0 miles or less from the Appalachian Trail that are full resupplies or PO’s.\\n\\n~Designates map available = e Location Suches, GA~e Neel Gap, GA Blairsville, GA Dahlonega, GA Helen, GA~e Hiawassee, GA~e Franklin, NC~e NOC, NC~e Stecoah Gap, NC (NC. 143)~e Robbinsville, NC~e Fontana Village, NC~e Gatlinburg, TN~e Cherokee, NC Davenport Gap, TN~e Green Corner Road~e Hot Springs, NC~e Log Cabin Rd~e Sams Gap, TN~e Uncle Johnny’s Nolichucky Hostel~e Erwin, TN~e Elk Park, NC~e Roan Mountain, TN~e Scotty’s Budget Hostel Dennis Cove, TN~e Shook Branch Road~e Hampton, TN~e Shady Valley, TN~e Damascus, VA~e Troutdale, VA~e Sugar Grove, VA\\n\\nNOBO Mile 20.5 31.3 31.3 31.3 52.5 69.2 109.4 136.7 150.5 150.5 165.9 207.7 207.7 239.2 241.5 274.9 291.2 319.7 344.3 344.3 395.3 395.3 407.4 420.0 428.5 428.6 455.7 470.7 520.2 534.3 534.3 Marion, VA~e Atkins, VA~e 546.0 Quarter Way Inn 555.8 VA. 42/W Blue Grass Trail~e 558.3 Saint Luke’s Hostel 576.0 Bland, VA~e 591.8 Bastian, VA 591.8 VA. 606 610.2 Sugar Run Gap, VA~e 625.4 Narrows, VA 637.1 Pearisburg, VA~e 637.1 Newport, VA 677.8 Catawba, VA~e 704.6 Daleville, VA~e 730.3 Troutville, VA~e 731.8 Buchanan, VA~e 751.9 Jennings Creek Road, VA. 614~e 758.5 Big Island, VA 787.3\\n\\nSOBO Mile (2.0W) gM 2176.0 G 2165.2 On Trail (14.0W) GM 2165.2 (17.0E) GM 2165.2 (9.0E) GM 2144.0 (11.0W) GM 2127.3 (10.0E) GM 2087.1 G 2059.8 On Trail G 2046.0 (3.4E) (7.0W) GM 2046.0 (2.0W) GM 2030.6 (15.0W) GM 1988.8 (18.0E) GM 1988.8 g 1957.3 (1.2E) g (0.1W) 1955.0 On Trail GM 1921.6 G 1905.3 (0.7W) g (2.7W) 1873.4 G 1852.2 On Trail (3.8W) GM 1852.2 M 1801.2 (2.3E) (3.5W) GM 1801.0 g (0.25W) 1789.1 G 1776.5 On Trail g (0.1W) 1768.0 (2.6W) GM 1767.9 gM 1740.8 (2.7E) On Trail GM 1725.8 (2.6E) GM 1676.3 M 1662.2 (3.2E) M 1662.2 (6.0W) On Trail gM 1650.5 G 1640.7 (0.3W) g (0.2E) 1638.2 G 1620.5 (5.1W) (2.5E) GM 1604.7 (3.0W) gM 1604.7 g (0.5W) 1586.3 G 1571.1 (0.5E) (3.6W) GM 1559.4 (1.3E) GM 1559.4 (8.0E) GM 1518.7 (0.4W) GM 1491.9 On Trail GM 1466.2 M 1464.7 (1.0E) (5.0W) gM 1444.6 g (1.2E) 1438.0 gM 1409.2 (5.6E) - 282 -\\n\\nFrom\\n\\ntrail head Options\\n\\nPost Offices\\n\\nSuches, GA (2.0W)\\n\\n20.5 M` PO M–F 12:15pm - 4:15pm, Sa-SU Closed. 706-747-2611. 72078 State Highway 60\\n\\nSuches, GA 30572.\\n\\nM[34.69004,-84.02210]\\n\\nHelen, GA 30545 (9.0E)', metadata={'source': 'docs/white_blaze_sample_quick_info.pdf'}),\n",
       " Document(page_content='52.5 M` PO M–F 9am–12:30pm and 1:30pm-4pm, Sa 9am-12pm. 706-878-2422. 7976 S Main St. Helen, GA\\n\\n30545.\\n\\nM[34.69801,-83.71968]\\n\\nHiawassee, GA 30546 (11.0W)\\n\\n62.9 M` PO M-F 8:30am-5pm, Sa 8:30am-12pm. 706-896-4173. 118 N Main St. Hiawassee, GA 30546.\\n\\nM[34.94988,-83.75796]\\n\\nFranklin, NC 28734 (10E)\\n\\n109.4 M` PO M-F 8:30am-5pm, Sa 9am-12pm. 828-524-3219. 250 Depot St. Franklin, NC 28734.\\n\\nM[35.17885,-83.37433]\\n\\nRobbinsville, NC (7.0W) from Stecoah Gap.\\n\\n136.7 M` PO M-F 9am-4:30pm, Sa-Su Closed. 828-479-3397. 74 Sweetwater Rd. Robbinsville, NC 28771.\\n\\nM[35.32396,-83.80100]\\n\\nFontana Village, NC (2W from NC 28)\\n\\n165.9 M` PO M-F: 11:45am-3:45pm. 828-498-2315. 50 Fontana Rd. Fontana, NC 28733.\\n\\nM[35.43506,-83.82551]\\n\\nGatlinburg, TN (15.0W)\\n\\n207.7 M` PO M-F 9am-5pm, Sa 9am-11am. 865-436-3229. 1216 East Pkwy 37738. 1216 East Pkwy. Gattlinburg, M[35.72556,-83.48150]\\n\\nTN 37738.\\n\\nHot Springs, NC\\n\\n274.6 M` PO M-F 9am-11:30am & 1pm-4pm, Sa 9am-10:30am 828-622-3242. 11 Bridge St. Hot Springs, NC\\n\\n28743.\\n\\nM[35.89280,-82.82768]\\n\\nErwin, TN 37650.\\n\\n344.3 M` PO M-F 8:30-4:45, Sa 10-12, 423-743-9422. 201 N Main Ave, Erwin TN 37650.\\n\\nM[36.14673,-82.41555]\\n\\nElk Park, NC. (2.5E)\\n\\n395.3 M` (2.3E) PO M-F 9am-12:30am & 1:30pm-4pm, Sa 8am-11:30am. 828-733-5711. 153 Main St. W, Elk\\n\\nM[36.15778,-81.98004]\\n\\nPark, NC 28622. Roan Mountain, TN 37687 (3.5W)\\n\\n395.3 M` PO M-F 8am-12pm & 1pm-4pm, Sa 7:30am-9:30am 423-772-3014. 8060 US-19E, Roan Mtn, TN 37687. M[36.20021,-82.07448]\\n\\nHampton, TN 37658 (2.6W)\\n\\n428.5 M` PO M-F 7:30am - 11:30am, 12:30pm - 1:00pm. Sat-Sun Closed. 423-725-2177. 153 Main St. W. Hamp- M[36.28621,-82.16526]\\n\\nton, TN 28622.\\n\\nShady Valley, TN.(2.7E)\\n\\n455.7 M` PO M–F 8am-12pm, Sa 8am-10am, 423-739-2073. 136 Hwy 133. Shady Valley, TN 37688.\\n\\nM[36.51961,-81.92803]\\n\\nDamascus, VA. 24236.\\n\\n470.7 M` PO M-F 8:30-1 & 2-4:30, Sa 9-11, 276-475-3411. 211 N Reynolds St. Damascus, VA 24236.\\n\\nM[36.63608,-81.78988]\\n\\nTroutedale, VA 24378 (2.6E)\\n\\n520.2 M` PO M 8am-12pm, Sa 8am-11am, Su Closed. 93 Ripshin Rd. Troutedale, VA . 24378.\\n\\nM[36.70260,-81.43910]\\n\\nSugar Grove, VA 24375 (3.2E)\\n\\n534.2 M` PO M-F 8:30-12:30 & 1:30-3:30, Sa 8:15-10:30, 276-677-3200. 5444 Sugar Grove Hwy. Sugar Grove,\\n\\nVA 24375.\\n\\nM[36.77535,-81.41308]\\n\\nMarion, VA 24354 (6.0W)\\n\\n534.3 M` PO M-F 9am-5pm, Sa 9:30am-12pm, 276-783-5051. 200 Pearl Ave. Marion, VA 24354.\\n\\nM[36.83223,-81.51753]\\n\\nAtkins, VA.\\n\\n546.0 M` (3.0W) PO M-F 8:30am-12pm & 12:30am-3:15pm, Sa 9am-10:45am, 276-783-5551. 5864 Lee Hwy.\\n\\nAtkins, VA 24311.', metadata={'source': 'docs/white_blaze_sample_quick_info.pdf'}),\n",
       " Document(page_content='M[36.86686,-81.42051]\\n\\nBland, VA (2.5E)\\n\\n591.8 M` PO M-F 8:30am-11:30am & 12pm-4pm, Sa 9am-11am, 276-688-3751. 207 Jackson St. Bland, VA\\n\\nM[37.10026,-81.11610]\\n\\n24315.\\n\\nBastian, VA 24314 (3.0W)\\n\\n591.8 M` PO M-F 8am-12pm, Sa 9:15am-11:15am, 276-688-4631. 178 Walnut St. Bastian, VA 24314.\\n\\nM[37.15223,-81.15210]\\n\\nPearisburg, VA (1.3E)\\n\\n637.1 M` PO M-F 9am-4:30pm, Sa 10am-12pm, 540-921-1100. 206 N Main St. Pearisburg, VA 24134.\\n\\nM[37.32815,-80.73565]\\n\\nNarrows, VA (3.6W on VA 100)\\n\\n637.1 M` PO MF 9:30am-1:15pm & 2pm-4: 15pm, Sa 9am-11am, 540-726-3272. 305 Main St. Narrows, VA\\n\\nM[37.33101,-80.81018]\\n\\n24124. Newport, VA 24128 (8E)\\n\\n677.8 M` PO M-F 8:15am-11:30am & 12:30pm-3:15pm, Sa 9am-11pm, 540-544-7415. 119 Blue Grass Trl. New-\\n\\nM[37.29055,-80.49825]\\n\\nport, VA 24128.\\n\\nCatawba, VA. (1.0W)\\n\\n710.5 M` (1.0W) PO M-F 9am-12pm & 1pm-4pm, Sa 8:30am-10:30am, 540-384-6011. 4917 Catawba Creek Rd. M[37.38273,-80.10866]\\n\\nCatawba, VA 24070.\\n\\nDaleville, VA 24083\\n\\n730.3 M` (1.0W) from AT on route 220 to PO M-F 8am-5pm, Sa 8am-12pm, 540-992-4422. 1492 Roanoke Rd.\\n\\nDaleville, VA 24083.\\n\\nM[37.40626,-79.91291]\\n\\nTroutville, VA. (1.0E)\\n\\n731.8 M` (0.7W) from AT on Hwy 11 to PO M-F 9am-12pm & 1pm-5pm, Sa 9am-11am, 540-992-1472. 4952 Lee M[37.41261,-79.88091]\\n\\nHwy. Trouteville, VA 24175.\\n\\nBuchanan, VA (downtown) (5.0W)\\n\\n751.9 M` PO M & Th 9am-7pm; Tu, W, F 9am-5pm; Sa 9am-1pm, 540-254-2538. 19698 Main St. Buchanan, VA\\n\\n24066.\\n\\nM[37.52706,-79.68010]\\n\\n286 -\\n\\nShelters W+ t{18} s{12} Ep J{2}`\\n\\n0.2\\n\\n2.8\\n\\nw+t{3} s{16} EpJ`\\n\\n(0.2E) Springer Mountain Shelter>2.6>>7.9>>>15.5 w Water (spring) 80 yards on a blue blazed trail in front of the shelter but is known to go dry, t tenting, p privy, J 2 bear boxes. + Benton MacKaye Trail (southern terminus) is +[34.62864,-84.19445] s[34.62933,-84.19275] located 50 yards north on the AT. (0.1E) 2.6<Stover Creek Shelter>5.3>>12.9>>>24.9 w Water behind shelter is often dry but good water can be found where trail crosses Stov- er Creek 100 yards north of shelter, t tent pads, p privy, J bear cables.\\n\\n3730\\n\\n2954\\n\\n2196.3\\n\\n8.1\\n\\n15.7\\n\\nw+t s{16} EpJ` w+ t{12} s{14} EpJ`\\n\\n+[34.65007,-84.19790] s[34.65028,-84.19720]', metadata={'source': 'docs/white_blaze_sample_quick_info.pdf'}),\n",
       " Document(page_content='(0.2W) 7.9<<5.3<Hawk Mountain Shelter>7.6>>19.6>>>20.8 w Water is located 400 yards on a blue blazed trail behind the shelter, t tent pads, p privy, J bear cables. (0.1W) 15.5<<<12.9<<7.6<Gooch Mountain Shelter>12>>13.2>>>22.3 w Water (spring) is located 100 yards behind the shelter, t tent pads that can accommo- date two tents each, p privy, J bear box.\\n\\n+[34.66467,-84.13702] s[34.66608,-84.13638]\\n\\n+[34.65492,-84.04948] s[34.65573,-84.04998] w[34.65652,-84.04954]\\n\\n3194\\n\\n3000\\n\\n2193.7\\n\\n2188.4 2180.8\\n\\n27.7\\n\\n28.9\\n\\n38.0\\n\\n42.8\\n\\nW+t s{7} EpJ`\\n\\ns{8} pZv`\\n\\nw+Z t{3}s{7} EpJv `\\n\\nws{7} t{4} EpJ`\\n\\nBird Gap (0.4W) 24.9<<<19.6<<12<Woods Hole Shelter>1.2>>10.3>>>15.1 W Water (stream) on trail to shelter is unreliable in dry months, p privy, t tenting, J bear cables. Bird Gap, Freeman Trail just east bypasses Blood Mtn. and rejoins AT at Flatrock Gap. Blood Mountain, open rocky summit. 20.8<<<13.2<<1.2<Blood Mountain Shelter>9.1>>13.9>>>21.2 Shelter is located south of summit, no water at shelter, p privy, view. | Fires are not permitted. Crest Wildcat Mountain. (1.2E) 22.3<<<10.3<<9.1<Whitley Gap Shelter>4.8>>12.1>>>20.2 w Water (spring) located (0.2) beyond shelter, p privy, J bear cables. (0.1E) beyond shelter to t tent sites. (190 yds E) 15.1<<<13.9<<4.8<Low Gap Shelter>7.3>>15.4>>>22.8 w Water located 30 yards in front of shelter, t tenting, p privy, J bear cables. | Last reliable water heading SOBO until Neels Gap (11.5 miles)\\n\\n+[34.73706,-83.94835] s[34.73713,-83.95500]\\n\\ns[34.73998,-83.93738]\\n\\n+[34.72476,-83.84102] s[34.71238,-83.83440]\\n\\n+[34.77659,-83.82627] s[34.77626,-83.82450]\\n\\n3650\\n\\n4461\\n\\n3370\\n\\n3050\\n\\n2168.8\\n\\n2167.6 2158.5\\n\\n2153.7\\n\\n50.1\\n\\n58.2\\n\\n65.6\\n\\n73.7\\n\\n+ws{7} t{4} EpJ` +wt{3} s{7} EpJ` +wt{4} s{12} EpJ`\\n\\nw+t{6} s{14}E pJ|`\\n\\n(0.1W) 21.2<<<12.1<<7.3<Blue Mountain Shelter>8.1>>15.5>>>23.6 w (No potable water) at shelter, w water (spring) located (0.1) south of shelter on AT, t +[34.81665,-83.76706] s[34.81721,-83.76673] tenting, p privy, J bear cables. (230 yds W) 20.2<<<15.4<<8.1<Tray Mountain Shelter>7.4>>15.5>>>22.8 w Water (box spring) located 50 yards behind shelter, t tenting, p privy, J bear cables. +[34.80283,-83.67857] s[34.80396,-83.67690] w[34.80491,-83.67568]', metadata={'source': 'docs/white_blaze_sample_quick_info.pdf'}),\n",
       " Document(page_content='(0.3E) 22.8<<<15.5<<7.4<Deep Gap Shelter>8.1>>15.4>>>20.3 w Water (spring) is located (0.1) south on the trail to the shelter, t tenting, p privy, J bear cables. +[34.88539,-83.64790] s[34.88249,-83.64597] w[34.88313,-83.64719] Plumorchard Gap. (0.2E) 23.6<<<15.5<<8.1<Plumorchard Gap Shelter>7.3>>12.2>>>19.8 w Plumorchard Creek is on the shelter trail, beyond the shelter. t tenting, p privy, J bear cables. | Caution the stump in front of the shelter has been home to copperhead snakes. w Water located 200 yards west on AT beyond shelter.\\n\\n3900\\n\\n4200\\n\\n3550\\n\\n3050\\n\\n2146.4\\n\\n2138.3\\n\\n2130.9\\n\\n81.0\\n\\n85.9\\n\\n93.5\\n\\n102.2\\n\\n105.6\\n\\n113.1\\n\\n120.4\\n\\nw+ s{8} t Ep`\\n\\nwts{8} Ep`\\n\\nwts{8} Ep`\\n\\nw+t{5} s{16} Ep` W+s{8} Ep`\\n\\nw+ s{8} t pJ`\\n\\nw+s{8} t{5} Ep`\\n\\n+[34.94607,-83.59118] s[34.94603,-83.58830]\\n\\n(100 ft E) 22.8<<<15.4<<7.3<Muskrat Creek Shelter>4.9>>12.5>>>21.2 w Water (spring) is located behind shelter, t tenting, p privy. s[35.02053,-83.58160] 4600 (250 ft E) 20.3<<<12.2<<4.9<Standing Indian Shelter>7.6>>16.3>>>19.7 w Creek that serves as the water source for shelter is on the opposite side of the AT from s[35.04200,-83.54806] the shelter. t tenting, p privy. (100 ft E) 19.8<<<12.5<<7.6<Carter Gap Shelter>8.7>>12.1>>>19.6 w Water (spring) is located 200 yards west on blue blaze trail, t tenting, p privy.\\n\\n4760\\n\\n4540\\n\\ns[34.99898,-83.49413]\\n\\n(0.1W) 21.2<<<16.3<<8.7<Long Branch Shelter>3.4>>10.9>>>18.2 w Water, t tent sites, p privy. (300 ft W) 19.7<<<12.1<<3.4<Rock Gap Shelter>7.5>>14.8>>>19.6 water (spring) is known to go dry, privy. Southern end of blue blaze of Siler Bald Loop (0.5E) 19.6<<<10.9<<7.5<Siler Bald Shelter>7.3>>12.1>>>17.9 w Water (spring) is located 300 feet south of shelter on loop trail, t tenting, p privy, J bear cables but non funtional, south end of loop trail to shelter. s[35.14413,-83.57250] (100 ydsE) 18.2<<<14.8<<7.3<Wayah Shelter>4.8>>10.6>>>15.5 Shelter on AT. w Water (Little Laurel Spring) is located (546FT W) on blue blaze trail across s[35.18784,-83.56201 ] from shelter side trail, t tent sites, p privy. w[35.18624,-83.56355]\\n\\n+[35.06941,-83.49706] s[35.06996,-83.49815] 4932\\n\\ns[35.09143,-83.52310] 3760\\n\\n4600\\n\\n4480\\n\\n2122.8\\n\\n2115.5\\n\\n2110.6\\n\\n2103.0\\n\\n2094.3\\n\\n2090.9\\n\\n2083.4\\n\\n2076.1\\n\\n291 -', metadata={'source': 'docs/white_blaze_sample_quick_info.pdf'}),\n",
       " Document(page_content='Slang 2000-Miler = A person who has hiked the entire distance of the trail either by th- ru-hiking or section hiking. Also known as an End-to-ender. Alpine Zone = The area consisting of all the land above tree line in New England. (See: Treeline). AMC = The “Appalachian Mountain Club” has a huge presence in the White Mountains of New Hampshire, as well as throughout some of the more popular backcountry destinations across New England. The run a number of high-end Huts. AT, A.T. =The Appalachian Trail. AYCE = All You Can Eat Restaurants that offer all you can eat buffets are very popular with hungry hikers. AYH = The abbreviation for American Youth Hostels. Bald = A low elevation mountain surrounded by forest yet devoid of trees on the crown. Typically covered with meadows, balds can offer great views and are a good place to find wild berries, they also attract much wildlife. A southern term. Base Weight = The weight of your backpack plus all the gear that’s inside it, but not counting consumables like food, water and fuel. Bear bag = The bag used by hikers to hang their food out of reach of bears and other critters. Bear cable = A permanent cable rigged high between two trees specifically for hanging bear bags. Blow-down = A tree or shrub that has fallen across the Trail. Blue blaze = Spur trails off the AT. Leading to shelters, views, water sources etc. are often marked by AT style blazes painted Blue. Blue-blazer = A long-distance hiker who substitutes a section of blue-blazed trail for a white-blazed section between two points on the Trail. Bog bridge = Narrow wooden walkway placed to protect sensitive wetlands. (See: Puncheon). Bounce box = A mail-drop type box containing seldom used necessities that is ‘bounced’, (mailed), ahead to a town where you think you might need the contents. Brown-blazing = Taking an off-trail detour to take a dump. Bushwhack = To hike where there is no marked trail. Cache = A Cache is a place where you store gear, food and other supplies before a long trip. The Cache is usually on or near the trail, allowing you to resupply when you reach it. Cairn = A structure made of rocks used to mark a trail where trees aren’t present for Blazes, like in Alpine Zones. Some are just loose piles while others are more decorative. Camel Up = Cameling Up is a process to help you stay hydrated without needing to carry lots of heavy water bottles during your hike. When you reach a water source, you refill quickly -- usually with an inline', metadata={'source': 'docs/white_blaze_sample_quick_info.pdf'}),\n",
       " Document(page_content='filter like a Sawyer Mini -- and then gulp down all the water immediately before heading off down the trail again. This allows you to get the water into your system quickly while avoiding the need to carry heavy, full water bottles (2.2 pounds per liter!) on the hike. A technique commonly used by Ultralight hikers. Cat Hole = A small hole dug by a hiker for the deposit of human waste when Brown-blazing. CDT = The “Continental Divide Trail,” a 3,100 mile long trail, following the Continental Divide along the Rocky Mountains and traversing Montana, Idaho, Wyoming, Colorado, and New Mexico. Col and Sag = Typically dips in the ridge without a road, while Gap and Notch are typically larger dips that have a road going through. Sag is a typically southern term, as is Gap, while Col and Notch are typically northern terms. Water Gap, is of course, a Gap with a river. Col and Notch are typically northern terms. Water Gap, is of course, a Gap with a river.', metadata={'source': 'docs/white_blaze_sample_quick_info.pdf'}),\n",
       " Document(page_content='305 -', metadata={'source': 'docs/white_blaze_sample_quick_info.pdf'})]"
      ]
     },
     "execution_count": 3,
     "metadata": {},
     "output_type": "execute_result"
    }
   ],
   "source": [
    "chunks"
   ]
  },
  {
   "cell_type": "code",
   "execution_count": null,
   "metadata": {},
   "outputs": [],
   "source": [
    "import tqdm\n",
    "import json\n",
    "\n",
    "\n",
    "def create_dense_props(chunk):\n",
    "    \"\"\"Create dense representation of raw text content.\"\"\"\n",
    "    # The system message here should be HEAVILY customized for your specific use case\n",
    "    SYSTEM_PROMPT = \"\"\"\n",
    "    You are a helpful PDF extractor tool. You will be presented with segments from\n",
    "    a pdf trail guide of the Appalachian Trail.\n",
    "\n",
    "    Decompose and summarize the raw content into clear and simple propositions,\n",
    "    ensuring they are interpretable out of context. Consider the following rules:\n",
    "    1. Split compound sentences into simpler dense phrases that retain existing\n",
    "    meaning.\n",
    "    2. Simplify technical jargon or wording if possible while retaining existing\n",
    "    meaning.\n",
    "    2. For any named entity that is accompanied by additional descriptive information,\n",
    "    separate this information into its own distinct proposition.\n",
    "    3. Decontextualize the proposition by adding necessary modifier to nouns or\n",
    "    entire sentences and replacing pronouns (e.g., \"it\", \"he\", \"she\", \"they\", \"this\", \"that\")\n",
    "    with the full name of the entities they refer to.\n",
    "    4. Present the results as a list of strings, formatted in JSON, under the key \"propositions\".\n",
    "    \"\"\"\n",
    "\n",
    "    response = openai.OpenAI().chat.completions.create(\n",
    "        model=CHAT_MODEL,\n",
    "        response_format={ \"type\": \"json_object\" },\n",
    "        messages=[\n",
    "            {\"role\": \"system\", \"content\": SYSTEM_PROMPT},\n",
    "            {\"role\": \"user\", \"content\": f\"Decompose this raw content using the rules above:\\n{chunk.page_content} \"}\n",
    "        ]\n",
    "    )\n",
    "    res = response.choices[0].message.content\n",
    "    return json.loads(res)[\"propositions\"]\n",
    "\n",
    "\n",
    "\n",
    "props = [\n",
    "    create_dense_props(chunk) for chunk in tqdm.tqdm(chunks)\n",
    "  ]"
   ]
  },
  {
   "cell_type": "markdown",
   "metadata": {},
   "source": []
  }
 ],
 "metadata": {
  "kernelspec": {
   "display_name": "Python 3",
   "language": "python",
   "name": "python3"
  },
  "language_info": {
   "codemirror_mode": {
    "name": "ipython",
    "version": 3
   },
   "file_extension": ".py",
   "mimetype": "text/x-python",
   "name": "python",
   "nbconvert_exporter": "python",
   "pygments_lexer": "ipython3",
   "version": "3.11.7"
  }
 },
 "nbformat": 4,
 "nbformat_minor": 2
}
