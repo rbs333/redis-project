{
 "cells": [
  {
   "cell_type": "code",
   "execution_count": 81,
   "metadata": {},
   "outputs": [],
   "source": [
    "from langchain.text_splitter import RecursiveCharacterTextSplitter\n",
    "from langchain.document_loaders import UnstructuredFileLoader\n",
    "import openai\n",
    "import os\n",
    "import json\n",
    "from redisvl.utils.vectorize import HFTextVectorizer\n",
    "from dotenv import load_dotenv\n",
    "from redisvl.redis.utils import array_to_buffer\n",
    "\n",
    "\n",
    "env_path = \"../\"\n",
    "load_dotenv(env_path)\n",
    "\n",
    "\n",
    "class Settings:\n",
    "    BASE_PATH = \"/data\"\n",
    "    CHAT_MODEL = \"gpt-3.5-turbo-0125\"\n",
    "    CHUNK_SIZE = 2500\n",
    "    CHUNK_OVERLAP = 10\n",
    "    VECTORIZER = \"sentence-transformers/all-MiniLM-L6-v2\"\n",
    "    REDIS_INDEX_NAME = \"at_tool_redis\"\n",
    "\n",
    "settings = Settings()\n",
    "\n",
    "class Context:\n",
    "    def __init__(self, docs):\n",
    "        self.docs: list[str] = docs\n",
    "        self.chunks: list[str] = self.get_chunks()\n",
    "        self.metadata: list[str] = self.create_metadata()\n",
    "        self.propositions: list[str] = self.create_propositions()\n",
    "        self.embeddings = self.create_embeddings()\n",
    "\n",
    "        if not (len(self.chunks) == len(self.propositions) == len(self.embeddings)):\n",
    "            raise ValueError(\"Chunk, embedding, and proposition lengths do not match\")\n",
    "\n",
    "    def get_chunks(self):\n",
    "        \"\"\"Load and split data from docs into chunks\"\"\"\n",
    "\n",
    "        \"\"\"\n",
    "        Note: right now for simplicity all chunks of documents go into one list \n",
    "        but this could be extended to different data structure. For example, could store \n",
    "        in dict where doc_name is the key to chunks etc\n",
    "        \"\"\"\n",
    "\n",
    "        chunks = []\n",
    "\n",
    "        for doc in self.docs:\n",
    "            chunks.extend(self.load_and_split(doc))\n",
    "\n",
    "        return chunks\n",
    "\n",
    "    def create_metadata(self):\n",
    "        \"\"\"TODO: store metadata of chunks page number etc.\"\"\"\n",
    "\n",
    "    def create_propositions(self):\n",
    "        \"\"\"this takes the chunks and makes them better for later use\"\"\"\n",
    "        return [self.create_proposition(chunk) for chunk in self.chunks]\n",
    "\n",
    "    @staticmethod\n",
    "    def create_proposition(chunk):\n",
    "        \"\"\"this takes the chunks and makes them better for later use\"\"\"\n",
    "\n",
    "        SYSTEM_PROMPT = \"\"\"\n",
    "          You are a trail guide tool. Segments of a raw pdf containing tables, information text, and maps of the Appalachian Trail.\n",
    "\n",
    "          Create a clear proposition from the data which includes all potentially important information on the location of shelters, mile markers, etc.\n",
    "\n",
    "          Return the proposition as a single string with key proposition in a json like so: {\"proposition\": \"single string\"}\n",
    "        \"\"\"\n",
    "\n",
    "        response = openai.OpenAI().chat.completions.create(\n",
    "            model=settings.CHAT_MODEL,\n",
    "            response_format={\"type\": \"json_object\"},\n",
    "            messages=[\n",
    "                {\"role\": \"system\", \"content\": SYSTEM_PROMPT},\n",
    "                {\n",
    "                    \"role\": \"user\",\n",
    "                    \"content\": f\"Decompose this raw content using the rules above:\\n {chunk} \",\n",
    "                },\n",
    "            ],\n",
    "        )\n",
    "\n",
    "        res = response.choices[0].message.content\n",
    "        return json.loads(res)[\"proposition\"]\n",
    "\n",
    "    def create_embeddings(self):\n",
    "        \"\"\"this converts the propositions into vectors\"\"\"\n",
    "\n",
    "        hf = HFTextVectorizer(settings.VECTORIZER)\n",
    "\n",
    "        return hf.embed_many([proposition for proposition in self.propositions])\n",
    "\n",
    "    def get_redis_data(self):\n",
    "        \"\"\"this takes the data and makes it ready for inserting into DB\"\"\"\n",
    "\n",
    "        return [\n",
    "            {\n",
    "                \"chunk_id\": f\"{i}\",\n",
    "                \"raw_content\": chunk.page_content,\n",
    "                \"proposition\": self.propositions[i],\n",
    "                # convert embeddings to bytes for hash\n",
    "                \"text_embedding\": array_to_buffer(self.embeddings[i]),\n",
    "            }\n",
    "            for i, chunk in enumerate(self.chunks)\n",
    "        ]\n",
    "\n",
    "    @staticmethod\n",
    "    def load_and_split(\n",
    "        doc, chunk_size=settings.CHUNK_SIZE, chunk_overlap=settings.CHUNK_OVERLAP\n",
    "    ):\n",
    "        loader = UnstructuredFileLoader(doc, mode=\"single\", strategy=\"fast\")\n",
    "\n",
    "        # providing some chunk_overlap for help with summarization\n",
    "        text_splitter = RecursiveCharacterTextSplitter(\n",
    "            chunk_size=chunk_size, chunk_overlap=chunk_overlap\n",
    "        )\n",
    "\n",
    "        return loader.load_and_split(text_splitter)"
   ]
  },
  {
   "cell_type": "code",
   "execution_count": 71,
   "metadata": {},
   "outputs": [],
   "source": [
    "docs = [f\"../{settings.BASE_PATH}/docs/white_blaze_sample_quick_info.pdf\"]\n",
    "c = Context(docs)\n",
    "\n",
    "assert len(c.embeddings) == len(c.chunks) == len(c.propositions)"
   ]
  },
  {
   "cell_type": "code",
   "execution_count": 74,
   "metadata": {},
   "outputs": [],
   "source": [
    "from redisvl.redis.utils import array_to_buffer\n",
    "\n",
    "redis_data = [\n",
    "  {\n",
    "      \"chunk_id\": f\"{i}\",\n",
    "      \"raw_content\": chunk,\n",
    "      \"proposition\": c.propositions[i],\n",
    "      # convert embeddings to bytes for hash\n",
    "      \"text_embedding\": array_to_buffer(c.embeddings[i]),\n",
    "  }\n",
    "  for i, chunk in enumerate(c.chunks)\n",
    "]"
   ]
  },
  {
   "cell_type": "code",
   "execution_count": 75,
   "metadata": {},
   "outputs": [
    {
     "data": {
      "text/plain": [
       "[{'chunk_id': '0',\n",
       "  'raw_content': Document(page_content='Resupply\\n\\nResupply locations along the Appalachian Trail ATTENTION: For more detailed information read write-up under mileage in book and see maps. Shaded entries are 1.0 miles or less from the Appalachian Trail that are full resupplies or PO’s.\\n\\n~Designates map available = e Location Suches, GA~e Neel Gap, GA Blairsville, GA Dahlonega, GA Helen, GA~e Hiawassee, GA~e Franklin, NC~e NOC, NC~e Stecoah Gap, NC (NC. 143)~e Robbinsville, NC~e Fontana Village, NC~e Gatlinburg, TN~e Cherokee, NC Davenport Gap, TN~e Green Corner Road~e Hot Springs, NC~e Log Cabin Rd~e Sams Gap, TN~e Uncle Johnny’s Nolichucky Hostel~e Erwin, TN~e Elk Park, NC~e Roan Mountain, TN~e Scotty’s Budget Hostel Dennis Cove, TN~e Shook Branch Road~e Hampton, TN~e Shady Valley, TN~e Damascus, VA~e Troutdale, VA~e Sugar Grove, VA\\n\\nNOBO Mile 20.5 31.3 31.3 31.3 52.5 69.2 109.4 136.7 150.5 150.5 165.9 207.7 207.7 239.2 241.5 274.9 291.2 319.7 344.3 344.3 395.3 395.3 407.4 420.0 428.5 428.6 455.7 470.7 520.2 534.3 534.3 Marion, VA~e Atkins, VA~e 546.0 Quarter Way Inn 555.8 VA. 42/W Blue Grass Trail~e 558.3 Saint Luke’s Hostel 576.0 Bland, VA~e 591.8 Bastian, VA 591.8 VA. 606 610.2 Sugar Run Gap, VA~e 625.4 Narrows, VA 637.1 Pearisburg, VA~e 637.1 Newport, VA 677.8 Catawba, VA~e 704.6 Daleville, VA~e 730.3 Troutville, VA~e 731.8 Buchanan, VA~e 751.9 Jennings Creek Road, VA. 614~e 758.5 Big Island, VA 787.3\\n\\nSOBO Mile (2.0W) gM 2176.0 G 2165.2 On Trail (14.0W) GM 2165.2 (17.0E) GM 2165.2 (9.0E) GM 2144.0 (11.0W) GM 2127.3 (10.0E) GM 2087.1 G 2059.8 On Trail G 2046.0 (3.4E) (7.0W) GM 2046.0 (2.0W) GM 2030.6 (15.0W) GM 1988.8 (18.0E) GM 1988.8 g 1957.3 (1.2E) g (0.1W) 1955.0 On Trail GM 1921.6 G 1905.3 (0.7W) g (2.7W) 1873.4 G 1852.2 On Trail (3.8W) GM 1852.2 M 1801.2 (2.3E) (3.5W) GM 1801.0 g (0.25W) 1789.1 G 1776.5 On Trail g (0.1W) 1768.0 (2.6W) GM 1767.9 gM 1740.8 (2.7E) On Trail GM 1725.8 (2.6E) GM 1676.3 M 1662.2 (3.2E) M 1662.2 (6.0W) On Trail gM 1650.5 G 1640.7 (0.3W) g (0.2E) 1638.2 G 1620.5 (5.1W) (2.5E) GM 1604.7 (3.0W) gM 1604.7 g (0.5W) 1586.3 G 1571.1 (0.5E) (3.6W) GM 1559.4 (1.3E) GM 1559.4 (8.0E) GM 1518.7 (0.4W) GM 1491.9 On Trail GM 1466.2 M 1464.7 (1.0E) (5.0W) gM 1444.6 g (1.2E) 1438.0 gM 1409.2 (5.6E) - 282 -\\n\\nFrom\\n\\ntrail head Options\\n\\nPost Offices\\n\\nSuches, GA (2.0W)\\n\\n20.5 M` PO M–F 12:15pm - 4:15pm, Sa-SU Closed. 706-747-2611. 72078 State Highway 60\\n\\nSuches, GA 30572.\\n\\nM[34.69004,-84.02210]\\n\\nHelen, GA 30545 (9.0E)', metadata={'source': '..//data/docs/white_blaze_sample_quick_info.pdf'}),\n",
       "  'proposition': '{\"proposition\": \"The Appalachian Trail provides resupply locations including full resupplies or post offices near various mile markers. Some key locations include Suches, GA (NOBO Mile 20.5), Neel Gap, GA (NOBO Mile 31.3), Fontana Village, NC (NOBO Mile 165.9), Damascus, VA (NOBO Mile 395.3), and Daleville, VA (NOBO Mile 704.6). The trail also offers options like Uncle Johnny’s Nolichucky Hostel near Erwin, TN and Troutville, VA near Daleville. Specific shelter information and post office hours can be obtained by referring to the detailed information available in the provided book and maps.\"}',\n",
       "  'text_embedding': b'6\\xbbQ\\xbc\\xbbh\\xae<\\xf3\\xe6\\x03\\xbd#\\xdf\\x0c=\\x9b\\x0cQ\\xbdF\\x9a\\xbf<K\\xb2\\xcf\\xbdc\\x92@\\xbc\\x90\\xd7}\\xbdZ\\x93\\xc2<P+D=\\n\\xf0\\xcf;\\xdeU\\x0f\\xbd\\xd3!\\x1c\\xbd\\xf7b\\x95\\xbc\\xca\\x89]=\\x8b\\x05\\xd2=\\xcb\\xa2\\'=#9S=H\\x88\\xa4\\xbd\\xfa\\x05\\xc2=q\\x12a=+\\x87\\xc0=)\\xcf\\xde\\xbc\\x08g\\x03=\\xe4\\x08\\x0b\\xbd\\xe4_\\xc2\\xbdT\\xe5O=?\\xbe~<\\x99E\\xf3<\\xdc\\xaaQ<\\x07\\xbai\\xbdU\\xbc\\xfd\\xbc\\xe6c{\\xbcA\\x02\\x1e>\\xa9\\xe0|=\\xcc.\\xc3;\\x1f=\\x0f=\\t\\xedW\\xbb\\x96\\x11H\\xbc\\x80Ec=W\\x873<\\xf2K$\\xbd\\xfaP/=\\xd1\\xe3\\x1f\\xbd\\x86\\x85m\\xbc\\xfa\\t\\x98\\xbcy2\\x88=\\x87!\\x9e<P\\x18\\xa6\\xbc\\xf1\\xbd\\xa2=s\\x8e=\\xbc\\r\\xfa\\xb8\\xbd\\x83\\xfc\\xdb9\\xfc#n\\xbd8w\\xea<\\xc8]C\\xbd\\xeb;\\xff\\xbc\\x95\\xdb\\x8e\\xbd\\x02\\x1a\\xc0\\xbcZ(\\xc7<\\x9e\\xc1m<D-\\x96\\xbd\\xc6\\x17\\x11<\\x02\\xde\\x8d<\\x9cb\\x8f=\\xe6W\\xcc\\xbcR\\xee\\x11\\xbdm\\xb8P<g\\x83!\\xbe/\\xfau<\\xc4\\xc1\\r\\xbd\\xfa\\x9a\\x9c\\xbcZB\\x12\\xbd-s\\x0e<\\xcay3=\\xc1\\xa1\\xe5<\\xf8]!>\\x9c\\x1f\\xe0<U\\x7fx\\xbd\\x12\\x9e\\xb5\\xbc\\xed\\x14\\x83<\\x1bV\\x84<\\xf5\\xca\\x8e=\\x90\\x93\\x10\\xbdE5\\xd2\\xbc9\\x8eK\\xbdm}\\xd3<W\\xe3\\x81=:\\xde_\\xbd\\x80\\xa7\\xec<\\xbf\\x86\\xe0\\xbcm\\xa7\\xe2\\xbd\\xb1\\x17\\x14\\xbd\\x18\\x02\\xe3\\xbd*2T;\\xa6\\x9d\\'\\xbd\\xf4\\x0bG=\\xacwA\\xbd\\xe0_\\xe1\\xbcF\\x01#=\\xf2\\xcc\\xca\\xbd\\xadd\\x9a\\xb9\\xb1\\xdbd\\xbd\\x9f\\xe8\\xd8\\xbc\\xbd\\xc6\\xa6\\xbb\\xe6\\xffI\\xbd\\xdc|\\x04<\\xf2a\\x99\\xbcc\\xe0C=\\xfd\\xfc\\x91;\\x9e\\xaf6\\xbc\\x14u\\x93<\\xf82\\xa1=\\xa4\\xa8\\xd9<\\x12\\xcf\\x08\\xbc\\x7f6\\x1e\\xbbS\\x93g:Kna=\\xa0n:\\xbd\\xd0\\x8c\\xea\\xbd\\xdc~\\xc1<\\x98\\xe9\\xa7=\\x1d\\x97\\x83\\xbd\\xd1\\xc7\\xc1\\xbc\\xba\\t><\\xbdn\\xbb<y\\x9a\\x83\\t;\\xac5=:\\xe8\\xf6<\\x88bY=\\xee\\xc4\\t=l;;<\\xf8\\xec\\x9f\\xbc\\xca.\\x14\\xbdS\\x94\\xcb\\xbc\\xf1%\\x0f\\xbd)C\\xb7;/\\xe3];\\x00\\xce;\\xbd\\xd0\\x19\\x82=\\xdb\\xeb\\xa8<`i\\x02;\\xba\\x1a\\xb6:\\x14\\x98\\x9c;\\xf4\\x060\\xbdN\\tY<XM\\xbc\\xbc`\\x06v\\xbdC\\x8f\\x0e\\xbdc\"\\xde\\xbcD\\x0e\\xf8<Jl$=5d\\x89\\xbb\\x90\\x85\\x8c\\xbdm5o=u>\\xfe\\xbdq\\xff\\xad<\\x16\\xf7\\xc3\\xbc~\\\\\\xb6;1\\x94^=\\xef\\xca\\xc1\\xbd\\xa9\\x7f\\x98=\\xe6<\\xc1<\\xf3\\xa2\\x95<\\xc3\\xf6\\x05\\xbdg\\x915\\xbc\\xcd\\xce\\\\\\xbc\\x9f\\x17a<\\xaatG<\\x99\\xbdc;\\xd0\\x8a\\xab<\\x97\\xd1\\xfb<\\xe8\\xa0l=\\x9d\\xb9\\xf2=\\xef)\\xe4<1(^=\\x1c\\\\\\'<-p\\xf3;s\\xf0\\x8e<\\xd82\\xbb\\xbc\\x1e\\x80l\\xbd\\xef\\x1d\\xde\\xbd\\xc6.!=\\x93\\x91g<\\x02\\x91-\\xbc\\\\\\xb1\\x94=\\xe9\\n\\x93<\\x0b\\x83\\xcb=\\xc2\\xc7l=\\x92z];\\x10`\\x88\\xbd\\x8c\\xbd\\xd6\\xbc\\xa6\\x1a\\x15\\xbe\\x10\\xb9\\xcb\\xbc\\xf9\\x8c\\xa4<\\x1d\\xfeG=\\x05\\x1c\\xe7;.<\\xa7<.\\x81\\xe5\\xba\\xa9\\xb0\\xdf<\\xbd\\xf47=\\xbc\\xef\\x87=\\xad2\\xed\\xbc\\r\\xe0\\xaf<s\\xdf|=\\xfc\\x80\\x08=\\xe0\\x96N\\xbdj\\x04\\xcc<\\'|\\xab\\xbd\\x83g\\xa1\\xbd\\xf0\\x19\\x03=\\x82\\xbe\\x99=\\xd1i\\xd3\\xbd\\xb8\\xc3\\xa4\\xbc\\xcd\\xb9-\\xbdb\\xbf?\\xbddv\\\\\\xbdmU\\xb7<+\\xe4F=\\xdb\\xb7\\x97\\xbd\\xacQ\\x9f\\xbd\\xf4\\x84\\x86=I\\xb1\\xc8\\x89k\\xda\\x8e=b\\xf9b\\xbd\\x89\\x82B=\\xc3o\\xfb\\xbcB\\xd3\\xf6\\xbb\\n\\x81c\\xbd\\xa6\\n>=\\x99\\xe5a\\xbd\\xcd\\xc3\\xce=\\xe6\\xe8\\x05<L\\x84\\x02\\xbe\\xaev\\xe4\\xbc^\\xee\\xb8=:\\xcb%;\\x9a\\xfe\\x1b<\\xad\\x9a =\\xf7j\\x08\\xbd\\x9d\\x17\\xa4<\\xaf\\xc4W;\\xeaS\\x86\\xbbs\\xfd\\x8a\\xbd\\x14E\\xfc\\xbc\\xd1\\r\\x11:;zL\\xbdN\\x10\\xc8<V!\\xe5\\xbbpm\\x12\\xbd\\x8a9\\x1c=D*2<0\\xf09\\xbc\\xd0V\\x0f<eLC\\xbc\\x9d{y\\xbc\\xdc\\xfe$\\xbc\\xa5\\xc7\\xce\\xbd\\xbc7y9-\\x1a\\x8b=\\xa8\\xe7\\x9f\\xbc9\\xfc5=V\\xcd\\x08\\xbd\\xfd|\\xf3=o\\x02\\x8c<EK\\xfb<\\xba\\xddJ;21\\x0c=\\xe5\\x96o=j\\xcaV\\xbd\\xc9\\x11\\x1f\\xbc\\xa1\\xeb\\x17\\xbeL\\xab@=\\x82\\xfcY= \\xd9\\x8d=\\xff7\\x86\\xbd\\xfcq\\xe2=\\xb7N\\x1a=\\x91\\t#=\\x8c\\xc9`\\xbc\\x97:)\\xbd\\xc9\\xb9!\\xbc\\x9f\\x11b\\xbd\\x7f\"!\\xbd\\xd5\\xceq<\\x82\\n\\x02\\xbdv\\xfb\\x9a=\\xdb@Y=\\xdf\\x03h\\xbd\\x08e\\xa2<\\xaf+\\xbf\\xbc\\xb1s\\xdc\\xbd\\x15\\r\\x99\\xba\\x90\\xbb\\xc4\\xbd\\xe4\\xa0D\\xbd*\\x02\\x90\\xbc\\x19\\xdd\\xde\\xbd\\x82\\xc4\\x95\\xbd\\xa4\\xf3\\x8f=\\x02\\xa62=\\xb5|\\x8f\\xbaZ\\x9c\\xe3\\xbc\\x82\\xdd^\\xbd\\xf8Y_\\xbde\\xbf\\x82\\xbcf\\xc1A\\xbd9.\\xef\\xb8N(\\xdd<\\xc9\\x9b\\x08=\\x18\\x84\\xac;\\xac\\x00 \\xbd\\xda\\x00\\xed\\xbb}\\xa1\\x8a=>\\x9d\\x9b\\xbc\\xed\\x00&=\\x87C\\xa4\\xbd\\xa88\\x1e=\\xbc\\x97\\xd2\\xbdxHN\\xb3\\xca\\xe4\\xe4<rc\\x14>J\\xbe\\x13\\xbc\\x16X\\xb0\\xbca\\x98\\x9b=\\x96`\\xed<*f\\xb3=\\xc8F\\x8f=\\xa6\\xae\\xc2<\\'\\xdf\\xde=X!^=P0Z\\xbb\\xf3A\\x99:\\xc8\\x89Z=\\xdc\\xbfs\\xbd\\x0b\\x84\\xa4<\\xcd\\xb8m\\xbc%j\\x81\\xbd\\xb7\\x15\\xef\\xbc\\x13\\x0c-<\\xde\\x0e\\x9d\\xbd\\x93\\xfd\\xfb<*\\xa6\\xed\\xbb~\\x95U=\\xc0_>=\\x82\\xea\\x00\\xbd\\x12\\xcc\\x83<k^\\xf5<cZ\\xd0=8j\\xd2\\xbc1\\xce\\x9d\\xbb)U\\x0b=l\\xab\\xe8<\\xf1F[\\xbc4\\xb3\\x96\\xbc\\xe1\\x07\\x90\\xbc}\\xf3Z\\xbd\\x089]=Y1\\xf0<\\x95\\xe0\\xa1=\\xd5NP\\xbc\\x8d\\x19\\x95\\xbc\\xd4\\x98\\x9d<\\x04\\x0e\\xb0<\\xee\\xd14=\\xdbg\\x1b<\\x91\\xf0N<\\xafGS\\xbcX\\x7f\\xbf\\xbc\\x9f\\x99\\x9c\\xbb\\xa3\\x99\\xbf\\xbdz\\xe92\\xbd\\xf8q\\x97\\xbd\\xcd\\xbb^<\\x85\\x99_=\\x11\\x12\\x13\\xbdnw#\\xbd\\x13\\x85v\\xbdH\\xad\\x99=\\x9e\\xe5Z\\xbb\\x0e\\xdbS\\xbc\\xd7[\\x1d\\xbd\\xc8\\xcd\\'\\xbde\\xed\\'\\xbd'},\n",
       " {'chunk_id': '1',\n",
       "  'raw_content': Document(page_content='52.5 M` PO M–F 9am–12:30pm and 1:30pm-4pm, Sa 9am-12pm. 706-878-2422. 7976 S Main St. Helen, GA\\n\\n30545.\\n\\nM[34.69801,-83.71968]\\n\\nHiawassee, GA 30546 (11.0W)\\n\\n62.9 M` PO M-F 8:30am-5pm, Sa 8:30am-12pm. 706-896-4173. 118 N Main St. Hiawassee, GA 30546.\\n\\nM[34.94988,-83.75796]\\n\\nFranklin, NC 28734 (10E)\\n\\n109.4 M` PO M-F 8:30am-5pm, Sa 9am-12pm. 828-524-3219. 250 Depot St. Franklin, NC 28734.\\n\\nM[35.17885,-83.37433]\\n\\nRobbinsville, NC (7.0W) from Stecoah Gap.\\n\\n136.7 M` PO M-F 9am-4:30pm, Sa-Su Closed. 828-479-3397. 74 Sweetwater Rd. Robbinsville, NC 28771.\\n\\nM[35.32396,-83.80100]\\n\\nFontana Village, NC (2W from NC 28)\\n\\n165.9 M` PO M-F: 11:45am-3:45pm. 828-498-2315. 50 Fontana Rd. Fontana, NC 28733.\\n\\nM[35.43506,-83.82551]\\n\\nGatlinburg, TN (15.0W)\\n\\n207.7 M` PO M-F 9am-5pm, Sa 9am-11am. 865-436-3229. 1216 East Pkwy 37738. 1216 East Pkwy. Gattlinburg, M[35.72556,-83.48150]\\n\\nTN 37738.\\n\\nHot Springs, NC\\n\\n274.6 M` PO M-F 9am-11:30am & 1pm-4pm, Sa 9am-10:30am 828-622-3242. 11 Bridge St. Hot Springs, NC\\n\\n28743.\\n\\nM[35.89280,-82.82768]\\n\\nErwin, TN 37650.\\n\\n344.3 M` PO M-F 8:30-4:45, Sa 10-12, 423-743-9422. 201 N Main Ave, Erwin TN 37650.\\n\\nM[36.14673,-82.41555]\\n\\nElk Park, NC. (2.5E)\\n\\n395.3 M` (2.3E) PO M-F 9am-12:30am & 1:30pm-4pm, Sa 8am-11:30am. 828-733-5711. 153 Main St. W, Elk\\n\\nM[36.15778,-81.98004]\\n\\nPark, NC 28622. Roan Mountain, TN 37687 (3.5W)\\n\\n395.3 M` PO M-F 8am-12pm & 1pm-4pm, Sa 7:30am-9:30am 423-772-3014. 8060 US-19E, Roan Mtn, TN 37687. M[36.20021,-82.07448]\\n\\nHampton, TN 37658 (2.6W)\\n\\n428.5 M` PO M-F 7:30am - 11:30am, 12:30pm - 1:00pm. Sat-Sun Closed. 423-725-2177. 153 Main St. W. Hamp- M[36.28621,-82.16526]\\n\\nton, TN 28622.\\n\\nShady Valley, TN.(2.7E)\\n\\n455.7 M` PO M–F 8am-12pm, Sa 8am-10am, 423-739-2073. 136 Hwy 133. Shady Valley, TN 37688.\\n\\nM[36.51961,-81.92803]\\n\\nDamascus, VA. 24236.\\n\\n470.7 M` PO M-F 8:30-1 & 2-4:30, Sa 9-11, 276-475-3411. 211 N Reynolds St. Damascus, VA 24236.\\n\\nM[36.63608,-81.78988]\\n\\nTroutedale, VA 24378 (2.6E)\\n\\n520.2 M` PO M 8am-12pm, Sa 8am-11am, Su Closed. 93 Ripshin Rd. Troutedale, VA . 24378.\\n\\nM[36.70260,-81.43910]\\n\\nSugar Grove, VA 24375 (3.2E)\\n\\n534.2 M` PO M-F 8:30-12:30 & 1:30-3:30, Sa 8:15-10:30, 276-677-3200. 5444 Sugar Grove Hwy. Sugar Grove,\\n\\nVA 24375.\\n\\nM[36.77535,-81.41308]\\n\\nMarion, VA 24354 (6.0W)\\n\\n534.3 M` PO M-F 9am-5pm, Sa 9:30am-12pm, 276-783-5051. 200 Pearl Ave. Marion, VA 24354.\\n\\nM[36.83223,-81.51753]\\n\\nAtkins, VA.\\n\\n546.0 M` (3.0W) PO M-F 8:30am-12pm & 12:30am-3:15pm, Sa 9am-10:45am, 276-783-5551. 5864 Lee Hwy.\\n\\nAtkins, VA 24311.', metadata={'source': '..//data/docs/white_blaze_sample_quick_info.pdf'}),\n",
       "  'proposition': '{\"proposition\": \"The Appalachian Trail passes through various towns with post offices at mile markers 52.5, 62.9, 109.4, 136.7, 165.9, 207.7, 274.6, 344.3, 395.3, 428.5, 455.7, 470.7, 520.2, 534.2, and 534.3. Some key locations include Helen, GA; Hiawassee, GA; Franklin, NC; Robbinsville, NC; Fontana Village, NC; Gatlinburg, TN; Hot Springs, NC; Erwin, TN; Elk Park, NC; Roan Mountain, TN; Hampton, TN; Shady Valley, TN; Damascus, VA; Troutedale, VA; Sugar Grove, VA; Marion, VA; and Atkins, VA.\"}',\n",
       "  'text_embedding': b'mp\\xd7<\\xf9\\xdf\\xaa<\\xf2\\x1f8;n\\xd9D=k\\xfa\\x0e\\xbd2/+=4\\xd8\\xff\\xbc\\xf5Ra\\xbd\\x81\\xb7\\xa7\\xbd\\x8f\\xb9\\x0c=\\xa1\\x0f\\x90:K\\x9c\\xc5;;H6\\xbc\\x89w\\x98\\xbc\\x92\\x1a\\x8a\\xbc*\\xbcT=\\\\\\xa3\\xbc=\\x99\\x7f\\xd7<\\x93S\\xae=\\x90O\\xe6\\xbc\\xdf\\xfaD=q\\xdfA=\\xcc\\xf2\\x89=\\xcc50=\\xcc|F<\\xbfuM\\xbc\\x83\\xaa\\xa0\\xbd\\xb9@.=\\xa7\\x15\\n\\xbcz\\xe2\\xa2<<\\xe0\\x81\\xbd\\x96\\rC\\xbd\\xe6U\\xc8\\xbc\\xe8\\x19\\xb1<\\xf4\\xc2\\xb9=\\x88?\\x04;\\xf0O\\xb6\\xbc\\xa5\\x1a\\xd3<\\xc9\\xc2\\x11=\\n/\\x95:x\\x1d\\x8c=\\'$\\xde;\\x00\\xaaO<)JA=];\\\\\\xbc\\xa7c\\xa5\\xbb8\\xb6\\xc3\\xbc\\xc3\\xe6Y=L\\xb2\\x85;\\xb6`\\xad<m\\xb8g=\\xdc\\x8c\\x00\\xbdZ%}\\xbd\\x17<\\xa6\\xbc\\x1d\\xc01\\xbd\\x98M,\\xbd\\'\\xcd\\x8a\\xbdpL\\xaa\\xbc\\x1c\\x1a\\xf1\\xbcW\\xef#\\xbdnH\\x1c=@\\xb5C\\xbdH\\x96\\xde\\xbd*6\\x94\\xbcqZ\\x82<\\x17w%=\\x04\\xaf\\r\\xbdY\\xef\\xa7\\xbc\\xa5q><v\\xb0\\x0f\\xbe\\xba\\x15\\x02=\\xcbY\\x8f<\\xe4\\xaf\\x0e\\xbdga\"<9\\xb6\\x02=A\\xd1/<`\\xae\\x14:\\xf7#\\xa8=\\xbd\\xcaH;\\xaa\\xdb\\xc5\\xbd/\\x1aJ\\xbd\\x92\\x89~\\xbch\\x07H=\\x8b\\xc9I=\\x8a;\\xb8\\xba\\x1ex\\x18<d\\xd0P\\xbd\\x9a\\xcc1\\xbb\\x06\\x19\\xcc=\\xdf\\x12\\xb7\\xbd\\rq\\x9a\\xbb\\xce\\x7f\\x02\\xbdu\\x8b\\x9b\\xbd\\xd7{e\\xbd\\xb9\\xcd\\xb6\\xbd\\xf5\\'\\x11<Y\\xb1\\xec\\xbcD\\xc8\\xc6<\\xc5\\xe1\\x86\\xbc\\xec\\x8a\\xa2<\\x1f/4==y{\\xbd*\\x85\\xa8\\xbb\\xfa\\x8b\\x17\\xbd\\xde\\xa9\\xcb\\xbb@$\\xcb\\xbb\\x9b\\xf4\\x87\\xbd?\\x97\\x18<\\xf2\\x99\\xb5\\xbc&\\xea\\x89<;\\xaa\\x86;Z\\xd7\\xf2\\xbb\\xac\\x1e#=L\\x95t=eZV\\xb9\\x8c\\xe6\\xaf<`\\xe3\\xe5\\xbc\\xda\\xfc\\x1b=\\xdfYg=\\x85\\x86\\x07<\\xa1\\xbd\\x19\\xbe\\n\\x9e\\x1b=\\x1c&\\xa0<\\xc6\\x8ea\\xbc\\xf7\\xb57\\xbcS\\xf1\\x92;\\xd0:\\xbf<7u\\x8b\\x89\\xec\\x96N<\\xac\\xf5>\\xbckj\\xb5=\\xc1)\\x91=-\\xac\\xac<Iy\\xb0:2?\\xce\\xbc\\x9a\\x98j\\xbd\\xe4\\x13s\\xbd\\xfb\\xc8\\x7f\\xbc\\xb09\\xb0<\\x06U\\xc3\\xbdN\\x87\\xc8=t\\xa4\\xc1<\\xa5+\\x02=\\x8fF\\xbe\\xbc\\xff\\xdd\\xb3\\xbc\\xc3gy\\xbd\\xef\\xab\\xdb\\xbc\\xeaR/\\xbd]\\x84\\x11\\xbd\\xb7L\\xad\\xbb3\\x9b\\x14\\xbd\\xc1\"\\xa8\\xbc\\x15y\\x85\\xbd\\xd7\\xe4\\x93\\xbc\\xafr\"\\xbd!\\xe6\\xcf=\\x0fEl\\xbd&\\xd7#=]l\\xe4;\\xac\\xf5\\xa0\\xbc#\\x06\\xa8=\\'\\xdf>\\xbd\\xc9\\x93\\xb0=e\\x9e\\xe2<\\xe6\\x064=\\x89\\xdd\\x8e\\xbdA\\x80\\xf974\\xc9\\xac:\\xca\\xfet\\xbc\\x8f\\x05\\x88\\xbc\\x96\\x83\\r\\xbd\\xf7\\xdel=\\xea\\x87n<\\x1b\\x1c\\xae=\\x10\\xe7\\xa0=;\\xf5&;\\xa4\\x1f\\x9b<\\x0ed(\\xbb\\xdb*\\x1e\\xbd\\xc9\\xd6\\x00=SH\\xa1<\\xa6q\\xa5\\xbd\\x86\\xfc\\xb9\\xbd>\\xb9\\x12=\\xce\\x9d\\xb2\\xbc2\\x046\\xbc\\xb9+l=8\\xa9U= \\xbe\\xe0=\\x88\\xdf\\xc4=\\xc9\\xb0b;\\xc4\\x1f\\x0b\\xbd\\xefm\\x1a\\xbd\\x15\\x96\\xa1\\xbd\\xc5\\xd8\\xb0\\xbcRLe=s,\\xb0=\\xeceo=!\\x97 =\\xdfl\\x8f\\xbcc9\\xfe<\\xf1\\x19\\x82<\\xb8\\x82\\x90=\\x95\\xfe\\'=*\\xb4\\xbc;\\x00\\x80*=D!\\x9a=6?\\xa3\\xbd}\\xa5\\xa7\\xbdOW\\x00\\xbe\\xc5\\xcbG\\xbd}\\xb27=!\\xd7q=\\xf7\\x11\\xe3\\xbd[\\x9db\\xbd\\x18\\xaf\\x18\\xbe7\\xc8\\x03\\xbd\\x13\\xc1\\xd0\\xbcSz\\x81\\xbc\\xcc\\x02\\x9e=8\\x10#\\xbd\\xceT#\\xbd\\x19k\\x1e\\xbc\\xa7\\x1c\\xb0\\x08\\x13{\\x95<\\x86I$\\xbcQ\\x9b7=\\xb3\\xb7\\xa1<h\\x1a\\xc0\\xbc\\xc3\\xaf\\x97\\xbd\\x8e\\x0c\\x15=NAc\\xbdFD\\xa7=\\xccZ\\xb2<+V\\x81\\xbd\\x0c\\x19u;X\\xcd\\x8f=\\xdd\\x8bw=\\xb6\\xe5\\xd0<\\xb8\\xdc\\xf1;$\\xd5\\xa4;\\x18\\xc5\\x8b=\\xee\\xe2\\xda;\\x85.9\\xbc\\x99/\\xe0\\xbd\\xc6\\x08\\x9a\\xbbZ\\xf3N\\xbdE\\xe8\\x9b\\xbc9\\xff1<tv2;\\xab\\xf7\\x8e\\xbd\\xa4h\\x14\\xbdr\\xe8\\x84;\\x08\\x05\\xaa\\xbb\\xfc\\xc1\\x1c\\xbd\\xcdA\\x81<\\xed\\xb5\\xa7;A\\x06\\x7f\\xbc9\\x9d\\xc1\\xbd\\x05\\x0bh\\xba\\xd7\\xd5\\xf5=\\xa3W\\x00\\xbd\\x99\\\\\\xc9<\\xb0Se\\xbd\\x9b\\xb9\\xb5=\\x17\\x85E\\xbd\\xb5S\\x8e=\\x00&\\x10= \\x9f\\x97<\\xa2\\xfb\\x84=&^Z\\xbc\\x7f\\xa6M=!#\\xcc\\xbd\\x07\\xba\\xc2=|\\x84\\xf8\\xba\\xcfw9=\\x8d\\xc9\\xa7\\xbcwV\\xf6=\\x94_\\x93<\\xb9\\xec\\xc1<l\\xdad\\xbaW\\x80\\xca\\xbb\\xf7\\xaf\\xd7<\\xf2\\x14\\x95\\xbc\\xbax\\xb9\\xbc,\\xf0\\x8a=<6W\\xbd\\xa2U\\x9e=\\xff\\xa7\\x1a>\\x92>\\x92\\xbd\\xcd&\\xb6\\xbc\\x17\\xbd\\x9e\\xbcoJ\\xa3\\xbdl,l<=C\\x9b\\xbd\\x80e\\x17\\xbdWf\\x10\\xbdh\\xd2\\x05\\xbe\\xbclw\\xbdG\\xcf\\x8c=yV\\x8d=\\xf8\\xb3\\x07=~Gf\\xbdL/\\xc4\\xbc\\xe5\\x94\\xe2<\\xe6`6\\xbd\\x99\\xcc\\x97\\xbc#\\xbf&=1\\x8d\\xc2<\\xa01\\x93=\\x0f\\x8f\\x0b\\xbdJ\\x03\\xab\\xbc\\xc1\\x11\\xa0\\xbd\\xa7\\x15\\xfe=\\xe8\\xf1M\\xbd\\\\\\x92*=\\xbe\\xcd\\'\\xbd\\x8b\\xc8\\xf6<\\x8c*\\xed\\xbd\\xc1\\x1be\\xb3\\xb3[-=D\\xed\\xdd=J\\x15\\x13\\xbd\\td\\xba\\xbc\\x01^g=\\xc5\\xdb\\x80<A\\x87\\x93=\\x9f\\xc1\\\\=b\\xba\\x88;\\x06&\\xc1=\\xca\\xd5\\x94\\xbb\\xf1\\xd3\\xf6\\xbb\\xf3\\xab\\x01:\\x0b\\xf2#=\\x9d\\xd0\\xdd<\\xa0\\xc7\\x82\\xbd<\\x98q\\xbd|\\x19\\xd7\\xbc)6E\\xbd\\x12h\\xc2\\xbb\\x18:B\\xbd\\xdb##=\\xfa\\x06\\xfd<\\x14\\xbd\\x18<\\x18\\xa2\\x8c<\\xb6\\xf9)\\xbd+\\x87\\x0e=\\xc7\\xbb\\x14=9\\x17\\x8f=\\x9d-m\\xbcS\\x94%<\\xce\"*=\",\\xe1<\\x157\\xa8\\xbb\\xd1B\\x88\\xbcT\\xac\\xfd\\xb9\\xd1\\x96\\xc7\\xbd,\\xc0R=,5\\x81=\\xbe\\x1d,=\\x1c\\xb2\\x0b\\xbd>\\x80.\\xbc\\x8c\\xc6\\x11=\\n\\x0c\\xed<\\xb6\\xd6r=\\xf2I\\xaa<\\x1aX\\x17=\\x01\\x91\\xf3<0\\xa1S\\xbc\\xe5\\xef\\xfe\\xbc\\xa4\\x80\\x14\\xbe\\x9doy\\xbdLb4\\xbdy\\xe2\\'=f |=kc\\x03\\xbd\\x80\\x13\\x9d\\xbc\\x935\\xa9\\xbd\\xf50l=\\x1e\\xc2<\\xbdX\\x0ey=\\x0b\\xb8\\x98\\xbc:\\xc4F\\xbdE\\x1c:\\xbd'},\n",
       " {'chunk_id': '2',\n",
       "  'raw_content': Document(page_content='M[36.86686,-81.42051]\\n\\nBland, VA (2.5E)\\n\\n591.8 M` PO M-F 8:30am-11:30am & 12pm-4pm, Sa 9am-11am, 276-688-3751. 207 Jackson St. Bland, VA\\n\\nM[37.10026,-81.11610]\\n\\n24315.\\n\\nBastian, VA 24314 (3.0W)\\n\\n591.8 M` PO M-F 8am-12pm, Sa 9:15am-11:15am, 276-688-4631. 178 Walnut St. Bastian, VA 24314.\\n\\nM[37.15223,-81.15210]\\n\\nPearisburg, VA (1.3E)\\n\\n637.1 M` PO M-F 9am-4:30pm, Sa 10am-12pm, 540-921-1100. 206 N Main St. Pearisburg, VA 24134.\\n\\nM[37.32815,-80.73565]\\n\\nNarrows, VA (3.6W on VA 100)\\n\\n637.1 M` PO MF 9:30am-1:15pm & 2pm-4: 15pm, Sa 9am-11am, 540-726-3272. 305 Main St. Narrows, VA\\n\\nM[37.33101,-80.81018]\\n\\n24124. Newport, VA 24128 (8E)\\n\\n677.8 M` PO M-F 8:15am-11:30am & 12:30pm-3:15pm, Sa 9am-11pm, 540-544-7415. 119 Blue Grass Trl. New-\\n\\nM[37.29055,-80.49825]\\n\\nport, VA 24128.\\n\\nCatawba, VA. (1.0W)\\n\\n710.5 M` (1.0W) PO M-F 9am-12pm & 1pm-4pm, Sa 8:30am-10:30am, 540-384-6011. 4917 Catawba Creek Rd. M[37.38273,-80.10866]\\n\\nCatawba, VA 24070.\\n\\nDaleville, VA 24083\\n\\n730.3 M` (1.0W) from AT on route 220 to PO M-F 8am-5pm, Sa 8am-12pm, 540-992-4422. 1492 Roanoke Rd.\\n\\nDaleville, VA 24083.\\n\\nM[37.40626,-79.91291]\\n\\nTroutville, VA. (1.0E)\\n\\n731.8 M` (0.7W) from AT on Hwy 11 to PO M-F 9am-12pm & 1pm-5pm, Sa 9am-11am, 540-992-1472. 4952 Lee M[37.41261,-79.88091]\\n\\nHwy. Trouteville, VA 24175.\\n\\nBuchanan, VA (downtown) (5.0W)\\n\\n751.9 M` PO M & Th 9am-7pm; Tu, W, F 9am-5pm; Sa 9am-1pm, 540-254-2538. 19698 Main St. Buchanan, VA\\n\\n24066.\\n\\nM[37.52706,-79.68010]\\n\\n286 -\\n\\nShelters W+ t{18} s{12} Ep J{2}`\\n\\n0.2\\n\\n2.8\\n\\nw+t{3} s{16} EpJ`\\n\\n(0.2E) Springer Mountain Shelter>2.6>>7.9>>>15.5 w Water (spring) 80 yards on a blue blazed trail in front of the shelter but is known to go dry, t tenting, p privy, J 2 bear boxes. + Benton MacKaye Trail (southern terminus) is +[34.62864,-84.19445] s[34.62933,-84.19275] located 50 yards north on the AT. (0.1E) 2.6<Stover Creek Shelter>5.3>>12.9>>>24.9 w Water behind shelter is often dry but good water can be found where trail crosses Stov- er Creek 100 yards north of shelter, t tent pads, p privy, J bear cables.\\n\\n3730\\n\\n2954\\n\\n2196.3\\n\\n8.1\\n\\n15.7\\n\\nw+t s{16} EpJ` w+ t{12} s{14} EpJ`\\n\\n+[34.65007,-84.19790] s[34.65028,-84.19720]', metadata={'source': '..//data/docs/white_blaze_sample_quick_info.pdf'}),\n",
       "  'proposition': '{\"proposition\": \"The Appalachian Trail passes through various towns in Virginia, such as Bland, Bastian, Pearisburg, Narrows, Newport, Catawba, Daleville, Troutville, Buchanan, and many more. Mile markers are provided for each town, along with post office hours and contact information. Additionally, information about shelters along the trail is presented, including mile markers, water availability, tenting options, privies, bear boxes, and bear cables.\"}',\n",
       "  'text_embedding': b'\\xc9&\\x14=\\x9a\\xfc\\xe8<\\xfe\\x86\\xe7<O&\\x07=\\x95\\x7f~<=\\xf0]=8\\xd3j\\xbcQX\\xb5\\xbc?c\\xdb\\xbd\\x8d\\xc5#;\\x1d\\xe8+=K\\xa1]\\xbdg\\x0f\\x9c\\xbb7\\x1f\\x02\\xbd\\x04\\xcbm\\xbc<\\xd3\\x91=<\\xda\\x81=1j\\x86=,\\x90\\xd7<\\xa0\\xcc<\\xbd\\x08\\xe6%=%\\x9el=\\x9f<\\x04=\\x9bn\\x0f=\\xdf\\xa8\\xed\\xbc\\xa2G\\xbc;\\xc1p+\\xbd\\xe2\\x84@=q\\xcc\\x84\\xbc\\xa85\\x13=\\xf4.\\\\\\xbd\\xf5\\x1b\\xab\\xbd\\xe9RP\\xbd\\xb3m\\xdb;bf\\xd2=\\x9a\\xab\\xaf;A\\x8dq:E\\xa8<=\\xe6d\\x98\\xbc\\x9a\\x8f\\x8f\\xbc\\x997\\xd3<\\x03\\xb4\\xc5\\xbcu\\xaf\\x01\\xbd0x%=\\x9c\\xd14\\xbd\\xd7\\xc9\\xad\\xbc\\xde?\\x19\\xbdi\\xe4<=\\xb0\\xcf\\x16\\xbc6\\x93\\xe6<3\\xda\\x92=\\xf6\\xd4<\\xbd\\xbd\\xc6\\xa7\\xbd\\xfbG\\x9f\\xbc\\xe7\\xfd\\xbe\\xbd\\xfa\\xfa.\\xbd#\\xb7b\\xbd\\xbd\\x8a\\xfd<z\\xad+\\xbd\\xc7\\xb30\\xbd~&\\xa6;<T~;\\xb0\\x1c\\x94\\xbdL6\\n;\\xde\\xdf\\x82\\xbc\\xd5-\\xe0<kE\\x93\\xbcr\\x97\\xc9<\\xce\\x9b\\xcb<\\xbc\\x0e\\xfd\\xbdF\\x8d\\x8c<\\xcfT\\x85<j\\x93D\\xbb\\xa71\\xd4\\xba\\xf0g\\xd7<\\x9e\\xeb\\x84\\xbb;\\x8bw\\xbc\\xe1\\x00\\xd9=\\x13c\\x19=\\xf8\\xfay\\xbdA\\xc3\\xdd\\xbd\\x07\\xb9\\xcb<\\x18\\xa9\\xa5<\\xf3\\x99\\x15=x\\xa3E\\xbc\"3>=\\xad=\\x80\\xbd\\xd1\\xd2$=\\xc3\\xd8q=\\xd0i\\xa1\\xbd\\xaaoy<\\n\\x1b\\x83\\xbd\\xd9o\\x83\\xbd\\xb5\\xf0)\\xbd[\\xceU\\xbd\\x97\\xaa2<\\x80-\\xb5<M\\x89\\x86\\xbc\\xe1\\xad\\xa6\\xbc\\x8a\\x95\\xca\\xbb\\x85%\\x05=[\\x85\\xb3\\xbd/kG<\\x87\\x85 \\xbd:\\x06\\xfc<\\xa8\\x1a\\xef\\xbc\\x86q\\xae\\xbc\\'\\xc5\\xb5<\\xcc_\\x19\\xbb\\xaaGs;\\x9b<0=\\x97L\\x86;\\x92\\xd6\\xc7<p`\\x9c<\\xec;\\xb7\\xbb(!!\\xbb\\xcd\\xbc\\x91\\xbc\\x11\\xe0\\x01\\xbc\\xe0\\x8c6=\\xebK\\x91\\xbcv\\xc3\\xf2\\xbd\\x88\\xe3\\xc2<=\\x9d\\xb0=*\\xa9\\x90\\xbd\\x13\"\\x0b;G\\x00\\xc4\\xbcL\\x96\\xbb=\\xbb\\x11\\x99\\x88\\x87s\\x17<\\xac\\xdav<\\x8f\\x03\\xf3<\\x7f\\xf8\\xbf=\\xf1\\xa9\\xc8<\\xc5Z\\xa0<;[>\\xbd\\xd2RS\\xbdS\\xbaF\\xbd6\\xed$\\xbc\\xec\\xab\\xd8\\xbc1T\\x89\\xbdn<e=FN\\xa1=\\xebW^=\\xb7\\xd4\\xf8\\xbb\\xc4}\\xae:\\xe2\\x8c\\x95\\xbdH,\\xad\\xbc\\xaa\\x15\\xe5\\xbc|\\x8a\\xfd\\xbc\\x89\\xb7\\x87\\xbdQ+\\xcf<Z\\x05\\xb6<\\x16]\\x15;\\x85\\x0c6\\xbd\\xc8\\xfc(\\xbd\\x80m\\xba=\\xeb\\x17\\xb6\\xbdo\\x96\\x94<S\\x99\\xf8<\\xcea\\x02=\\'M\\x94=\\x88\\x84\\xae\\xbd-\\x134=w\\xaaa=\\xfcO&<\\x85\\x93\\x0f\\xbd\\xc9\\xfb\\x0e<\\xe4+\\x95\\xbc\\xb5F\\xc2<\\xc0\\xf7\\xa3\\xbc5\\x1c\\xb3\\xbbP\\x19\\x0e=\\x11\\xe4\\x8c;\\x8a\\x84I=\\xd2A\\x80=\\xc0%<<e\"\\x17<\\x80\\xde\\x85;b:\\xe3;J\\xaf\\x07<\\x95d\\xaf\\xbb\\xc3\\xfe\\xad\\xbd\\xc4\\xaf\\xa5\\xbd\\x84\\xae$=\\xc6ip<\\xeew\\x11\\xbb\\xd0\\xb3\\x10;\\xac\\xd5\\xf0<5\\xc3\\xbf=P\\x94\\x0e=\\x99\\x8c0=\\x9a\\xf8\\'\\xbd\\t\\xc3\\x19\\xbd\\xe0\\xe9\\xa7\\xbd\\x80\\x03\\x16<\\xc8\\\\\\x05=\\'\\xde\\x7f=|\\x05\\x97\\xbcH\\xfd\\x12\\xbd\\x9d\\x0b\\x0f=\\xad\\xa26<\\xcd\\xdd\\xd0;=O{=9P\\xad<\\x03\\x9d\\xf2;L\\xed\\xda<~\\xdd==i[\\x9f\\xbdM\\xf1\\xa1;Dn\\x04\\xbe\\x17$z\\xbd\\x90\\xac#=\\xf5\\x15x=\\x98\\xfb\\xa0\\xbd(K\\x1b\\xbd\\x17\\xa9\\xd3\\xbd\\xe3\\xd2Z\\xbd\\xee\\xc2\\x08\\xbd\\xe1\\x14\\xf1<\\x13\\xd2\\xdb=~j\\xb4\\xbd=\\xb3<\\xbd\\x0b\\x0b\\x15<OQ\\x14\\x89\\xe17a<\\x0b\\x00b\\xbb~\\xb7\\xa9=\"\\x7f~9[JY\\xbc\\xeep^\\xbd\\xd9V\\xf4<\\xcb\\xfe\\xb1\\xbdM)o=\\x87rK<\\xb7W\\xe7\\xbdjf\\xbd\\xbc\\x05\\x84\\xcc<R\\x00~=3\\x8cm\\xbc\\xfa@\\x94=\\xf1*\\xc2<4\\xf8t\\xbc\\xebR\\x91=}\\xe8\\xe1\\xbcN\\xcb\\x08\\xbep\\x18\\x07\\xbd\\xd3\\xdf\\x8a\\xbd\\x02v\\xd8\\xbd>\\x0cj;\\x88\\xccz\\xbc\\x01Bb\\xbd\\xb2\\xd9\\xd3\\xbbP\\xedW;\\xc3\\x83A\\xbdb\\\\\\x82=\"\\x9b\\x1c\\xbcb\\x88\\x0f=\\xa0\\xb6@\\xbc\\x1f\\xc1\\x82\\xbd+\\x83\\xe7\\xbcj\\x06(>\\xde\\xc5\\x84\\xbd\\xc6oZ<\\x12\\xba\\x90\\xbc\\x04\\xf2\\xe3=f[\\x1b\\xbd\\xb09\\n=\\xf8\\x14a\\xbb\\xfcd\\x93<P\\x17v=\\x8b\\x932\\xbdO\\xf9\\xa3\\xbc!\\xf4\\x18\\xbe\\xbd\\x0e\\xc6=!\\xb7%=\\xa2\\x07\\xe2\\xbaW\\x95\\x8c\\xbc\\x9f\\xc3\\xe1=?A\\x07<RR\\xee<\\\\u2\\xbdL\\xa2\\x95<\\x1a\\xd0(=M9\\'\\xbd\\x86\\xdc\\x04\\xbdG\\xd4\\xdc<}\\xc42\\xbd\\x0c\\xd8\\x9a=i{\\xb9=\\x90]d\\xbd\\xc0\\x07\\x16\\xbcj\\x0b`\\xbd\\x8a_\\xa4\\xbd]\\x1ee\\xbd:\\xe0\\x87\\xbdK\\xf6f\\xbdd\\xd88\\xbdb\\xa8\\xf9\\xbd\\x8c\\xa9\\x8b\\xbd\\xf6\\xd4\\xde<d\\xd1\\xb0=\\x14(\\x8b\\xbc\\xe7Z\\x8c\\xbd\\x10\\x13\\x1c\\xbdd\\xfe\\xf6<U\\x88[\\xbd\\xce\\x0f\\x1c\\xbcW?\\xef\\xbc\\xc8\\x10\\x08=\\xd9\\xcf\\x81=\\xf3\\x89\\xb8\\xbc\\xe3_\\xa7\\xbblm\\x95\\xbd\\xeb\\xd0\\xc0=\\xb6\\xc0\\x05\\xbd\\x1e\\xed\\xb0<\\xc0\\xe43\\xbd\\x9e\\xad9=\\xc4n\\xbd\\xbd\\xf2\\xd0H\\xb3R\\xb7\\xd4;Cr\\t>v{W\\xbd\\xdb\\xc6\\x0b\\xbc\\xc3\\xb2\\xc4<D\\x1d\\x07=gD\\xae=\\x86t\\xa8=/\\xad\\\\<p\\xae\\xd5=\\x03\\x9e\\xfa<\\\\\\xb4\\x98\\xbcl1\\x95\\xbd\\xe8d\\xc2=h\\xa7\\xd6<Z\\xf2\\x05<\\xbf\\x19W\\xbd\\x8cS\\xb2\\xbc\\xdb\\xaa\\xd2\\xbco\\xf0<=\\x16\\xd0\\xa7\\xbd!\\xa1-=\\x84@\\x98\\xbc\\xa1 t=Jb\\x07=Xf\\xf6\\xbc\\xf5\\x00k<\\r\\xce>=\\xe6\\xf9\\xb8=d\\xd1\\x80\\xbc\\x1b\\xe4\\xcf<\\xe6\\x88\\x91=V\\xfdc=\\xca`\\x02;SJ\"\\xbc\\x8bkM\\xbc\\xe7\\xdc\\xaf\\xbd\\xcd\\x84\\xdf<F}\\xca=\\x0b/\\xe6=\\x1ee\\xf5<\\'\\xb6\\x8f<C\\x08\\x94\\xbbc\\x8f\\xac;\\xfft\\xb7=5\\n~<h\\xea =\\x9b\\xb6\\xb8;\\xbf\\xba\\x11\\xbd\\xe5k\\x13\\xbd\\xc1\\x16\\xd7\\xbd\\x97\\x829\\xbd\\xe3\\xd7\\x14<\\xb6\\xb9\\x1f=\\xec\\xfc)=\\xad\\x835\\xbd\\xed\\xdd\\x96;\\'\\xa4{\\xbc\\t\\x82\\xc4=J\\xfdl\\xbd\\xb5\\xa9\\x0c<\\x8a$\\xa2\\xbc\\x0c\\xe3\\x8c\\xbc\\xc0& \\xbd'},\n",
       " {'chunk_id': '3',\n",
       "  'raw_content': Document(page_content='(0.2W) 7.9<<5.3<Hawk Mountain Shelter>7.6>>19.6>>>20.8 w Water is located 400 yards on a blue blazed trail behind the shelter, t tent pads, p privy, J bear cables. (0.1W) 15.5<<<12.9<<7.6<Gooch Mountain Shelter>12>>13.2>>>22.3 w Water (spring) is located 100 yards behind the shelter, t tent pads that can accommo- date two tents each, p privy, J bear box.\\n\\n+[34.66467,-84.13702] s[34.66608,-84.13638]\\n\\n+[34.65492,-84.04948] s[34.65573,-84.04998] w[34.65652,-84.04954]\\n\\n3194\\n\\n3000\\n\\n2193.7\\n\\n2188.4 2180.8\\n\\n27.7\\n\\n28.9\\n\\n38.0\\n\\n42.8\\n\\nW+t s{7} EpJ`\\n\\ns{8} pZv`\\n\\nw+Z t{3}s{7} EpJv `\\n\\nws{7} t{4} EpJ`\\n\\nBird Gap (0.4W) 24.9<<<19.6<<12<Woods Hole Shelter>1.2>>10.3>>>15.1 W Water (stream) on trail to shelter is unreliable in dry months, p privy, t tenting, J bear cables. Bird Gap, Freeman Trail just east bypasses Blood Mtn. and rejoins AT at Flatrock Gap. Blood Mountain, open rocky summit. 20.8<<<13.2<<1.2<Blood Mountain Shelter>9.1>>13.9>>>21.2 Shelter is located south of summit, no water at shelter, p privy, view. | Fires are not permitted. Crest Wildcat Mountain. (1.2E) 22.3<<<10.3<<9.1<Whitley Gap Shelter>4.8>>12.1>>>20.2 w Water (spring) located (0.2) beyond shelter, p privy, J bear cables. (0.1E) beyond shelter to t tent sites. (190 yds E) 15.1<<<13.9<<4.8<Low Gap Shelter>7.3>>15.4>>>22.8 w Water located 30 yards in front of shelter, t tenting, p privy, J bear cables. | Last reliable water heading SOBO until Neels Gap (11.5 miles)\\n\\n+[34.73706,-83.94835] s[34.73713,-83.95500]\\n\\ns[34.73998,-83.93738]\\n\\n+[34.72476,-83.84102] s[34.71238,-83.83440]\\n\\n+[34.77659,-83.82627] s[34.77626,-83.82450]\\n\\n3650\\n\\n4461\\n\\n3370\\n\\n3050\\n\\n2168.8\\n\\n2167.6 2158.5\\n\\n2153.7\\n\\n50.1\\n\\n58.2\\n\\n65.6\\n\\n73.7\\n\\n+ws{7} t{4} EpJ` +wt{3} s{7} EpJ` +wt{4} s{12} EpJ`\\n\\nw+t{6} s{14}E pJ|`\\n\\n(0.1W) 21.2<<<12.1<<7.3<Blue Mountain Shelter>8.1>>15.5>>>23.6 w (No potable water) at shelter, w water (spring) located (0.1) south of shelter on AT, t +[34.81665,-83.76706] s[34.81721,-83.76673] tenting, p privy, J bear cables. (230 yds W) 20.2<<<15.4<<8.1<Tray Mountain Shelter>7.4>>15.5>>>22.8 w Water (box spring) located 50 yards behind shelter, t tenting, p privy, J bear cables. +[34.80283,-83.67857] s[34.80396,-83.67690] w[34.80491,-83.67568]', metadata={'source': '..//data/docs/white_blaze_sample_quick_info.pdf'}),\n",
       "  'proposition': '{\"proposition\": \"The Appalachian Trail shelters along this section include Hawk Mountain Shelter located at 7.9 miles with water located 400 yards behind the shelter, Gooch Mountain Shelter at 15.5 miles with water (spring) 100 yards behind, Woods Hole Shelter at 24.9 miles with unreliable water on trail, and Blood Mountain Shelter at 20.8 miles south of summit with no water at the shelter. Additionally, Whitley Gap Shelter at 22.3 miles offers water (spring) located beyond the shelter, Low Gap Shelter at 15.1 miles has water located 30 yards in front, Blue Mountain Shelter at 21.2 miles has no potable water at the shelter, and Tray Mountain Shelter at 20.2 miles has water (box spring) located 50 yards behind. Various amenities such as tent pads, privies, and bear cables are available at these shelters. Coordinates for some locations are provided in the metadata.\"}',\n",
       "  'text_embedding': b'\\x13\\xd2\\x85<_p[=<,\\x1f<\\x1a \\x93=\\xce\\xea\\x8b=\\xf6\\x81\\xb6<]\\xbf^\\xbd]\\x8a\\x9c;s+\\x81\\xbd\\x98\\xa4\\x9e<\\xc6\\x04Q=P6@\\xbd8$\\x98<\\xc0Vn<q\\x8b\\x84=f//=\\x80?A=\\xf9g\\x06\\xbdM\\xd85;[l\\xee\\xbb\\xaen]=\\xa0\\xa8\\xfd\\xbb\\x13\\t\\xce=\\xb3%\\x84<\\xa7\\x1cJ\\xbc\\x89E_\\xbc\\xbe\\xbah\\xbd?\\xf4\\x16=\\xc3\\x8b\\x16<r\\xe0\\x05=\\x8d\\x00\\xcb;.\\xd4\\xc8\\xbd!\\x01\\xd1\\xbb`\\x13\\x9c\\xbd\\xad\\xe3\\xf9=\\xd8\\x84\\xbd=\\xfdP5=\\xd2P\\x1d=r\\x07C\\xbd\\xbe\\xf8\\xaf\\xbc\\x1b\\xb7C<\\x95]J=\\x16c(\\xbb6\\x93`<\\x91hw\\xbd\\xdd\\x1c\\x13<;D\\xd5\\xbd\\xaf\\x83\\r=\\xe2\\xa3\\xa6:7j0\\xbd\\x03\\xaf\\x94=\\x05?\\xeb\\xba\\x06m\\xca\\xbd\\xb8\\x9a\\x93=\\x9d\\xc0\\xb0\\xbd1\\xd6\\x16\\xbc%\\x91\\xa6\\xbc\\xe2\\'\\xd9\\xbc\\xcdW\\x15\\xbd\\x95\\xbd\\x1a=\\x06\\xed\\x88=\\xe8\\xb3\\xcf<\\xdc\\x17\\xb7\\xbd\\xb8\\xfc\\x9a\\xbd\\x02\\x1aG=\\x18\\\\\\xb7<\\x10\\xf8\\xc2\\xbd\\x86\\xd7\\x9a;;\\xc5\\x0c=\\xa0\\xf5\\xb5\\xbd,!v\\xbc:\\xa1\\xec<+*U\\xbd\\t\\xcb$\\xbdR\\x94\\xca<\\xc6\\x99\\x04\\xbc\\r\\xa1\\xd9<B\\\\\\xab=)\\xce[=[\\xc8E\\xbd\\xfb\\x1f\\xa7\\xbd\\xb5\\x82\\xcd\\xbcrq\\xf9<\\xc1\\x8e.=}\\xad\\xa4\\xbd\\xd5\\xde\\x84\\xbc\\x00ZP\\xbc9C\\x14=\\xcb\\xb7\\xc9\\xbc\\xf7\\xe6\\x91\\xbd\\xde7\\x93=\\x7f\\x0bN\\xbd\\x03$\\x06\\xbe\\x01\\r\\xb7<S\\x07n\\xbd-\\'\\n=\\xb3\\xe9\\x8e\\xbcP^%\\xbd\\x8e\\x0e/\\xbd\\xfe\\x03\\x1e\\xbd\\xca\\xc8\\x0b=K\\x9e\\xa6\\xbd\\x98! <\\xa1\\x87S\\xbdryl=\\xf3ZR\\xbd\\xbf\\x8a \\xbc\\xbd\\xf5-=\\xefP\\xd8<g\\xff*\\xbb=\\xceV<7ml\\xbc\\xdd~\\xdd<\\x18V\\xc0=P\\xaf\\xf5\\xbc\\x03Jm\\xbc]%J\\xbbVPN\\xbd8\\xf3\\x84=.<\\xe4<\\xee\\xffa\\xbcLRt=b\\xc1\\xd7=A\\xb5\\x8a\\xbc\\xbe\\x9e\\xc7<T[g\\xbd\\x1f\\xfe\\x0c;\\xe1a\\xdb\\tt(\\xeb<z6\\x99\\xbc\\xccz\\x85<\\x0f\\x1d\\xc5=\\x93=\\x05=\\x89\\xcf\\x13\\xbc<\\x82\\x9c\\xbd^Q\\x8b\\xbcW\\x06H\\xbc\\xa5u\\xc4=\\xc9?\\x9a\\xbd\\x8f\\xb9\\xd9\\xbc\\\\\\t\\xdf<\\x04x\\xe8\\xbc~\\x7f\\x8e=\\x9bE\\xaa\\xbd\\xf1\\x1eJ\\xbc\\x17s\\xa3\\xbd\\xf5\\xc8G\\xbd\\xed\\xf4\\xde<[\\\\G\\xbd\\xb0\\x98\\x83\\xbd\\x91\\xabZ<K&\\xfc<\\x84\\xa1\\xae=\\xb4\\xa6h\\xbdm\\xac:\\xbd\\x9c\\xf1\\xf9<\\xff\\xd6\\x93\\xbd\\x8e\\x1c\\xa1<`\\t\\x0e\\xbd5\\xe0\\xbe\\xbb\\xf1\\xd8\\xa4=\\xd0.\\xc3\\xbcp\\xf5\\x83=8\\x13\\x8a;Q\\x87\\x95=\\x0f\\xb2\\xac\\xbcV\\x8cX\\xbd]@\\x08\\xbd1\\xb7\\x99\\xbb\\xb2\\xc7\\x91\\xbc\\x15\\xca\\x86=\\xdbB\\x91\\xbb\\x8c\\xe0\\xb1=N\\xe5\\x97;\\xd7\\xc5!>#\\x10\\xd9\\xbc\\xda\\xbd\\x03\\xbd\\xd7\\x9b\\xbe\\xbc\\xf7\\x82\\xcd<\\x94\\xdb\\x8f=\\xe1\\x01\\x92\\xbd3\\x11v\\xbcf\\xb9\\x9e\\xbd\\x91E\\xd3<\\xbe\\x9b;= \\x0c\\x98\\xbc\\xa4X\\xa2<1\\xe0m=\\t\\x19\\xd2=\\xcb\\x8b\\x84=\\x14\\xb1\\xa0=<\\x16\\xbc\\xbd\\xe2A\\x99<\\xba\\x89`\\xbdJj\\xfe\\xbb\\xc6)\\x80;D\\xda\\x0e\\xbc\\xcc\\xb5\\x90<\\xb2\\x83\\x05\\xbd\\xde\\xec8\\xbd\\xb0\\x8e\\x84=]\\xc0\\x84=\\xa8\\xad8\\xbc<?4\\xbd\\x8bDB=\\xc4T3=\\xbe\\x80\\x0c<\\xc5\\x0fd\\xbb\\x1e\\x14z<\\x8a\\xca4\\xbd\\xe6\\xd8\\xf3;\\xc7I\\xbd=\\xe5\\xd1 \\xbd\\xe2A\\x05\\xbe\\x92H\\xa1<C\\'1\\xbd\\xbe\\xe5u\\xbd\\xc0\\xef\\x17\\xbdr\\xc3\\x9c\\xbc\\x05PE=h\\x1b\\x8e<;\\x81\\xe1\\xbd\\x0b \\xd7<L\\xee\\x04\\x8a\\x87\\xd1\\x94=\\xe6\\xbc \\xbd\\xd1)\\xa4=\\x9bH\\xbc\\xbd6\\xfe\\xe6<#\\x8b\\xe9:\\xa2\\x0e\\x91=\\x10/\\x91\\xbc3\\xb1\\x96=\\xc8\\x13\\xdf=\\x94B\\xe1\\xbd\\x0f\\xc2\\xe6\\xbb\\xeb\\xfd*=\\xde<u<$[@;\\x00\\xf7\\x98=\\xc3\\x7f\\xa2<\\xd2\\x07\\x97\\xbd\\x84}S<\\x95\\x07\\x1e\\xbc\\xfc\\xb0\\xcf\\xbc2e\\x90<(\\x80s;\\x15w\\x0f\\xbd2&\\x1b=\\x90\\tT\\xbb?\\xb4B\\xbc\\\\y\\x12=\\xedZ\\r;\\xb2\\xfa\\x1e\\xbd\\xb6\\xcc\\x12\\xbd\\xceS\\xcb\\xbc\\xb6F\\xf5<\\x08g9<Q\\x12\\x80\\xbd\\x92\\xe5\\xbe\\xbcL\\xfd\\xfd<\\x83\\xfaJ\\xbd\\xd8\\xf1\\x90\\xbd\\xe1\\xa62\\xbd`\\x89\\xf9=\\xa5\\xee\\xb6\\xbd\\nV\\xf3<\\r\\xa4z\\xbdt\\x08\\x81=\\xb1{\\x8b=\\x94G\\xd8\\xbc\\xe3:\\xb0\\xbd\\xa6\\xf8,\\xbe\\xcc\\x99\\x82\\xbb\\x08\\xb4\\xff<\\x86\\x0e\\xd8\\xbb\\xc9\\xed|\\xbd\\xd2X\\x92=X\\xdc\\x1b:\\xf6\\x84i\\xbd\\xc1\\xf5P\\xbdE\\xa64;\\x19\\xcb4\\xbd\\xf0,\\xba\\xbcK\\xc8V=\\xf6\\xfa\\x06;0)\\x90;u\\x99\\x13= 7|<s)\\x8d<\\x01\\x84]\\xbd\\x95\\xdf\\x1a<U(M\\xbd\\xe1\\x1f\\x04\\xbd\\xde8\\xb3\\xbd<*\\xf1\\xbc%\\xea\\x94=\\xe5\\x9b=\\xbd\\x98\\x0c!\\xbd\\xe7\\xe3\\x96=k\\xac\\x90<\\x83d\\x92\\xbd\\xbfr\\xc2;T\\xad\\x90\\xbd\\xbf\\xce\\xaa\\xbcy\\xb3\\xa1;T/\\x9b\\xbdUJ\\x04;O[\\x1a=\\x8c\\x0e\\xa9\\xbc\\xe7\\n\\xdd<b\\xbc\\xd0;\\xa6\\xb9!\\xbdL(\\x86<\\x82\\xf0\\xdb\\xbc\\x93\\xe6u<\\xf2\\xddw\\xbd\\xd5\\xcdA=iTO\\xbd\\xdaC@\\xb3%9\\x95\\xbc\\x15\\x0c\\xe9=\\xce\\x1a\\xb4\\xbc{P\\t\\xbdB\\xf7K<\\xb7\\x88\\x1d<\\n\\xb8\\xae=\\xdcX\\'=\\x93\\x1d.\\xbb\\xed\\x86\\x84=\\xdb\\x95[\\xbb+\\x05\\xcf\\xbb\\xad\\x9e\\xa1\\xbc\\x07\\x11e=/\\xdb\\xce\\xbd\\xcb\\x00B\\xbc\\x99\\xe4d\\xbd\\x1f$O\\xbd\\xf8\\xab\\x90\\xbc:\\x93q=]Y\\x9d\\xbd\\x8c\\xc60=\\xe7&m\\xbd@;[=\\xd9\\x8c)=\\xeam\\xb2\\xbb\\xda\\xca\\xa5\\xb8\\x03\\x1a#=1\\xef\\xa0=\\xa1d\\x81\\xbcq\\x16Q=\\xf6H\\xbb;\\xe6\\x98\\xbd\\xbc\\xc8\\xd4\\x1d=\\t\\t\\x86<\\x18M4=\\xb1\\xebh\\xbd\\xae!\\x98=\\x8bZk:R\\xad\\x02>c\\x9e\\xbe<\\x0ffE\\xbd\\xeex\\xd0\\xbc\\x15\\x1c\\x87<\\xe8\\x16!=m\\xe0K<+\\xbb\\x1f\\xbd\\xe2\\xab\\xfb;\\xbe\\xc85<\\xc34t<\\xf6\\xd6\\xa3\\xbci\\x01\\x99\\xbc\\xb4\\x80\\x95\\xbc\\xc7\\x90\\xb0\\xbcm\\x9b\\xd1=\\x1ch\\xc2\\xbb|\"B\\xbd\\xa4\\x98\\x01\\xbe4d\\xde\\xbc\\x0eIu<\\x17\\x88(\\xbd%\\xa9\\x13\\xbdMpT\\xbc\\x18\\xa2\\x19='},\n",
       " {'chunk_id': '4',\n",
       "  'raw_content': Document(page_content='(0.3E) 22.8<<<15.5<<7.4<Deep Gap Shelter>8.1>>15.4>>>20.3 w Water (spring) is located (0.1) south on the trail to the shelter, t tenting, p privy, J bear cables. +[34.88539,-83.64790] s[34.88249,-83.64597] w[34.88313,-83.64719] Plumorchard Gap. (0.2E) 23.6<<<15.5<<8.1<Plumorchard Gap Shelter>7.3>>12.2>>>19.8 w Plumorchard Creek is on the shelter trail, beyond the shelter. t tenting, p privy, J bear cables. | Caution the stump in front of the shelter has been home to copperhead snakes. w Water located 200 yards west on AT beyond shelter.\\n\\n3900\\n\\n4200\\n\\n3550\\n\\n3050\\n\\n2146.4\\n\\n2138.3\\n\\n2130.9\\n\\n81.0\\n\\n85.9\\n\\n93.5\\n\\n102.2\\n\\n105.6\\n\\n113.1\\n\\n120.4\\n\\nw+ s{8} t Ep`\\n\\nwts{8} Ep`\\n\\nwts{8} Ep`\\n\\nw+t{5} s{16} Ep` W+s{8} Ep`\\n\\nw+ s{8} t pJ`\\n\\nw+s{8} t{5} Ep`\\n\\n+[34.94607,-83.59118] s[34.94603,-83.58830]\\n\\n(100 ft E) 22.8<<<15.4<<7.3<Muskrat Creek Shelter>4.9>>12.5>>>21.2 w Water (spring) is located behind shelter, t tenting, p privy. s[35.02053,-83.58160] 4600 (250 ft E) 20.3<<<12.2<<4.9<Standing Indian Shelter>7.6>>16.3>>>19.7 w Creek that serves as the water source for shelter is on the opposite side of the AT from s[35.04200,-83.54806] the shelter. t tenting, p privy. (100 ft E) 19.8<<<12.5<<7.6<Carter Gap Shelter>8.7>>12.1>>>19.6 w Water (spring) is located 200 yards west on blue blaze trail, t tenting, p privy.\\n\\n4760\\n\\n4540\\n\\ns[34.99898,-83.49413]\\n\\n(0.1W) 21.2<<<16.3<<8.7<Long Branch Shelter>3.4>>10.9>>>18.2 w Water, t tent sites, p privy. (300 ft W) 19.7<<<12.1<<3.4<Rock Gap Shelter>7.5>>14.8>>>19.6 water (spring) is known to go dry, privy. Southern end of blue blaze of Siler Bald Loop (0.5E) 19.6<<<10.9<<7.5<Siler Bald Shelter>7.3>>12.1>>>17.9 w Water (spring) is located 300 feet south of shelter on loop trail, t tenting, p privy, J bear cables but non funtional, south end of loop trail to shelter. s[35.14413,-83.57250] (100 ydsE) 18.2<<<14.8<<7.3<Wayah Shelter>4.8>>10.6>>>15.5 Shelter on AT. w Water (Little Laurel Spring) is located (546FT W) on blue blaze trail across s[35.18784,-83.56201 ] from shelter side trail, t tent sites, p privy. w[35.18624,-83.56355]\\n\\n+[35.06941,-83.49706] s[35.06996,-83.49815] 4932\\n\\ns[35.09143,-83.52310] 3760\\n\\n4600\\n\\n4480\\n\\n2122.8\\n\\n2115.5\\n\\n2110.6\\n\\n2103.0\\n\\n2094.3\\n\\n2090.9\\n\\n2083.4\\n\\n2076.1\\n\\n291 -', metadata={'source': '..//data/docs/white_blaze_sample_quick_info.pdf'}),\n",
       "  'proposition': '{\"proposition\": \"The Appalachian Trail shelters and their respective locations: \\\\n- Deep Gap Shelter at 22.8 miles, water located south on the trail, tenting, privy, bear cables\\\\n- Plumorchard Gap Shelter at 23.6 miles, Plumorchard Creek is beyond the shelter, tenting, privy, bear cables, caution for copperhead snakes near the stump\\\\n- Muskrat Creek Shelter at 22.8 miles, water located behind the shelter, tenting, privy\\\\n- Standing Indian Shelter at 20.3 miles, water source on the opposite side of the AT from the shelter, tenting, privy\\\\n- Carter Gap Shelter at 19.8 miles, water located 200 yards west on blue blaze trail, tenting, privy\\\\n- Long Branch Shelter at 21.2 miles, water, tent sites, privy\\\\n- Rock Gap Shelter at 19.7 miles, water known to go dry, privy, blue blaze of Siler Bald Loop\\\\n- Siler Bald Shelter at 19.6 miles, water located 300 feet south on loop trail, tenting, privy, bear cables\\\\n- Wayah Shelter at 18.2 miles, water (Little Laurel Spring) located 546 feet west on blue blaze trail, tent sites, privy\"}',\n",
       "  'text_embedding': b'Z\\x91(\\xbc.\\x8dA=\\x1d\\xc6\\x0f=m\\x1eY=Bhz=\\xbe\\xdc\\xb9<\\xd0\\x86\\x13\\xbd+d8<\\xeb\\x1c\\xb9\\xbd\\x1a\\x93N=\\xec\\xaa\\x87<\\x17\\xae\\\\\\xbdS%\\x17=\\xfc\\'\\xae\\xbc\\x18cs;y)\\x9b=F\\x87N;\\x0f\\xf10:Py\\x03\\xbbV&\\x93\\xbcj,\\x8a=\\xf8:\\xc6;\\xf95\\xb4=$\\xb3\\x1c<\\xa3T\\x03<\\x9cH\\t\\xbdWj\\x9b\\xbd\\xca\\x8f5=\\x1b\\x9e&=\\xb3\\xe3Z\\xbbd2\\x82\\xbdq\\x01\\x93\\xbd\\x0c\\x001\\xbd\\xd8+2\\xbdk\\xeb\\xaa=\\xfbT\\x84=\\xf1R\\x05;Vn\\xcd=X_\\xa5\\xbc\\xc8\\x97\\x96\\xbc\\x8feI=\\xe0\\x1fs<\\x10v\\xaf<\\xfd\\xde\\\\8\\x15\\xa5\\x81\\xbdh\\xf2\\x1e=\\x15\\x07\\xf6\\xbd\\xaa\\xad\\xd7<\\xec\\x1e\\x00\\xbd%A\\x03\\xbd\\xa1\\x9aj=\\xea\\xb9\\xe3;\\xa1.\\xdc\\xbd\\xe1\\xae+=\\xc5\\x0e\\x8d\\xbdd\\xe7\\x90\\xbc\\xf6\\xdf\\x81\\xbdo\\x8d\\x87\\xbd\\x842M<\\x82\\x1d\\x88\\xbb\\xd5\\xe7\\xaa=\\xc0\\xe4\\x03<\\x8a\\x03\\xbc\\xbdi\\x0e\\xb9\\xba\\xff\\xfe\\x82=\\xb7 3=\\x01po\\xbd\\xa1\\xcb\\xbf\\xbcnP\\xa1=\\r\\xdf\\x92\\xbd\\xbe\\x08x<S\\xaa<=C\\xc3\\x9d\\xbd\\xf5`\\x10\\xbd\\xa2n(\\xbdW4D\\xbb\\x96\\xcb\\x80=H6\\x00>7\\x0b\\xf0\\xbc\\xe6q\\x8b\\xbdn\\x8a\\xd3\\xbd\\x83\\x1b\\x87<o\\xa6\\xd2=V$\\xcc<\\xf4f\\x99\\xbd\\xe7\\x87\\x06<w\\x99L\\xbd_I\\x8d\\xbcH^Q\\xbd\\xac|\\xcd\\xbdxn\\x87=j\\xbf\\x19\\xbd\\x0c0\\xbe\\xbd\\xa6\\x00\\x86<\\x93\\xb3\\xe5;\\xdf\\x00\\x19=\\xc5q\\xb2\\xbc\\x10\\xad,<M\\x14\\xaf<\\xdbx\\xc3\\xbc\\xf9 6= \\xb4\\xa7\\xbd@1\\xdc<\\x8d\\x8f\\x85\\xbdI\\x10\\xed\\xbc\\xf4\\x8a\\x13\\xbda!\\x81\\xbd\\xb2\\xeb\\xcc:m\\xdc+=i\\xf1T\\xbd|\\xa4\\xad<\\r){<c\\xf0\\x99=\\x81+\\xb0=w\\xdf\\xca<;`\\xed\\xbcCK\\x12\\xbd\\xd0\\'\\x81<\\x15\\x1f\\xa5=GWD=,\\x10\\x9a\\xbd\\xbb\\x85\\xa4=P9\\xbf=\\xe0\\xdce\\xbd0\\x7f\\xd8\\xbc&\\xcb\\x8e\\xbdb\\x9d\\xf2;%\\n\\xbd\\t\\x94\\x86k<\\xe5\\x87A\\xbd?\\xc4\\xf0:B-\\xaf=\\xd6\\xadg=\\x1e\\xa9$\\xbcNL\\x94\\xbdQ\\xa38\\xbdJ:\\xc7\\xbd4-\\xa1=\\xf6\\x1f4\\xbd$\\xfcZ\\xbdf\\xd3\\xbd<\\x17\\x99\"\\xbd\\x01\\x1d;=\\x93\\xba\\x83\\xbd\\x11\\xcc\\x05:\\xe4\\xca\\xd9\\xbd\\x96cw\\xbd\\xf1\\xb1\\xfa\\xbc\\x05\\xdb\\x08\\xbd\\xa1_]\\xbc\\xde\\xc7S<\\x92Y\\xfd<\\x92i:\\xbbA\\xaf)\\xbd\\xf8\\xf4\\xa5\\xbbU\\x17!=w\\'\\xf0\\xbdeBH<>\\xe4\\xbf\\xbc\\xfbA\\x8f\\xbcf\\xfaz=\\xf3\\x03\\xb7\\xbb^\\xbas=\\x94\\x9c\\xd4\\xbc6~\\xde=\\xa6\\xe9{\\xbd+\\x86\\x93\\xbd\\xf0A<\\xbc\\x17/-\\xbc\\xc7\\x81\\x1f\\xbc0\\xbc`=,\\xfb\\x03=\\x06\\xfe\\x9d=\\xd0\\xaa\\xf1\\xba\\xf5\\x98\\xf2=$\\x13\\x1f=\\x9b\\xd2\\xf8\\xbbf1J<\\x1d\\x0e\\x96\\xbb8\\xa6\\x95=\\xf1b\\xf5\\xbc\\xec\\xe9\\xb6\\xbd\\xf0\\\\T\\xbd\\x01\\xb4\\xb3<\\xe8\\x1e:<\\xb2\\xe5<\\xbb\\xcb\\xb3$=\\x93(\\xcb=[X\\xcd=M\\xf0f=\\xf4\\x87\\xe8<\\x80l\\xac\\xbd2\\xfaj\\xbc\\x8f\\xfb\\x86\\xbb\\x81\\x0b/\\xbd;\\xbe1<\\x07\\xcb+=\\x0b\\xdcY;f?\\x83\\xbd\\xf1+\\xcd<\\tz\\xc5<\\xa7\\xd17=W\\xce?=S\\x88\\xa7\\xbbS\\x8fS\\xba\\xba\\xcc0=\\x02\\x1c\\xba<\\xa6p\\xf6\\xbcXq\"\\xbc\\xbc\\x86\\xe3\\xbc\\xb3\\xc5\\x0c\\xbd\\xc2\\x01\\x9e=\\xdd\\x04\\x1b\\xbd4\\x00\\xe2\\xbd\\x95v\\xdb;\\xb8\\xe3\\xb4\\xbd\\xa2\\xc1\\xa5;}7\\xae<\\xf9]3\\xbd\\xb2\\xf7\\x80=E\\x0b\\xbd:\\xbff\\xe0\\xbd\\x8c\\x9ck<\\xf0\\x8b\\xe6\\x89\\x01i\\x81=<\\xbe\\xa0:r\\xf2\\x99=\\xc7)\\x07\\xbd\\xfa\\xfdi=\\xd9\\x17$\\xbd\\xca\\x0e\\xa1=TIR\\xbd\\xb0\\x196=C^\\xc1<\\x8f\\xb4\\x18\\xbcT\\xd2E=\\xc6\\xe6M=\\xd2\\x19g<\\x16\\x10\\xcb<\\xba\\xe6\\x1a=\\xee\\x81\\x12=\\x0f\\x8a\\xbc\\xbcg\\x93\\xa5\\xbc!.\\xab\\xbc\\xa1lk\\xbd\\xadl\\xb2<\\xc2p\\xe2\\xbdl.\\x80\\xbd\\xf6V\\xc4\\xbc\\x9e\\x8f\\x0b=\\xb0z$\\xbd!\\xe3\\xa6<\\x02+\\xc9<\\x05m\\xc0;Xf!\\xbd\\x1cr\\x0b=\\xb7\\xf0\\xf7\\xbc3\\x1e\\xa3\\xbb\\xb7\\t\\xf2\\xbd|g\\x12\\xbd\\xbev\\xcf=}+\\xd2\\xbd\\xc4\\xc7\\x11\\xbd\\xc0\\xc8\\x86\\xbd\\x87\\xc8\\x15>\\x9a\\x90\\xc2\\xbc\\x8e\\x9c:=\\xca\\xb1\\x1f\\xbd\\xb3\\xec\\xdd<R\\xa5\"=\\x98\\xdc\\xe3\\xbc\\x0e\\xa5\\xf6\\xbcy\\xe0>\\xbekng=\\x9f\\xe2-=\\xf8\\x88\\x06=6\\x0e3<\\xef\\x1aA=\\xb6/\\x97<vq)\\xbdi\\x98R\\xbd^p\\xd5\\xbc\\x9bm\\x8b\\xbdk\\xf7\\xff\\xbcB\\xfa/=\\xa4K%=\\x06:\\xb3\\xbc?Z\\xe2<\\x1ar\\x90=\\x1b\\xe1V:\\xb4\\xfec\\xbd\\x9f\\x8e\\x91<\\x8b[0\\xbd\\xa2Gm\\xbd\\xb6\\xfa_\\xbd\\xf9u\\x82\\xbdd\\xb0\\xeb\\xbb<\\xa5\\xdb\\xbd\\x17\\xf7T=\\xd2\\x19\\x99=\\xe1\\xb9\\x84<\\xccf\\xd9\\xbcCK\\x85\\xba\\xab\\x8a\\xf0\\xbc\\xe7\\xcf6\\xbcm\\xcf\\x88\\xbb\\x9e\"\\xcf\\xbc\\xe3\\xaa\\x90\\xbc\\x99\\x1b\\xa4=?5\\xbf<j\\xee7:\\x11\\x1d\\xad\\xbb\\x04>?\\xbcX\\xc7\\xbf<\\x08^\\x91\\xbd\\x9ak{\\xbc}wR\\xbd\\x12\\x83\\x95=\\x1b4\\x0b\\xbd\\x17\\x98_\\xb3\\x05\\xa3\\xc6<&\\xa1\\x03>\\x11T\\x0b\\xbdL\\x0e\\x89\\xbb`=\\xdd<\\xb5\\xb2\\xbe\\xbc\\xa0\\xbc\\xcb=X\\xca\\x0c=\\xb7\\xe4\\xee\\xbca:\\xbc=)EB\\xbc\\xafP\\x04=z(\\xaf\\xbcC\\x97d=)S\\xa8\\xbb\\x9b\\xd7\\x08\\xbd\\xf3\\xea\\x10\\xbd\\xce\\xea(\\xbdy\\xe8\\xe8\\xbc\\xc3\\xe4\\r\\xbc\\xfc|\\xfc\\xbcv8E=\\x04F\\xc1\\xbc}\\xbfW=\\xd3+\\r=}\\xder\\xbc\\x94\\xfc)=\\xe9\\xf6\\xf2<\\x98\\xf2l=\\x8f^\\xbc<\\xef_\\x15=yI\\x8c\\xbb\\xfc\\xcf\\xe7\\xbcpR^\\xbc\\xe76\\xd4<\\xf6\\xbb\\x95=~\\x112\\xbc\\x11\\xa0\\x97=KY\\xa6=y\\xebu=@S\\xdc<E\\xe29\\xbdj\\x02\\xa0<\\xe9T0=\\xcc \\x14<\\x86\\xf9\\x95:sR\\xe4\\xbc\\xdb\\xfe4=\\x98\\x1e#;\\t\\xce\\xb0\\xbc.Cn\\xbd>\\x9e\\x03\\xbd\\x8c\\xbf\\x85\\xbb\\x98/\\xed<\\xf7\\xdc\\x92=\\xceF\\x17\\xbd\\x03\\xfb\\x87;*\\x1f\\xd6\\xbdF\\xc1\\xea\\xbc\\x1ed\\xb2\\xbc\\x7fQ\\x9d<F\\xc2!\\xbd\\x0e\\xf02\\xbc\\xd0\\xa7\\xb1\\xbc'},\n",
       " {'chunk_id': '5',\n",
       "  'raw_content': Document(page_content='Slang 2000-Miler = A person who has hiked the entire distance of the trail either by th- ru-hiking or section hiking. Also known as an End-to-ender. Alpine Zone = The area consisting of all the land above tree line in New England. (See: Treeline). AMC = The “Appalachian Mountain Club” has a huge presence in the White Mountains of New Hampshire, as well as throughout some of the more popular backcountry destinations across New England. The run a number of high-end Huts. AT, A.T. =The Appalachian Trail. AYCE = All You Can Eat Restaurants that offer all you can eat buffets are very popular with hungry hikers. AYH = The abbreviation for American Youth Hostels. Bald = A low elevation mountain surrounded by forest yet devoid of trees on the crown. Typically covered with meadows, balds can offer great views and are a good place to find wild berries, they also attract much wildlife. A southern term. Base Weight = The weight of your backpack plus all the gear that’s inside it, but not counting consumables like food, water and fuel. Bear bag = The bag used by hikers to hang their food out of reach of bears and other critters. Bear cable = A permanent cable rigged high between two trees specifically for hanging bear bags. Blow-down = A tree or shrub that has fallen across the Trail. Blue blaze = Spur trails off the AT. Leading to shelters, views, water sources etc. are often marked by AT style blazes painted Blue. Blue-blazer = A long-distance hiker who substitutes a section of blue-blazed trail for a white-blazed section between two points on the Trail. Bog bridge = Narrow wooden walkway placed to protect sensitive wetlands. (See: Puncheon). Bounce box = A mail-drop type box containing seldom used necessities that is ‘bounced’, (mailed), ahead to a town where you think you might need the contents. Brown-blazing = Taking an off-trail detour to take a dump. Bushwhack = To hike where there is no marked trail. Cache = A Cache is a place where you store gear, food and other supplies before a long trip. The Cache is usually on or near the trail, allowing you to resupply when you reach it. Cairn = A structure made of rocks used to mark a trail where trees aren’t present for Blazes, like in Alpine Zones. Some are just loose piles while others are more decorative. Camel Up = Cameling Up is a process to help you stay hydrated without needing to carry lots of heavy water bottles during your hike. When you reach a water source, you refill quickly -- usually with an inline', metadata={'source': '..//data/docs/white_blaze_sample_quick_info.pdf'}),\n",
       "  'proposition': '{\"proposition\": \"The Appalachian Trail glossary includes terms like \\'2000-Miler\\' for someone who has hiked the entire trail, \\'Alpine Zone\\' in New England, \\'AT\\' for Appalachian Trail, \\'Bear bag\\' for hanging food, \\'Blue blaze\\' for spur trails, and \\'Cairn\\' for rock markers. The trail also features amenities like \\'AMC Huts\\' in the White Mountains, \\'AYCE\\' buffets, and \\'Bounce box\\' mail drops for supplies. Hiking practices like \\'Cameling Up\\' to stay hydrated are common along the trail.\"}',\n",
       "  'text_embedding': b'\\xd9\\x8ap\\xbcP^\\x80\\xbc\\xb4\\x9e1=5$\\x7f=\\x93\\xd5\\x02=\\x03\\xca\\x9d<\\x05CH<\\xe5\\x94\\xff\\xbc\\xaf\\xa6\\xa9\\xbd\\xee\\xa7c<\\xdd:A=]\\x01\\x06<A\\xca\\xe2\\xbcZ\\x1b\\xb4<\\xb4\\xed\\xc6;|\\xc9\\x9e={ff=\\x136\\xb5<\\xc0T\\x80=\\xbeC$\\xbd0\\x16\\x87=V\\x16`=\\xfd\\x0c\\x88=d2\\xd5=q\\xd6n<\\x8e\\xed\\xee9\\xbe\\xecP\\xbdoS,=B\\x8c\\xb5:m\\xe0\\x90=\\x0b\\xc0\\xd3\\xbc\\xa2\\xd5\\x8d\\xbc\\xef\\xad5\\xbd\\x8f\\x1fJ;R\\x9e\\x06=\\x0e\\x9d\\x82=\\xa6\\x90\\xca<e\\\\\\xd9<\\x1a\\xdf\\x92\\xbc\\x0c\\x11\\x04<\\xa2u\\xb3<\\x8c\\xb1\\x95\\xbd;x\\xc1\\xbc\\x9bs\\xc4\\xbc\\xb0`_\\xbd\\xef~\\xd1<\\xb9#6\\xbd\\x06\\xf3}=\\x0b$\\x8d<\\xf3\\x0c\\x95=P\\xa5\\x8d=u\\xa5\\x8c\\xbd\\xf5\\x8e\\xe0\\xbd\\xd2\\x0eR\\xbd\\x06\\xfb5\\xbdy1\\n\\xbd/\\xedy\\xbd}]\\x9b:\\xf3\\x88\\xc5\\xbcY\\x1a\\r\\xbd\\x16\\x1b\\xe4<%Q\\x1e\\xbd\\xd3\\xf0\\x94\\xbd\\xfa\\xf0e=)\\x15\\x8e\\xbb\\x1a*\\x8b<+\\x1eM\\xbd\\t\\x18M;\\x10gU<\\x89\\xb7\\xaa\\xbd\\x91\\xea\\x9e\\xbc\\xec\\xcc\\x00=w\\xa2\\x88;R\\x9d\\xfd;\\x8b\\xb8\\xcd\\xbcIi0\\xbc\\xa6\\xa1h<\\\\\\xf0\\x87=\\xaa\\x98\\xb4\\xbc\\xb9%\\xa7\\xbdz\"\\xc7\\xbd\\xab\\x13d=`\\xedM=n/$\\xbc\\x1e.\\x82\\xbc[\\xf22=]E>\\xbd\\xc9\\xbd\\xb0\\xbbN\\xf1+<\\x8b\\x87W\\xbdXz\\xdf\\xbbT\\xbe\\xac\\xbd\\xca\\x8d\\x98\\xbd\\xfd\\xb4d\\xbc\\xcb/\\xe4\\xbd\\xa0\\xb0\\x95;\\xae\\x9c\\x0c\\xba$\\xbeM<h\\xed\\x0c\\xbd5p\\x91\\xbc\\x8e\\x95==\\x04!\\x8b\\xbd\\xbb\\xc6\\xbf<U\\x90D\\xbc$:\\xf6\\xbb\\xc17M\\xbd\\xae8\\xb1\\xbc\\x97\\xe4{<q\\x1a\\xcf<>\\x93\\'=U*u<HZ\\x80=h1\\x9a=\\xb3\\xec\\xc1<7\\x87\\xe1\\xbc+\\xf3\\xe3\\xbck\\xc5\\x8b\\xbd]\\xa9R<\\xc7ro=\\xc7\\xf4\\xc1<\\xdf6\\x95\\xbd/\\x07\\x16=\\xeb\\x12\\xdf=\\xfb\\x11o\\xbdL{L;&\\xaf9\\xbd\\x16\\x1f\\x90=u\\xe0\\xd8\\x07\\xf3-\\xdc<\\xd9\\xb5\\x12\\xbc\\x826\\xda;Lx\\xd1=\\xfcv[=\\x02\\x8b\\xb3<\\xc7\\xee3\\xbd\\x911\\x08\\xbd\\xe7\\x03\\\\\\xbd\\xe6q\\x92;\\x17\\n\\n=\\xc1#\\x88<x*\\x97<)\\xea\\xb2=\\xad\\xbd\\xda=\\x93\\x02K\\xbd\\x8e\\xf4\\xee\\xbc\\x06g\\x81\\xbdM\\x15\\x0b=\\x0f3p\\xbd4\\xe8m\\xbd\\x88\\xcc\\xd2\\xbcom\\xca<\\x0e\\xc0\\x85=.\\x1a\\xda\\xbc\\xfd\\xc7n\\xbd\\x97\\xb8\\xa2<,\\x86(=\\x7fZ\\xcf\\xbd\\x90\\xf8\\x04=\\xdc\\xe1H<\\x1a@\\xd8;\\xad\\x05\\xf2<\\x7ff\\xcd\\xbd\\xf8\\x08\\x04=Bw\\x00\\xbc@\\x9a*<\\xd8\\xc3I\\xbd\\xb9;\\x81<o(\\xbf\\xbc\\x01\\xaa\\x83\\xbd\\x8al\\xdf\\xbc\\x98\\xc7\\x03\\xbcPp\\x9e<\\xc4\\x94\\x19;\"\\x99\\xf6<\\xbbO\\x01>\\xa0\\xc7\\xcc<7\\xb72\\xbdZ\\x89\\t<}c\\xeb\\xbb\\x11z\\x08\\xbd:\\x9b\\x8f=`\\xb5\\xf6\\xbdc\\xef\\x9d\\xbd\\xf12\\x85\\xbc\\x1c>\\xb5<Z\\x08\\x80<\\xb7\\xa5\\xa0\\xbcG\\xa3\\xbc<\\xff\\x15\\xd7=\\xef\\x15\\xc5=\\xeb\\x14\\x9d<\\xba<a\\xbd\\xa90\\xc1\\xbdJ\\x06\\xb2\\xbd\\x1f\\x9f\\x05<\\xd8\\xc8\\xef;\\x02\\x9b\\x9b=~\\xc2\\x0b=$p\\xb7\\xbbm\\xb7i=@\\x16\\'=jV_=\\xa1\\xdfw=3:\\x05\\xbd\\xcc@\\x97<\\xea.\\xd0\\xbba\\xd9\\x1c<\\xd1L:\\xbd\\xe8r\\x90\\xbcT\\xe1\\xdb\\xbd\\xe0\\x88\\xe1\\xbc\\xe2\\xfc\\xba=\\t!\\x8e\\xbc\\xc1\\xe7J\\xbc\\x9b\\xbe%=_8\\xc2\\xbd\\x7f!\\xda\\xbcVI\\x9f\\xbc\\xee\\x01g\\xbd\\xf1\\xc9y=\\x10\\xa4\\xb2\\xbd\\xe0\\x854\\xbd\\xca^B=q\\x13\\x8c\\x89\\x00<\\xb5=\\x80^\\xcf\\xbc\\x0c\\xa1\\xd4=\\x0fp\\xfc<\\xe0\\xdd\\x87\\xbc\\x96\\xaa5\\xbdZ^N=\\x0e\\xc0H\\xbd\\xcaV\\x8e=@\\xe4\\xf4\\xbcU9\\xdc\\xbd\\x15\\xbe4=-|+=y\\xef3=F\\xb6\\xb1=}=t\\xbc\\x92c\\xc8\\xbd\\xe2\\x10\\x9c:GE\\xe3<\\x16TH<\\x01\\xb0<\\xbd\\x96\\xe1\\x06:O\\xf4\\x1e\\xbd\\x9f\\xca\\xc6\\xbd\\xdb8\\x0c\\xbck\\x92:\\xbd\\xd2\\\\\\x99\\xbd`\\x9a\\xad<c\\xe0\\x0e\\xbd\\xab\\xf3F\\xbdZ\\xc8+=N\\xcf\\xc6<\\xc5f\\x06=\\xa1\\xef\\xb8\\xbd\\xd7u\\xec\\xbd\\x8d\\xd1\\xda\\xbc]^\\x9e=\\xff\\xb1\\xb0\\xbd\\x0f\\xbd\\x17\\xbd\\xdcy\\x13\\xbd\\x89p\\xf7=\\xda@C\\xbd4\\xe0,=\\xe5\\xba$\\xbdLhE<wI\\x0c\\xbcZ7\\x87\\xbdC5i\\xbcaE\\xf9\\xbd\\xb1\\xc6)=\\x0b\\xe8\\xb9<\\xda\\xf8\\xc5\\xbc\\xdb\\x88g\\xbd5Z\\xb7=Y\\xe8\\xb2<\\x9c\\xda\\x06\\xbc\\x07\\xbf\\x81\\xbd\\xb6Q\\x10\\xbdS[\\xef\\xbc\\x94\\xf8\\x90\\xbd\\x80\\xddw\\xbcJ\\xd6\\x84=\\xc2\\x0e#\\xbd\\x82=\\x8c=\\xfc\\xa1\\xa2=M;\\x82\\xbd\\xa7\\xff\\xe6\\xbcx\\x93W\\xbd\\xae\\xbf\\x99\\xbd\\xc8y\\x05=\\x7f\\xbd\\xbb\\xbd\\x18\\xedN\\xbd\\xfc\\xa5\\x0b\\xbd\\x1d\\xe4\\xa8\\xbdhq\\x9a\\xbc\\xdc\\x16w<\\xdf\\xc9/=\\xe0\\xb3\\x96\\xbd\\xe4s%\\xbd\\xcb\\x0c\\xfe\\xbc\\xb2>\\x11\\xbd\\xaa\\x85C\\xbde\\xc1\\x17\\xb9\\x86f\\x18=\\xe8Kh=\\xe85\\x85<m\\x92\\t\\xbd\\x00\\x92\\x9b<F\\xf9\\x94\\xbd{\\x87\\r=\\xddgH=d0\\x85\\xbb\\x19\\xd6K\\xbd\\x1f\\x00\\xac=\\xf58\\xce\\xbd?\\x85]\\xb3%\\x80\\xba\\xbc\\x8b\\xee\\x15>\\xdd\\xe3\\xc8\\xbb\\xb6C\\x98\\xbc\\xeaEr=#\\xe8\\xe9\\xbb\\xdf\\x95\\x9d=\\xcd\\xb6x=I\\x06\\x04=\\xfag\\xab=\\xf5{\\xde<\\xaa\\xa2\\x93<\\x11\\xa8\\xe7\\xbc\\xd0>\\xab=\\xccE^<v\\x1c\\x82:\\xec\\x15B\\xbdj\\x16\\x0e<U(\\x86\\xbd\\xd0\\xefH=\\xa0K+\\xbdu$\\xf2<\\xcb^\\xb0<q2\\x7f=qiB<sd\\xfb\\xbc\\xfb\\xbe\\x08=1\\x85\\xf8<\\xd5I\\xba=6c\\x02\\xbc\\xf4;\\xc5\\xbc\\xaf\\xba\\x02=\\xbc4#=\\x15\\xe9\\xe5\\xbc\\x10\\x1e\\xe1<;\\x97.=\\xe3\\x07\\xe0\\xbd\\x1a\\x19k=\\xf7Z\\x8f=-.l=\\xa2\\xc3\\xa5\\xbc@G\\x95\\xbd\\x0c\\xbc\\xa3<\\xbf\\xe8O=\\xaf\\x0e\\xe2<\\xa5A\\xc0<\\x18\\xef(\\xbdk42=\\x83\\x13\\x03\\xbd[|-\\xbcx\\xdaf\\xbd]\\xd6R\\xbdT\\xdd\\x1a;\\x9d\\xf0\\x83<\\xe03\\xaf=\\x80f\\x19\\xbd\\x8292<\\x1e=\\x84\\xbdl\\x9dt=\\xa6\\xeb\\x1e\\xbd\\x9b\\xf8J=1\\'\\x1b\\xbc=\\x9a3\\xbd\\xb1\\x82\\xa0\\xbd'},\n",
       " {'chunk_id': '6',\n",
       "  'raw_content': Document(page_content='an inline filter like a Sawyer Mini -- and then gulp down all the water immediately before heading off down the trail again. This allows you to get the water into your system quickly while avoiding the need to carry heavy, full water bottles (2.2 pounds per liter!) on the hike. A technique commonly used by Ultralight hikers. Cat Hole = A small hole dug by a hiker for the deposit of human waste when Brown-blazing. CDT = The “Continental Divide Trail,” a 3,100 mile long trail, following the Continental Divide along the Rocky Mountains and traversing Montana, Idaho, Wyoming, Colorado, and New Mexico. Col and Sag = Typically dips in the ridge without a road, while Gap and Notch are typically larger dips that have a road going through. Sag is a typically southern term, as is Gap, while Col and Notch are typically northern terms. Water Gap, is of course, a Gap with a river. Col and Notch are typically northern terms. Water Gap, is of course, a Gap with a river.', metadata={'source': '..//data/docs/white_blaze_sample_quick_info.pdf'}),\n",
       "  'proposition': '{\"proposition\": \"This information discusses techniques such as using a Sawyer Mini filter for water purification while hiking. It also explains terms like Cat Hole for waste disposal, CDT for the Continental Divide Trail, and differences between Col, Sag, Gap, and Notch along the trail. Additionally, it mentions Water Gaps as Gaps with rivers. The source of this information is from a document at \\'..//data/docs/white_blaze_sample_quick_info.pdf\\'.\"}',\n",
       "  'text_embedding': b'\\xef\\xe5\\x0c\\xbd\\xc4\\xeb\\xdd=\\xcb\\x9c\\xc8<+\\x86o=\\xaed\\xc1=\\x85\\x8cH\\xbcOv!\\xbc\\x15\\xa7\"=NY\\xa1\\xbd\\xbe\\xee\\x8e\\xbc\\x00\\x98l\\xbd\\x1cH\\x0f\\xbc\\xe4b\\xe3\\xbc\\xc7Fs<\\x95;\\xf5\\xbc~\\'H=N\\xd6\\xce\\xbd\\xe6f\\x1d;\\x8cc\\x0c<\\xcd\\x8c\\x90\\xbd\\xac\\xdc\\xfa=\\xa0\\xc20=\\xca\\x94\\x10\\xbc\\xfd\\x13\\xc0<\\xe48\\xf2\\xbc\\x9d\\x01\\xf2<\\x1b\\xb7\\x9e\\xbc\\x97\\xe4\\x06=\\x1e\\xf7\\x9b=\\xa0\\x89\\xad<]\\xf3\\xbf\\xbc\\xdd\\x17\\xfd<\\xb33\\xef<\\x87\\x0bz\\xbc\\x0c\\xb3\\x8e=\\xf9\\x81t\\xbc\\x03s\\x84<\\xc8\\xcb\\x8f=q;\\x81\\xbdT0\\x16=\\x92\\x0e.=\\x1a\\x9e\\x88\\xbd\\x83\\x8b\\xff:D\\xe1\\xe5<\\xfdI\\x07\\xbd_Z\\x80=\\x99\\xd7\\x9b\\xbd\\x99!\\xc4\\xbcbC[\\xbdww\\x08=\\xbb\\x15\\xa6<\\x139>\\xbd\\xd8!\\x06\\xbe\\xc3\\xf8$<s\\xe4\\t\\xbd{p]\\xbd\\x173`\\xbd0\\x84\\xe5\\xbc\\xad\\xbb:\\xbb\\xad\\xd5\\xb5\\xbd\\xf8sS=O]\\xd6\\xbcEW\\x13\\xbet\\x9bH=_p\\xef=z\\x86\\xca\\xb93\\xee\\x89\\xbd\\xd8n\\'\\xbc<Js=\\x80\\xfb@\\xbd\\x1a\\x9a\\xf6;6jD=\\xcdce\\xbdA\\x19\\x93\\xbd\\xf2\\xcf@\\xbd\"\\xbb\\xdf\\xbc\\xdd\\xebv=k\\xab\\xde=\\xca\\x1d\\xd0;\\xe7\\xa1|\\xbdA\\xb3[\\xbdfJ3\\xbb\\xbb|`=\\x1c\\xce\\x8a;\\x12\\xae\\x87\\xbc\\x93y\\xb9=\\xbf\\x8au<#\\x14\\xa3\\xbdA\\xfb\\\\\\xbc\\xc6&\\x90\\xbdbr.\\xbd\\x99\\x9bu\\xbd\\xf5\\xbf\\x9e\\xbd(<\\xf4;\\x13\\xff5\\xbd\\x84\\x9cz=)*J<c\\xc3\\xa4\\xb7\\t\\xf9\\xe2<\\xa1]\\xf1<\\x9a;\\x8c<Rw\\xbe\\xbc\\xa78\\x01<t\\xa6\\xea\\xbc*\\xa2\\xc5<\\x16\\xa8m\\xbd\\xcdP\\xbc<J\\x98\\xac=\\xa1\\xa3g=\\xa2\\x9d3\\xbd\\x82\\x9e[<\\x84\\xc5\\x04=\\x06lZ=0\\x95\\x8f<\\x81uU\\xbd\\x96\\xeet\\xbc\\xcd\\x88\\xbf\\xbct?\\xcc;k-M=b\\xca\\xe5<H\\n(\\xbd-.\\x8e<\\xbb\\xaa\\x8b\\xbc\\x7fY,\\xbd\\xe0*(=\\xff \\xd2\\xbc@\\xad\\x91=\\xf9\\x1c\\x8e\\x89\\xdeu\\xb8<\\x19\\xdfl\\xbd\\x89K?\\xbd\\x8e\\xd3-=C\\xaeE=\\xbb\\xae\\xc4\\xbc\\x04\\x13a\\xbd\\x8e<d\\xbdI \\x83\\xbd\\x18\\xcd\\xb2=\\xf5\\x93\\xad\\xbd\\x159\\x91\\xba\\x8f\\xf1\\x98\\xbd\\xde\\x94\\xd5<V\\x97n<oO\\xba\\xbd\\x8f\\xc0\\n\\xbd\\xc4\\x0f\\xa4\\xbd\\xb1\\t\\x94\\xbd\\tg\\x88\\xbd\\x82\\xb1\\xeb:r\\x89\\xe3;\\xc7-1=X3\\xb9\\xbc\\xa8T:=\\xc2\\xd0E\\xbc\\xfc\\xd4\\x1a;V?\\x19\\xbd\\xbb5\\x1a\\xbd~\\x8b<=\\xf5n\\xc2\\xbc\\xc1pZ=+\\xd0\\x08=\\xf0\\xc0\\x1f\\xbc5\\xde\\xa1;k\\x92\\xb6=s\\x92\\xa5;\\xeb\\x15v\\xbd\\xc0\\x8a\\x94\\xbc\\x12p\\xd9<De\\xeb;\\xfdr\\xb6\\xbc\\'b\\x03=\\x06?Z\\xbb\\xe4\\xfc\\x08=\\xf8g\\xad\\xbd\\x81)\\t>L\\xae\\xdb<F\\xab\\xb1<\\x17\\x8d\\xb1=\\xde\\x92\\x08\\xbd\\xa6\\xab*<|\\x9fz=\\xac_h\\xbd\\xb8\\xc3\\xcc;z\\x85\\xbb\\xbc\\xcc\\xdf4=\\xf4\\xbcP\\xbd\\x7f\\xe1\\x0b\\xbd\\x08\\xe8v=D\\xa4\\x13=R\\xdas=\\xe6\\x82\\xe7\\xbc_A\\xda<\\x13\\n\\x18=\\xe4P\\x93=KK*\\xbc\\xfaG\\x93\\xbcN\\x98\\xe1=\\x98\\x0f\\x07\\xbc2\\x97\\xa0\\xbd7\\xbe\\x89\\xbc\\xcf\\rH<I\\xf2\\x1f=\\xf6se\\xbc\\xaa\\xba|\\xbd.\\xfa\\x83=y;|<mU%=\\x9c\\xbf\\xad;\\x88-\\x9f\\xbdX,\\xa3\\xbd\\x0b\\xee\\xaa\\xbbm\\\\\\xf8<~o\\xc9\\xbd\\xeae\\xda;\\xdb\\xa9\\x89=\\xea1\\x8f\\xbd\\x93\\x1e\\x00\\xbd5c\\x1b\\xbd \\\\\\xea\\xbd\\xf6\\xd9]=\\xc0\\xf5g\\xbc\\\\#\\x03\\xbd\\xdde\\xd8=f{\\xf6\\x08G\\xc7z=\\xa4`.<\\x1fm\\xbf=?\\xbaz=<F\\xfc<\\x05J#\\xbc\\x80\\x84\\x04>\\xab\\xa6\\xc7\\xbcGR\\xad=\\x16\\x8c\\x83<\\x86\\x8f\\x9f\\xbdK\\xab\\x02=\\x89\\x87\\x03=P\\xa04:\\xc7A\\xba\\xbbe\\x93\\xdc\\xbb\\xeb5\\x90\\xbc!\\xf2K\\xbdk\\xac\\x86\\xbc\\xc3\\x84\\x13=^\\xfd\\xe5\\xbc\\x98\\x0cP=\\xd6i\\xe2\\xbc\\xf4|\\x9a\\xbd\\xb9\\xa8R\\xbcC4\\x80\\xbc\\xa9\\xd2\\xa1=\\x96fV\\xbd^]\\xd8\\xbd\\xcd\\x853\\xbd\\x8c$=\\xbda\\x98N=\\xee\\xe7`:\\xd2o\\x05\\xbd\\x18\\xe7\\xd9\\xbdB=\\x92\\xbc[l\\xa8=%\\xbf\\x8c<[\\xf3J\\xbd:\\xf1\\xa0\\xbd\\xb7\\x08\\x94=!\\xa1\\xc0\\xbc\\xa8\\xb5N<\\x87p\\x8a\\xbd\\x86\\xbe\\'\\xbcY\\x80\\xaa=0\\x977\\xbc\\x85\\xf4(=X\\x0b\\xdb\\xbdp\\xeb,=x\\xc0\\x15=\\xbc\\xf4\\x87<`\\x96\\xd9\\xbdX\\xc8\\x02>p#\\x0f\\xbaL\\xb3\\x07\\xbcw\\xef\\xd8\\xbcL\\t\\xdb\\xbc\\xd5f\\xb6\\xbd\\x10P\\xb7\\xb9\\x1f\\x0e\\x9a<R\"\\x91=\\xf9\\xcd#\\xbd\\xdd\\x86\\xa5<\\xf9\\x1a\\xeb=\\x14\\x06\\xac\\xbc;o\\x08\\xbd\\xdeAP<\\x15\\x81P<\\n\\xe4\\xbb;2\\xb4\\xa1\\xbd\\xc8\\xc9X\\xbd\\x07l~=a`|\\xbd\\xbe,\\x14<\\xe7\\xc5%\\xbc\\xceV\\x86\\xbd-\\x8a\\xa5\\xbc,%\\r\\xbd\\xd8\\x86X<Y\\x90\\xa0\\xbc\\xc47\\xc2<\\x80lI\\xbc\\x15\\x01\\xc9=\\x88Rb=g}\\xb2<\\x05\\xeb4\\xbd\\x1b\\xd2}\\xbd\\x14\\xcd\\x89\\xbc\\xc0\\x8aK=\\x99NG;\\x07\\x90\\x87\\xbc\\x18\\xf1{\\xbd<\\x82\\x81=\\x8f\\xbbj\\xbdA\\xc6D\\xb3s\\x02@\\xbc\\x1aVZ=\\xda\\x1b0\\xbd\\x06A\\x13\\xbdL\\xac\\x0b=t@\\xb6\\xbch\\x88{=\\xd5\\r]=r\\x1a\\x0b\\xbc\\xc5\\x00R=TZ\\xca;1\\x19x=\\xfc@(\\xbdMnj;\\xc2$\\x18\\xbc\\xfe\\x9e%\\xbd\\xe1\\xec\\xf4\\xbc\\x1d\\x08\\x17=\\xe3$\\xbb\\xbdL\\xc3\\xa8<\\xfc\\xb4\\xa1\\xbc\\xa7\\xfe\\t<\\'\\x03\\x99\\xbcb\\xe0s=Nc|={>\\xb7\\xbaw\\x19\\x08=t\\x8f\\x9c==z@=\\x0c,r\\xbd\\n6\\x02=\\x1c\\xf4\\xae=\\x82C:=\\xa9\\x1d\\xb1;g\\xad\\t=\\x99\\x17\\xe7=\\xbf\\x17\\xef<B\\x10\\xbe=\\x1b\\xca\\xef\\xbb\\xe8\\xea*\\xbc8}\\xfc;\\xf6\\xed\\xb4\\xbc\\xb3[\\xb5=m\\xe0\\x9a\\xbc1\\xa2z\\xbc\\xab{\\x03=\\xed\\xbd\\'\\xbd\\'$\\x95=~7\\xac\\xbc\\xb0\\xfb><X\\xdf\\x9b<}@\\xfa\\xbc\\xde\\x05_\\xbb\\xe2|\\xea<fi\\x8f=\\x84\\xf5h\\xbd\\x01\\xf6\\xf6;\\xcaY\\xd8\\xbd:y\\x02\\xbd>]Y\\xbdu[\\x9c=\\x13\\x06\\xb5;+\\xb5\\x1d=\\x1f\\x19]\\xbd'},\n",
       " {'chunk_id': '7',\n",
       "  'raw_content': Document(page_content='305 -', metadata={'source': '..//data/docs/white_blaze_sample_quick_info.pdf'}),\n",
       "  'proposition': '{\"proposition\": \"The Appalachian Trail shelter located at mile 305 is mentioned in the document sourced from \\'..//data/docs/white_blaze_sample_quick_info.pdf\\'.\"}',\n",
       "  'text_embedding': b'`\\x1b\\xb4\\xbc\\xe4\\xbb\\xe6=\\x14t\\x87\\xbcj\\xa0\\x91=m\\'\\xd8=\\xa5\\x973=\\xab\\x11:\\xbd\\x91\\x1dg\\xbb\\xcc\\xa2\\xa3\\xbd\\x1e\\x8e\\xe6<\\xfb`\\x9e\\xbc\\x8d!\\xd9<\\xbc\\xa4\\xae;t\\x7f\\x07\\xbc\\xd2<\\x9f;:;\\xc5=\\'W\\x1a\\xbb\\xcb}\\xef\\xbb\\xf9_\\x80<\\x8b\\xf7\\x7f;\\xaa\\xdc\\x92=\\xdd`\\x88=\\t\\x19\\x88=\\x02\\xed@=K4\\xa8;\\xe3E\\x8e9(W\\x94\\xbd\\x9c\\xfb\\xa7=\\x0e\\x0f3=Yp\\x01=Y2Y\\xbc*\\x10%\\xbd\\x98\\x83`=8\\xc4f<\\x99\\xe1\\xeb=\\x0c\\xd9\\xb6;\\\\\\x13\\x0b<2\\x89\\x10\\xbcf\\x85\\x86\\xbd\\xd8K1=\\x87\\xce\\x7f=Y\\x81N\\xbd\\xc4\\xde\\xc0\\xbc\\xd9G\\xf4<\\x1f\\xf5\\x94\\xbdr\\xdf\\x03=43\\x90\\xbd6_.=\\xdfo?\\xbc\\xcd\\xf2C=\\x13#\\x99=\\x84J\\x05\\xbc\\xab\\xea\\xdc\\xbd,\\xc1\\x8c\\xbd\\x89\\xf2\\x1e\\xbc\\xec\\xc2?\\xbc\\xc5\\xac\\x95\\xbd\\xd6\\t\\xae<\\x11\\xd0.\\xbc\\\\\\x18\\x91\\xbdh\\xcf!=\\x19\\xfe\\x7f8\\xb4\\xb0\\xbe\\xbd\\xbdgo=[\\xef\\x9b=\\x13\\x19Y=b\\xaf\\x86\\xbc6\\xb1\\xe8\\xbc\\xf1\\'\\xfe<\\xb4\\x11\\x17\\xbeoa\\xa6=\\x84\\xad\\xbb\\xba\\xdb\\xb7\\xb8<\\xba$g\\xbd\\x06;\\x86<\\xed\\xef\\xb8<M\\xa6\\x84<\\x0b\\xfe\\xf6=\\xf52\\x94<)\\x94\\x08\\xbe\\xe0 k\\xbd\\x9a\\xf3\\x82\\xbd\\x81\\xee\\x02=\\x82c\\t<\\xbec\\x86\\xbc\\xbd\\x81u=\\xdb{N\\xbd\\xd9\\xc00\\xbc%\\x95\\xde<\\xdd\\x0f^\\xbd_\\x88\\x95\\xbcmG\\xa4\\xbd\\xf4\\x90\\x9f\\xbd\\xb51{<\\rQL\\xbdi\\xc5t=4\\xe1`\\xbb-\\x1f\\x97\\xbcu\\\\\\t\\xbcW\\x15\\x0b=|\\xeb\\x9a;yL\\x84\\xbd\\xfa\\xae\\xf3;J\\x98\\n\\xbd)\\x8e\\xae\\xbc\\xea\\x91\\xf3\\xbd\\x0eT9\\xbb\\x0f\\xd0w=\\xa9+j\\xbc\\x98\\x98M\\xbc\\xd6t\\x88<u\\xe7,=\\x90\\x8c\\xa5=\\x0c\\x1b\\x83=\\xa0)\\xba\\xbch>\\x85\\xbd\\x9e\\x8d\\xbe\\xbc\\xd6\\xf98<\\xd8Z\\xb7<\\xcdm`\\xbc\\xd1\\x7f%\\xbc\\x99\\x9c\\x8a<\\x04V\\n<m=9\\xbd\\xbf\\x93y\\xbd\\r\\x8c\\xa5\\xbd\\xd7T:=[&\\n\\x8aU\\xcbH=\\xf8\\xcd\\xb7<\\x0c\\xe5\\xe9\\xbbBF\\x88=\\xf9\\xedw=\\x06bB\\xbc\\xd2w\\x81\\xbd\\xc9\\x13\\xa5\\xbbgY\\xe9\\xbd\\xa0*\\x13=\\x99\\x05\\x03\\xbd@\\x01\\x1d\\xbb\\xe0n\\xc9<\\xfb\\xcd+=A\\xca\\xbf;DT\\xc4\\xbc\\x9a\\xfd\\xb0\\xbd\\xb9\\xbe\\xd6\\xbc\\xfd\\xbb\\n\\xbd\\xc7[y\\xbdXr\\x85\\xbb\\xecl==o\\xf0\\x18;\\x0c\\xf8\\xa7<\\x9c*>\\xbdN\\x98*<\\xaa%J\\xbb\\xb8Y\\xda<\\x1a\\x94\\x81\\xbdN\\xe8?=S}a\\xbd\\xfa@\\x10\\xbc\\x8dmi=\\x91>\\xbd\\xbdN\\xf6\\x83=0\\xb1(=?\\xc8\\xb4\\xbc\\xb4=\\xa7\\xbd\\x9c5\\xa8\\xbd!\\xe9\\xb1<\\xcb\\x9bp\\xbb\\xb5\\x953\\xbc\\xba?}<\\x8b\\xeb\\xb7<\\x8fo\\xb8<\\xa1*\\xf8;\\x9a\\xf9\\xe1=\\'\\xfcM<\\xf8\\x92\\x10<\\x9f\\xc6\\xec<\\x80\\x99\\xf9\\xbc\\xc2E\\xfc\\xbc\\x8c\\xd3\\x10=\\xc2i\\xaa\\xbd\\x8b$\\xd9\\xbc\\x9fX\"<\\xd1\\x8c\\xc5;\\x13\\xa2\\x84:\\x07\\x12\\x1c<\\xf1\\xb4\\x03\\xbc\\x94,\\xeb=\\xdd\\x8e\\xaf=J&5\\xbc\\xb0\\xf0\\xef\\xbce\\xc4\\x8c\\xbc\\xf6\\x87\\xd9\\xbc^\\x8d(\\xbd\\x81\\x16\\xf0\\xbb\\x07 \\x9c=\\xc1g\\xf8<K/j<\\x00V\\x9c\\xb9\\t\\x9e\\x87\\xbbJi\\x87<\\xe3\\xc0\\x06\\xbas\\x8e\\xf6\\xbc\\x97\\xa8\\x99=)\\xa8\\x8d=I.y\\xbc\\xcbT\\x1e\\xbd3\\xfc\\x0f<\\x97B\\x08\\xbe\\xac\\x87\\x9d\\xbcq\\rh=j!\\xaf\\xbb\\x81\\xbb\\xc8\\xbcK\\xa4\\x149\\x96\\xb8D\\xbd\\xfa\\x1ah\\xbd\\x90\\xd4\\xe8\\xbb{\\x0bX\\xbd KU=N\\xe5\\x97\\xbdD^\\x97\\xbd:\\x03\\r<\\xf7U\\xa3\\tf\\x87:=O\\x1e3\\xbcV\\xd1\\xc5=F\\xc1R<\\n?\\xdb\\xbbf\\xa8\\x18\\xbdKAb=\\x01\\xf7O\\xbd\\xb1uL=\\xc5\\x8fB\\xbb\\xbb\\xa2\\xa5\\xbc\\xbc\\xfc0\\xbd\\xc2&\\xcd=\\xf9\\\\\\x0e=\\x8d\\x9d\\xd9:C\\xa3\\x85<h\\xc9Q\\xbdyg\\x0f\\xbc\\x0fW\\xe1\\xbc\\x1cj\\xed<\\xed\\x8a\\xd8\\xbd1\\xe2\\xf2<\\x80xs\\xbd\\xccf\\xca\\xbc\\x805N<[\\x16K\\xbdc\\x90O=H\\x17\\x1d=\\xf1\\xf0h\\xbd\\x99\\x14\\x92\\xbdN|+\\xbd\\xef\\xf0\\x15=\\xc7W\\x9b\\xbd`U\\xb8<Q\\xd1\\x8b\\xbdb\\xd7\\x92\\xbcr\\xe00>WG0\\xbd\\xfc\\\\\\x1b\\xbd\\x1b\\xdb\\xda\\xbd\\xdbt\\xeb=\\xc9<v:U\\xea \\xbdP\\xdc,\\xbdx=\\x0c=\\xb3Q\\x1e=c\\xab\\x87<\\xe7\\x02p<\\x04\\x12\\xa3\\xbdJ\\xda\\xba<\\x0e\\x9dk=\\xcc\\x1cz\\xbc\\x15\\x00\\x13\\xbd,\\xfd\\xc9=\\x94&\\xa6<\\xa2\\x9a,\\xbd\\xaa\\x08$\\xbdz\\x07\\x03\\xbd fn<\\xb3[\\x85<\\xec\\xd1\\xd2;\\xd5p\\xb4=-\\x1f\\x93\\xbd\\xa6\\\\\\x94=\\xf1\\xeb\\xdc=6\\xb4\\xbc\\xbd\\xdd\\xb9^\\xbd\\x92\\x19\\xa4\\xbc\\x17\\x1b/\\xbd\\xaf\\x14O<\\x8aL\\x8c\\xbdkG\\x8a\\xbd\\x80\\xaf\\xbb\\xbcA\\x96\\xf4\\xbc\\x9b\\xcc\\xee\\xbbT\\x94\\xab<F\\x99\\xbc;\\xa4\\xa6E\\xbc\\xcb\\xe2.\\xbd\\x04\\xc1\\x99\\xbc\\x81\\xf6)=\\xcc\\x07\\x15\\xbdkr*;l\\x00u=_E\\xac=\\x1a\\xc8-=K>\"<\\x9cs\\x83\\xb9\\xd9\\x1cH\\xbd\\x01\\xa5g=\\xdb\\xa7\\x14\\xbd\\xe75\\x89<w\\xa1>\\xbd\\xd4}\\xbb=\\x99\\xaf\\x99\\xbdR*\\x0c\\xb3\\x82\\xaa\\xc8<\\xa5\\xb4\\'>\\xd9[\\x92\\xbc\\x16Fo\\xbd\\x8e\\xc9\\x90=-\\xd2\\x8b=\\x87{\\x9f=!=\\xf6\\xbc%\\xa0\\x17\\xbd\\x9d\\xb94=\\xfa\\xb6D\\xbc\\xf6k\\xc1<\\x90\\x1dk\\xbc\\xff\\xa5\\x9c<\\xd2\\x86`\\xbd\\x9b\\xfd\\xd9\\xbcE\\x1fm\\xbd\\xca\\x85b\\xbc\\xd1-1\\xbd;jJ=X\\xb9\\xb0<\\x10$\\xf0<\\x01H\\x15=\\xeb;\\x0f=\\xe8\\xab\\x9f=\\xb1\\x0eC\\xbb\\x84\\x0b\\x8a;CuR=6\\xa8~=_\\xea\\x02\\xbd\\x88c=\\xbdS\\xaf\\x8f=O\\xd1\\xa0\\xbc\\xc5O\\x9d\\xbd$}~\\xbc[\\tm=\\xe5*,<u\\xf9\\xfa=\\xcd\\x9eO=\\xbc\\x9e5\\xbb\\x92\\xfc\\x89<\\xf5\\xe7(;\\xb5li\\xbc\\xe1\\xe9\\xa7;\\x99\\xb18=5\\xe0\\xdd<{\\xcd\\xf0\\xbcQ;\\r=\\xeb\\x873\\xbd\\xd3O\\xa2\\xbb\\xe3\\xf2\\xae\\xb9\\\\4\\x99\\xbd\\xc3\\xbf\\xea\\xbb(\\xaaj=n\\xbe\\x02=fJ\\xde\\xbd\\xec\\xc9!<m\\xe2\\x99\\xbd\\xb2,\\xc4;\\x7f\\xb6\\x96\\xbdx2\\xc2=\\x1eJ\\x90<\\x8eJ\\xa4<\\x99Jj\\xbd'}]"
      ]
     },
     "execution_count": 75,
     "metadata": {},
     "output_type": "execute_result"
    },
    {
     "ename": "",
     "evalue": "",
     "output_type": "error",
     "traceback": [
      "\u001b[1;31mThe Kernel crashed while executing code in the the current cell or a previous cell. Please review the code in the cell(s) to identify a possible cause of the failure. Click <a href='https://aka.ms/vscodeJupyterKernelCrash'>here</a> for more info. View Jupyter <a href='command:jupyter.viewOutput'>log</a> for further details."
     ]
    }
   ],
   "source": [
    "redis_data"
   ]
  },
  {
   "cell_type": "code",
   "execution_count": 68,
   "metadata": {},
   "outputs": [],
   "source": [
    "hf = HFTextVectorizer(settings.VECTORIZER)\n",
    "embeddings = hf.embed_many(\n",
    "            [proposition for proposition in c.propositions]\n",
    "        )\n"
   ]
  },
  {
   "cell_type": "code",
   "execution_count": 69,
   "metadata": {},
   "outputs": [],
   "source": [
    "assert len(embeddings) == len(c.propositions)"
   ]
  },
  {
   "cell_type": "code",
   "execution_count": 1,
   "metadata": {},
   "outputs": [
    {
     "data": {
      "text/plain": [
       "'one\\ntwo\\nthree\\nfour\\nfive'"
      ]
     },
     "execution_count": 1,
     "metadata": {},
     "output_type": "execute_result"
    }
   ],
   "source": [
    "t = [\"one\", \"two\", \"three\", \"four\", \"five\"]\n",
    "\n",
    "\"\\n\".join(t)"
   ]
  },
  {
   "cell_type": "code",
   "execution_count": 12,
   "metadata": {},
   "outputs": [],
   "source": [
    "def define_schema() -> IndexSchema:\n",
    "    return IndexSchema.from_dict(\n",
    "        {\n",
    "            \"index\": {\"name\": settings.REDIS_INDEX_NAME, \"prefix\": \"chunk\"},\n",
    "            \"fields\": [\n",
    "                {\"name\": \"chunk_id\", \"type\": \"tag\", \"attrs\": {\"sortable\": True}},\n",
    "                {\"name\": \"raw_content\", \"type\": \"text\"},\n",
    "                {\"name\": \"proposition\", \"type\": \"text\"},\n",
    "                {\n",
    "                    \"name\": \"text_embedding\",\n",
    "                    \"type\": \"vector\",\n",
    "                    \"attrs\": {\n",
    "                        \"dims\": hf.dims,\n",
    "                        \"distance_metric\": \"cosine\",\n",
    "                        \"algorithm\": \"hnsw\",\n",
    "                        \"datatype\": \"float32\",\n",
    "                    },\n",
    "                },\n",
    "            ],\n",
    "        }\n",
    "    )\n"
   ]
  },
  {
   "cell_type": "code",
   "execution_count": 30,
   "metadata": {},
   "outputs": [],
   "source": [
    "from redisvl.query import VectorQuery\n",
    "from redisvl.utils.vectorize import HFTextVectorizer\n",
    "\n",
    "\n",
    "hf = HFTextVectorizer(settings.VECTORIZER)\n",
    "\n",
    "\n",
    "class Chat:\n",
    "    def __init__(self, index):\n",
    "        self.index = index\n",
    "        self.last_message: str = \"\"\n",
    "        self.chat_messages: list[str] = []\n",
    "        # might have other structures for holding data but none that I can think of right now\n",
    "\n",
    "    def add_message(self, msg):\n",
    "        self.chat_messages.append(msg)\n",
    "\n",
    "    def embed_query(self, query):\n",
    "        return hf.embed(query)\n",
    "\n",
    "    # this is when we want to respond to a message we first need to get the most relevant data to answer the question from the db\n",
    "    def retrieve_context(self, query):\n",
    "\n",
    "        query_embedding = self.embed_query(query)\n",
    "\n",
    "        vector_query = VectorQuery(\n",
    "            vector=query_embedding,\n",
    "            vector_field_name=\"text_embedding\",\n",
    "            num_results=3,\n",
    "            return_fields=[\"label\", \"propositions\"],\n",
    "            return_score=True,\n",
    "        )\n",
    "\n",
    "        # we would need reference to the index to query it that makes sense\n",
    "        res = self.index.query(vector_query)\n",
    "\n",
    "        return \"\\n\".join(\n",
    "            [r[\"propositions\"] for r in res]\n",
    "        )  # just take the first one for now.\n",
    "\n",
    "    def promptify(self, query: str, context: str) -> str:\n",
    "        \"\"\"promptify takes the user's question and the context from the db and ask the generative AI to make an answer based in that world\"\"\"\n",
    "\n",
    "        return f\"\"\"Use the provided context below derived from a Applachian trail guide pdf to answer the user's question.\n",
    "        If you can't answer the user's question, based on the context; do not guess. If there is no context at all,\n",
    "        respond with \"I don't know\".\n",
    "\n",
    "        User's previous questions:\n",
    "\n",
    "        {\" \".join(self.chat_messages)}\n",
    "\n",
    "        User question:\n",
    "\n",
    "        {self.last_message}\n",
    "\n",
    "        Helpful context:\n",
    "\n",
    "        {context}\n",
    "\n",
    "        Answer:\n",
    "    \"\"\"\n",
    "\n",
    "    async def answer_question(self, query):\n",
    "        context = self.retrieve_context(query)\n",
    "\n",
    "        SYSTEM_PROMPT = \"You are a tool assiting hikers find simple trail info.\"\n",
    "\n",
    "        response = await openai.AsyncClient().chat.completions.create(\n",
    "            model=settings.CHAT_MODEL,\n",
    "            messages=[\n",
    "                {\"role\": \"system\", \"content\": SYSTEM_PROMPT},\n",
    "                {\"role\": \"user\", \"content\": self.promptify(query, context)},\n",
    "            ],\n",
    "            temperature=0.1,\n",
    "            seed=42,\n",
    "        )\n",
    "\n",
    "        # Response provided by LLM\n",
    "        res = response.choices[0].message.content\n",
    "        self.add_message(res)\n",
    "        return res\n"
   ]
  },
  {
   "cell_type": "code",
   "execution_count": 22,
   "metadata": {},
   "outputs": [],
   "source": [
    "from langchain.text_splitter import RecursiveCharacterTextSplitter\n",
    "from langchain.document_loaders import UnstructuredFileLoader\n",
    "import openai\n",
    "import os\n",
    "from dotenv import load_dotenv\n",
    "# from at_tool.context import Context\n",
    "# from at_tool.chat import Chat\n",
    "# from utilities.redis import define_schema\n",
    "from redis import Redis\n",
    "from redisvl.schema import IndexSchema\n",
    "from redisvl.index import SearchIndex\n",
    "import asyncio\n",
    "\n",
    "\n",
    "\n",
    "def init_db():\n",
    "    # define docs to be loaded into context\n",
    "    cwd = os.getcwd()\n",
    "    docs = [os.path.join(cwd, \"data/docs/white_blaze_sample_quick_info.pdf\")]\n",
    "\n",
    "    # init redis client\n",
    "    client = Redis.from_url(os.environ[\"REDIS_URL\"])\n",
    "    schema = define_schema()\n",
    "\n",
    "    # create an index from schema and the client\n",
    "    index = SearchIndex(schema, client)\n",
    "    print(f\"{client.keys=}\")\n",
    "\n",
    "    if not client.keys:\n",
    "        index.create(overwrite=True, drop=True)\n",
    "\n",
    "        # create context and load into database\n",
    "        context = Context(docs)\n",
    "        redis_data = context.get_redis_data()\n",
    "        print(redis_data)\n",
    "        index.load(redis_data, id_field=\"chunk_id\")\n",
    "\n",
    "    return index"
   ]
  },
  {
   "cell_type": "code",
   "execution_count": 37,
   "metadata": {},
   "outputs": [
    {
     "name": "stdout",
     "output_type": "stream",
     "text": [
      "client.keys=<bound method BasicKeyCommands.keys of Redis<ConnectionPool<Connection<host=redis-15067.c274.us-east-1-3.ec2.cloud.redislabs.com,port=15067,db=0>>>>\n"
     ]
    }
   ],
   "source": [
    "\n",
    "index = init_db()\n",
    "c = Chat(index)"
   ]
  },
  {
   "cell_type": "code",
   "execution_count": 38,
   "metadata": {},
   "outputs": [
    {
     "name": "stdout",
     "output_type": "stream",
     "text": [
      "hello\n",
      "None\n"
     ]
    },
    {
     "data": {
      "text/plain": [
       "['hello', 'hello']"
      ]
     },
     "execution_count": 38,
     "metadata": {},
     "output_type": "execute_result"
    }
   ],
   "source": [
    "c.add_message(\"hello\")\n",
    "c.chat_messages"
   ]
  },
  {
   "cell_type": "code",
   "execution_count": 14,
   "metadata": {},
   "outputs": [],
   "source": [
    "async def start_chat(chat):\n",
    "  # move these to settings\n",
    "  stopterms = [\"exit\", \"quit\", \"end\", \"cancel\"]\n",
    "\n",
    "  # Simple Chat\n",
    "  while True:\n",
    "      most_recent_question = input()\n",
    "      if most_recent_question.lower() in stopterms:\n",
    "          break\n",
    "\n",
    "      answer = await chat.answer_question(most_recent_question)\n",
    "      print(answer, flush=True)"
   ]
  },
  {
   "cell_type": "code",
   "execution_count": 15,
   "metadata": {},
   "outputs": [
    {
     "data": {
      "text/plain": [
       "<coroutine object start_chat at 0x000001AD2D447C40>"
      ]
     },
     "execution_count": 15,
     "metadata": {},
     "output_type": "execute_result"
    }
   ],
   "source": [
    "start_chat(c)"
   ]
  },
  {
   "cell_type": "code",
   "execution_count": 25,
   "metadata": {},
   "outputs": [],
   "source": [
    "c.chat_messages"
   ]
  },
  {
   "cell_type": "code",
   "execution_count": 34,
   "metadata": {},
   "outputs": [],
   "source": [
    "class SomeClass:\n",
    "  def __init__(self):\n",
    "    self.some_list: list[str] = []\n",
    "  \n",
    "  def update_list(self, msg):\n",
    "    self.some_list.append(msg)"
   ]
  },
  {
   "cell_type": "code",
   "execution_count": 35,
   "metadata": {},
   "outputs": [
    {
     "data": {
      "text/plain": [
       "['hello']"
      ]
     },
     "execution_count": 35,
     "metadata": {},
     "output_type": "execute_result"
    }
   ],
   "source": [
    "s = SomeClass()\n",
    "s.update_list(\"hello\")\n",
    "s.some_list"
   ]
  },
  {
   "cell_type": "code",
   "execution_count": 54,
   "metadata": {},
   "outputs": [],
   "source": [
    "def retrieve_context(index, query):\n",
    "  query_embedding = hf.embed(query)\n",
    "\n",
    "  vector_query = VectorQuery(\n",
    "      vector=query_embedding,\n",
    "      vector_field_name=\"text_embedding\",\n",
    "      num_results=3,\n",
    "      return_fields=[\"raw_content\", \"proposition\"],\n",
    "      return_score=True,\n",
    "  )\n",
    "\n",
    "  # we would need reference to the index to query it that makes sense\n",
    "  res = index.query(vector_query)\n",
    "  print(f\"hello: {res}\")\n",
    "\n",
    "  return \"\\n\".join(\n",
    "      [r[\"proposition\"] for r in res]\n",
    "  )  # just take the first one for now."
   ]
  },
  {
   "cell_type": "code",
   "execution_count": 64,
   "metadata": {},
   "outputs": [],
   "source": [
    "def init_db():\n",
    "    # define docs to be loaded into context\n",
    "    # cwd = os.getcwd()\n",
    "    docs = [\"../data/docs/white_blaze_sample_quick_info.pdf\"]\n",
    "\n",
    "    # init redis client\n",
    "    client = Redis.from_url(os.environ[\"REDIS_URL\"])\n",
    "    schema = define_schema()\n",
    "\n",
    "    # create an index from schema and the client\n",
    "    index = SearchIndex(schema, client)\n",
    "    print(f\"{client.keys=}\")\n",
    "\n",
    "    if not client.keys():\n",
    "        print(\"No data found creating loading index\")\n",
    "        index.create(overwrite=True, drop=True)\n",
    "        print(\"index created\")\n",
    "\n",
    "        # create context and load into database\n",
    "        context = Context(docs)\n",
    "        redis_data = context.get_redis_data()\n",
    "        print(redis_data)\n",
    "        index.load(redis_data, id_field=\"chunk_id\")\n",
    "\n",
    "    return index"
   ]
  },
  {
   "cell_type": "code",
   "execution_count": 82,
   "metadata": {},
   "outputs": [
    {
     "name": "stdout",
     "output_type": "stream",
     "text": [
      "client.keys=<bound method BasicKeyCommands.keys of Redis<ConnectionPool<Connection<host=redis-15067.c274.us-east-1-3.ec2.cloud.redislabs.com,port=15067,db=0>>>>\n",
      "No data found creating loading index\n",
      "\u001b[32m12:12:01\u001b[0m \u001b[34mredisvl.index.index\u001b[0m \u001b[1;30mINFO\u001b[0m   Index already exists, overwriting.\n",
      "index created\n"
     ]
    }
   ],
   "source": [
    "# define docs to be loaded into context\n",
    "# cwd = os.getcwd()\n",
    "docs = [\"../data/docs/white_blaze_sample_quick_info.pdf\"]\n",
    "\n",
    "# init redis client\n",
    "client = Redis.from_url(os.environ[\"REDIS_URL\"])\n",
    "schema = define_schema()\n",
    "\n",
    "# create an index from schema and the client\n",
    "index = SearchIndex(schema, client)\n",
    "print(f\"{client.keys=}\")\n",
    "\n",
    "if not client.keys():\n",
    "    print(\"No data found creating loading index\")\n",
    "    index.create(overwrite=True, drop=True)\n",
    "    print(\"index created\")\n",
    "\n",
    "    # create context and load into database\n",
    "    context = Context(docs)\n",
    "    redis_data = context.get_redis_data()"
   ]
  },
  {
   "cell_type": "code",
   "execution_count": 83,
   "metadata": {},
   "outputs": [
    {
     "data": {
      "text/plain": [
       "{'chunk_id': '0',\n",
       " 'raw_content': 'Resupply\\n\\nResupply locations along the Appalachian Trail ATTENTION: For more detailed information read write-up under mileage in book and see maps. Shaded entries are 1.0 miles or less from the Appalachian Trail that are full resupplies or PO’s.\\n\\n~Designates map available = e Location Suches, GA~e Neel Gap, GA Blairsville, GA Dahlonega, GA Helen, GA~e Hiawassee, GA~e Franklin, NC~e NOC, NC~e Stecoah Gap, NC (NC. 143)~e Robbinsville, NC~e Fontana Village, NC~e Gatlinburg, TN~e Cherokee, NC Davenport Gap, TN~e Green Corner Road~e Hot Springs, NC~e Log Cabin Rd~e Sams Gap, TN~e Uncle Johnny’s Nolichucky Hostel~e Erwin, TN~e Elk Park, NC~e Roan Mountain, TN~e Scotty’s Budget Hostel Dennis Cove, TN~e Shook Branch Road~e Hampton, TN~e Shady Valley, TN~e Damascus, VA~e Troutdale, VA~e Sugar Grove, VA\\n\\nNOBO Mile 20.5 31.3 31.3 31.3 52.5 69.2 109.4 136.7 150.5 150.5 165.9 207.7 207.7 239.2 241.5 274.9 291.2 319.7 344.3 344.3 395.3 395.3 407.4 420.0 428.5 428.6 455.7 470.7 520.2 534.3 534.3 Marion, VA~e Atkins, VA~e 546.0 Quarter Way Inn 555.8 VA. 42/W Blue Grass Trail~e 558.3 Saint Luke’s Hostel 576.0 Bland, VA~e 591.8 Bastian, VA 591.8 VA. 606 610.2 Sugar Run Gap, VA~e 625.4 Narrows, VA 637.1 Pearisburg, VA~e 637.1 Newport, VA 677.8 Catawba, VA~e 704.6 Daleville, VA~e 730.3 Troutville, VA~e 731.8 Buchanan, VA~e 751.9 Jennings Creek Road, VA. 614~e 758.5 Big Island, VA 787.3\\n\\nSOBO Mile (2.0W) gM 2176.0 G 2165.2 On Trail (14.0W) GM 2165.2 (17.0E) GM 2165.2 (9.0E) GM 2144.0 (11.0W) GM 2127.3 (10.0E) GM 2087.1 G 2059.8 On Trail G 2046.0 (3.4E) (7.0W) GM 2046.0 (2.0W) GM 2030.6 (15.0W) GM 1988.8 (18.0E) GM 1988.8 g 1957.3 (1.2E) g (0.1W) 1955.0 On Trail GM 1921.6 G 1905.3 (0.7W) g (2.7W) 1873.4 G 1852.2 On Trail (3.8W) GM 1852.2 M 1801.2 (2.3E) (3.5W) GM 1801.0 g (0.25W) 1789.1 G 1776.5 On Trail g (0.1W) 1768.0 (2.6W) GM 1767.9 gM 1740.8 (2.7E) On Trail GM 1725.8 (2.6E) GM 1676.3 M 1662.2 (3.2E) M 1662.2 (6.0W) On Trail gM 1650.5 G 1640.7 (0.3W) g (0.2E) 1638.2 G 1620.5 (5.1W) (2.5E) GM 1604.7 (3.0W) gM 1604.7 g (0.5W) 1586.3 G 1571.1 (0.5E) (3.6W) GM 1559.4 (1.3E) GM 1559.4 (8.0E) GM 1518.7 (0.4W) GM 1491.9 On Trail GM 1466.2 M 1464.7 (1.0E) (5.0W) gM 1444.6 g (1.2E) 1438.0 gM 1409.2 (5.6E) - 282 -\\n\\nFrom\\n\\ntrail head Options\\n\\nPost Offices\\n\\nSuches, GA (2.0W)\\n\\n20.5 M` PO M–F 12:15pm - 4:15pm, Sa-SU Closed. 706-747-2611. 72078 State Highway 60\\n\\nSuches, GA 30572.\\n\\nM[34.69004,-84.02210]\\n\\nHelen, GA 30545 (9.0E)',\n",
       " 'proposition': 'Resupply locations along the Appalachian Trail include shelters and points of interest such as Neel Gap, GA; NOC, NC; Fontana Village, NC; Hot Springs, NC; Damascus, VA; Pearisburg, VA; Daleville, VA; Jennings Creek Road, VA; Sugar Grove, VA; and many more. Mile markers for NOBO range from 20.5 to 787.3, and for SOBO from 1409.2 to 2165.2. Post Offices for trailhead options are available in Suches, GA and Helen, GA.',\n",
       " 'text_embedding': b'[W{\\xbc\\x96\\xcf9;\\xce\\xda}\\xbd\\xa3\\x80\\xf9<\\xb8\\x16\\x91\\xbc~\\x9bQ<\\x0efU\\xbd\\xd4c\\x19\\xbcFg\\xbf\\xbc8I\\xe8<h\\x805=\\xcd\\xa3,\\xbdGV1\\xbdL\\xe1:\\xbd\\xf2\\xf2\\xb1;\\x99\\x8b\\x9b=:\\x0e\\xe9=\\xd3O3=P.`=5\\xcf\\x91\\xbd<(\\\\=\\x9c\\xaf\\x97=]\\xd8\\x89=C\\xc0;\\xbc\\xd0b\\xeb:\\xc6\\\\\\x9b\\xbd[\\xa4\\xa7\\xbdK\\xd46<\\x92A\\xb8<\\xc0\\x99*\\xbdk{p<\\x8a8\\x7f\\xbdM$\\xba\\xbd\\x1d\\x84\\xe2\\xbc`\\xe7\\x03>\\xad\\xa9\\x1e\\xba\\x8db\\x8f\\xbcm\\xb78=9\\xc8y\\xbd\\x86\\xff\\x1b\\xbc\\x1f*\\x99=\\xd6\\x82!=\\xdc,3\\xbdQ\\xe9\\x81;\\xd08\\xa8\\xbc\\xcer1<h\\xd2\\x84\\xbc&g\\x9e=k\\x9e\\'=\\xe1b\\x94\\xbd\\x92\\x05T=\\xa3\\xd1u\\xbdn\\xd0\\xd2\\xbd\\x00\\x93\\x9b\\xba,\\xea\\xad\\xbd@\\xd5O\\xbc\\x05\\xc3\\x12\\xbdb\\xc4&\\xbd\\xfe\\xfc\\\\\\xbd\\xe5\\xc9\\xb7\\xbc\\xd0\\xc7M<\\x08|\\x1c<\\xe8\\x0bm\\xbd\\xc73\\xd8\\xbcj(\\xdd<o*\\xc1=\\x91O\\x08\\xbd\\xeb\\x06\\x00\\xbcF\\xa6\\x89<\\x17\\xb9\\x8d\\xbd\\xc8O\\xc0\\xb9\\xd3\\xfb!\\xbcZ\\xfaH\\xbcX\\x96\\xfa\\xbc\\tVP\\xbc\\xd7b}=\\x03\\xf8==\\x97r\\x18>\\xf0\\x8b4=\\xd3VR\\xbd\\xe12\\x13\\xbd\\x93^\\xe1<{9K=b&\\x8f=\\xf0\\xba\\xda\\xbb\\xed\\xd1\\x8f\\xbcE\\xc9\\x98\\xbd\\xd9\\x18<={\\x94\\xb0=4?;\\xbd\\xd6R1;Yfm<\\xb2\\xf9\\xa4\\xbd/\\x87{\\xbc\\x1e\\x92\\xaa\\xbd3Pa\\xbc\\xd8N\\xc8\\xbcyf\\x80=\\x9e\\x8f\\x1d\\xbd\\xeaB\\x1e\\xbdl\\xcb8=\\xf2g\\xbb\\xbd\\xa6\\xbd\\xaf\\xbc\\xd0e\\x06\\xbd\\x8bq\\xf5\\xbc\\x98\\x08o=da\\xe6\\xbc\\xf2_M;\\xf5K\\'=Gk6=\\xae\\x00/\\xbd\\xc1\\r\\x12=\\xb3\\xec\\xcd<\\x92\\xe6\\\\=\\x88\\xa5\\x9a\\xbc\\x13\\xe4\\x86\\xbdx\\x07\\x1e\\xbc\\xc4\\xac=\\xbcZ\\xb5\\x04=*\\x0c*\\xbd+\\xd9\\xe6\\xbd\\xf7b\\xb0<\\x91yT=N\\x90\\xef\\xbcp\\x1d\\x92\\xbc3+\\xa2=\\xefO\\x00=\\xaa\\xbd\\xb7\\x86\\x01\\x82T=\\x07\\xbd\\x13=kZQ=j\\\\\\x8b<\\x0bl\\x86\\xbc\\xfd~\\xb3<B\\xb3l\\xbc\\xf8([\\xbd\\xed/q\\xbd\\x9e\\xa6\\x9e<h.\\x8f\\xbcI\\xd7}\\xbd\\x84x\\xf2<\\x1d\\x16\\xf5;\\xd1\\xc5\\xbf=l&\\x83\\xbdi\\xa5\\xc6<\\xd3\\xff\\x97\\xbd\\xbe\\xe4\\xdf\\xbc5\\xfb\\x99\\xbc\\xde\\x8b\\xda\\xbd\\x9bx4\\xbck\\xd9\\x18\\xbd\\xf2\\xb1\\xa7<\\xe2\\x00\\xf0;uo==\\xba\\xcb\\x9a\\xbd\\x17\\xc3:=ct\\xc3\\xbd\\xab\\xc2u<\\x02{\\xb8\\xbc\\r\\x0f\\xa7<4\\xe2\\x99=\\xcf\\x14\\xb3\\xbd\\x85\\xdaj=\\x1ei\\x1e\\xbd\\xcc\\xaf0\\xbc\\xd1Y\\x14<+)\\xf5:/\\xee\\x95\\xbc\\x17\\xf0\\t=J5\\xae;\\xf2\\x87S\\xbcs\\'d<\\xf5{m=\\xcf?;=\\x9b\\xc6\\xe3=D\\x15\\x8b=.\\x88\\x02:kd\\xef\\xbc*\\x1b\\x16\\xbdc4\\x84=!\\x93W\\xbd\\xaf4\\x9b\\xbc\\x19La\\xbd=DM<\\xdf|\\xbc\\xbc\\x18O\\x13\\xbcL\\xa8c=\\xac\\x1ew\\xbb@\\xa4\\xa5=\\x86p~=_\\x7f\\x8e<\\x8ev\\xbe\\xbd2\\xef&\\xbd\\xd4\\xa9\\xe8\\xbd\\x91\\xf9\\x97<\\xd2\\xd0G<8\\xf9\\x8c\\xbc\\xcc\\xd6\\xe6;\\xf5\\xe3$=\\xc6\\x84+\\xbc\\xdb\\xb5\\xa9<\\xfd.t=S\\x1a^<a\\xc7\\xb1\\xbc\\xc5sA= \\x7fv=?3\\xbb={\\xfcl\\xbdj8|=!\\x15j\\xbdS\\x0f=\\xbd~E\\x91\\xbb\\x96\\t\\xa2=p\\x06\\xfe\\xbd\\x94#\\x9b\\xbc\\xee!\\xab\\xbdJ\\xc9\\xa7\\xbd\\xd5\\xcd\\x8b\\xbd\\xc4\\xf4F<\\xd4=&=\\xf8\\xeb\\xb0\\xbd\\x86FO\\xbd]\\x188=\\xb3\\xb7\\x05\\x89\\x02\\xdc\\xe1=\\xe6\\x04\\xed\\xbc \\xaf\\xcd=;\\xd6\\xa9\\xbch\\x82\\xe4<Q\\xe1\\xfd\\xbcce[=D\\xfa\\xa1\\xbd.3\\x81=\\x0c\\xbb\\xcf<\\xb9\\xc6\\x93\\xbd\\xc4\\xcc\\xf5\\xbb\\xbc\\xa7L=\\x86\\x1f\\xaa87\\xd3B=v~\\xe7\\xba{B\\x04\\xbd\\xab\\xd3\\xed<77I<\\x04\\xbdV\\xbd\\x8e\\x85\\r\\xbd\\xdb\\xf1\\xcd\\xbc:m\\xd8\\xbc\\xea26\\xbdb\\x12\\x03=\\x97y|<\\xfe5\\x8d\\xbd+\\xf6#=\\x90D\\xf7<\\xf7\\x13@\\xbcB\\xeab<\\x1d\\xd2\\x00=[\\xe1\\x15=\\x94\\x94\\x82\\xbds\\xed4\\xbd\\xa4\\xa8\\xd2\\xbc]\\xd1$=\\x08\\x80\\xbc\\xbb\\x89\\n\\x1b=w\\xcd\\x8c\\xbdK\\x12\\xb8=\\xcf9\\xc0<\\x1e\\x98\\xa1=\\xc2.\\x13\\xbdQ\\xd5\\x0f=C\\xb0\\x83=@?\\x93\\xbdC=\\x97\\xbbH`\\xfa\\xbd\\xebT\\x8e=\\xefA6=\\xdeF\\x80=\\xfeYf\\xbd\\x14O\\x02>\\x9f_\\xad<\\x00\\xaaD=\\xa6_\\x1b\\xbc\\xf4?\\xd7\\xbcM\\xe7\\xe5\\xbc-D\\xa5\\xbd^5\\x86\\xbcw\\xe2\\xc5<\\x0bDv\\xbc\\t\\x1aY=\\xbbx\\xca=g\\x04\\x1a\\xbc\\x12,\\x08=\\x0bY\\x13<cx\\xde\\xbdJb\\xc3;\\xed\\x15\\xb9\\xbd<\\xafG\\xbd\\xed\\xa6\\x83;[,\\xc5\\xbd\\xfe\\x00\\x9b\\xbdF\\xcc\\xf1<\\x9b(<\\xbb\\xac\\x0b\\xdb\\xbb\\x9f\\x84o<\\x82\\xad\\x90\\xbd\\x9ewR\\xbd\\xff\\xac\\xf1:=\\xb4,;\\x85\\x9d\\xdc\\xbc\\x11+\\x9e=\\xde\\xc8\\x90=&\\x0c+:Pi\\x11\\xbd\\xf7\\'\\x8f<\\xfdQ\\xb3=\\xe7\\x88\\xc6\\xbc\\x11\\xf2\\xe9\\xba\\x9b\\xc2\\x0b\\xbdw\\x94\\x1e=\\xf39\\xcd\\xbdp\\x805\\xb3\\xce`\\xfc<%0\\xac=\\x05\\x89\\xf7:\\xc1\\xb0\\xba\\xbc\\xe0\\xa2-=\\x94\\xb9\\xb2<\\x7f\\xc7\\x02=\\xa1u3=\\xc5\\xdb\\xbc\\xbbs\\x9b\\xea=\\xa0\\x9a\\x92=\\xfd\\xf5D\\xbcN\\x9fl\\xbc\\x16X\\x82=K%\\xf8\\xbc!\\x06#=^W\\xd4\\xbc\\x1cC!\\xbd\\x8cv\\xd5;\\xe6\\xf1\\n\\xbd=\\xc6A\\xbd\\xb3;\\xa7=\\x87\\xc9\\x8a\\xbb+\\x95\"=p\\x05D=\\xa2\\xc6C\\xbd\\x92\\x1e;=U#\\xec<:=\\xd6= \\xe0\\r\\xbd\\x9f\\x88\\xf0\\xbb\\x9c\\xb0\\xce<\\x95\\x94\\xd0=\\xc0\\xaf\\xdf\\xbcr\\x06\\x0e=\\x1f\\xe5\\xcb<\\xc5\\xe1\\xa9\\xbd\\xe7\\xc0e=S9\\xa4<\\xff\\x9dg=H $\\xbd\\xbe\\xa0\\xed;\\xb9\\xdb\\xa7=H\\xb9\\xcd<\\x12\\x8e\\xa0<\\xe1\\x0e\\x03;\\x84z\\xf5<\\x90\\x00\\x17\\xbc\\x95\\x1e\\xc6\\xbc\\x1a\\x95t\\xbch\\xe2\\xc5\\xbd\\x81\\x9d\\x0c\\xbdy\\xfb\\xa9\\xbd\\x13\\xeeP<\\xd8_e<>kO\\xbdEP\\r\\xbd\\xa7`Q\\xbd\\xb7\\xda^=nb\\x8f\\xbcN\\x07\\x80\\xbc\\xa1\\x89\\xf3\\xbd\\x91\\x91\\x9c\\xbd.\\x86=\\xbb'}"
      ]
     },
     "execution_count": 83,
     "metadata": {},
     "output_type": "execute_result"
    }
   ],
   "source": [
    "redis_data[0]"
   ]
  },
  {
   "cell_type": "code",
   "execution_count": 84,
   "metadata": {},
   "outputs": [
    {
     "data": {
      "text/plain": [
       "['chunk:0',\n",
       " 'chunk:1',\n",
       " 'chunk:2',\n",
       " 'chunk:3',\n",
       " 'chunk:4',\n",
       " 'chunk:5',\n",
       " 'chunk:6',\n",
       " 'chunk:7']"
      ]
     },
     "execution_count": 84,
     "metadata": {},
     "output_type": "execute_result"
    }
   ],
   "source": [
    "index.load(redis_data, id_field=\"chunk_id\")"
   ]
  },
  {
   "cell_type": "code",
   "execution_count": 85,
   "metadata": {},
   "outputs": [],
   "source": [
    "client = Redis.from_url(os.environ[\"REDIS_URL\"])"
   ]
  },
  {
   "cell_type": "code",
   "execution_count": 86,
   "metadata": {},
   "outputs": [
    {
     "data": {
      "text/plain": [
       "[b'chunk:3',\n",
       " b'chunk:0',\n",
       " b'chunk:5',\n",
       " b'chunk:7',\n",
       " b'chunk:1',\n",
       " b'chunk:4',\n",
       " b'chunk:6',\n",
       " b'chunk:2']"
      ]
     },
     "execution_count": 86,
     "metadata": {},
     "output_type": "execute_result"
    }
   ],
   "source": [
    "client.keys()"
   ]
  },
  {
   "cell_type": "code",
   "execution_count": 87,
   "metadata": {},
   "outputs": [
    {
     "data": {
      "text/plain": [
       "{b'raw_content': b'(0.2W) 7.9<<5.3<Hawk Mountain Shelter>7.6>>19.6>>>20.8 w Water is located 400 yards on a blue blazed trail behind the shelter, t tent pads, p privy, J bear cables. (0.1W) 15.5<<<12.9<<7.6<Gooch Mountain Shelter>12>>13.2>>>22.3 w Water (spring) is located 100 yards behind the shelter, t tent pads that can accommo- date two tents each, p privy, J bear box.\\n\\n+[34.66467,-84.13702] s[34.66608,-84.13638]\\n\\n+[34.65492,-84.04948] s[34.65573,-84.04998] w[34.65652,-84.04954]\\n\\n3194\\n\\n3000\\n\\n2193.7\\n\\n2188.4 2180.8\\n\\n27.7\\n\\n28.9\\n\\n38.0\\n\\n42.8\\n\\nW+t s{7} EpJ`\\n\\ns{8} pZv`\\n\\nw+Z t{3}s{7} EpJv `\\n\\nws{7} t{4} EpJ`\\n\\nBird Gap (0.4W) 24.9<<<19.6<<12<Woods Hole Shelter>1.2>>10.3>>>15.1 W Water (stream) on trail to shelter is unreliable in dry months, p privy, t tenting, J bear cables. Bird Gap, Freeman Trail just east bypasses Blood Mtn. and rejoins AT at Flatrock Gap. Blood Mountain, open rocky summit. 20.8<<<13.2<<1.2<Blood Mountain Shelter>9.1>>13.9>>>21.2 Shelter is located south of summit, no water at shelter, p privy, view. | Fires are not permitted. Crest Wildcat Mountain. (1.2E) 22.3<<<10.3<<9.1<Whitley Gap Shelter>4.8>>12.1>>>20.2 w Water (spring) located (0.2) beyond shelter, p privy, J bear cables. (0.1E) beyond shelter to t tent sites. (190 yds E) 15.1<<<13.9<<4.8<Low Gap Shelter>7.3>>15.4>>>22.8 w Water located 30 yards in front of shelter, t tenting, p privy, J bear cables. | Last reliable water heading SOBO until Neels Gap (11.5 miles)\\n\\n+[34.73706,-83.94835] s[34.73713,-83.95500]\\n\\ns[34.73998,-83.93738]\\n\\n+[34.72476,-83.84102] s[34.71238,-83.83440]\\n\\n+[34.77659,-83.82627] s[34.77626,-83.82450]\\n\\n3650\\n\\n4461\\n\\n3370\\n\\n3050\\n\\n2168.8\\n\\n2167.6 2158.5\\n\\n2153.7\\n\\n50.1\\n\\n58.2\\n\\n65.6\\n\\n73.7\\n\\n+ws{7} t{4} EpJ` +wt{3} s{7} EpJ` +wt{4} s{12} EpJ`\\n\\nw+t{6} s{14}E pJ|`\\n\\n(0.1W) 21.2<<<12.1<<7.3<Blue Mountain Shelter>8.1>>15.5>>>23.6 w (No potable water) at shelter, w water (spring) located (0.1) south of shelter on AT, t +[34.81665,-83.76706] s[34.81721,-83.76673] tenting, p privy, J bear cables. (230 yds W) 20.2<<<15.4<<8.1<Tray Mountain Shelter>7.4>>15.5>>>22.8 w Water (box spring) located 50 yards behind shelter, t tenting, p privy, J bear cables. +[34.80283,-83.67857] s[34.80396,-83.67690] w[34.80491,-83.67568]',\n",
       " b'chunk_id': b'3',\n",
       " b'text_embedding': b'\\xea\\xf2\\x96\\xbc\\xbd)\\xe9;\\xae\\xed\\x89<\\xe0\\xbf\\x94=\\xb3>\\x84=\\'\\xbeF<N\\xad\\x16\\xbd\\x07\\x93\\x0e\\xbd\\xd1\\xd77\\xbd(\\xf8\\x08<c-\\x19={\\xeb;\\xbd9\\xa7\\xf9\\xbbB}3<\\x02\\xb6\\xce<\\x13\\'s=\\x9c\\x9a\\xbb<\\xa8\\x9d$\\xbcx\\xb2\\x16<\\xf7\\x8c\\x96\\xbd\\x9a>\\xfa\\xbb\\xed~!=6w\\xbf=c\\x96\\x1c<U7\\xd77\\x15sP\\xbd\\x05o\\xa9\\xbc@S\\xb2<y\\xec\\xd8\\xbb/\\x13\\xce<\\xcaT\\xaf;\\xaa\\xd0\\xeb\\xbd\\x83Gy\\xbd\\xbe\\x14\\x97\\xbd\\x14\\xef\\x05>\\xfe\\xe5\\xaf=\\xdeJ\\xe8<\\xb0:\\x95=G*O\\xbd\\xa6\\x13\\x8d\\xbc\\x1b\\x84\\xb7<9\\x101=\\xd2\\xf8\\xa4<;\\x00\\x95\\xbcq\\xa5\\xae\\xbd\\x94{Z\\xbb\\xe3\\x11\\xbd\\xbd\\xf9\\x14\\x91<]\\xb2\\xaa<MTD\\xbd\\xc3\\x02\\x1e=\\xe4\\xba\\xd5;3/\\xaa\\xbd.\\xa2\\x8e=V\\x9d\\x94\\xbdg5\\x01\\xbd\\x994\\xae\\xbcM \\x8c\\xbc\\xe0\\xba\\x84\\xbd\\x91X\\xf0<\\x01\\xf7O=\\xfbx\\x12=\\x16:\\xde\\xbd!\\x17\\x8f\\xbd\\x8d\\xfc\\xd5<\\x1a\\xef\\x97=@\\xba#\\xbd\\xe9K\\x9d<\\x0e)\\x88=k\\xf5\\x94\\xbd\\xfe\\xf9\\xbc\\xbclh\\x1c<\\x13\\xf6/\\xbd>_^\\xbd\\xc6\"\\x04<\\x7f\\x9a\\xe0<Y\\xcf#=yJ\\xa7=-J,=\\xfb\\xb4X\\xbd\\xbc\\xe3\\x9e\\xbd\\x9fU\\xde\\xbc\\xe6\\xcc\\xdd<\\x00\\xd8\\x8e=I\\x0e\\x96\\xbd\\r\\xfb\\xff\\xbc\\xe59\\xec\\xbc\\xe515=\\x8a\\x0e\\x9b\\xbc\\x06\\x87\\xa9\\xbdg\\xf03=\\xf7\\x1b\\x01\\xbd\\xaf\\xf8\\xe2\\xbdd\\x9c\\xae\\xbc\\x02\\x00d\\xbaR\\xbe\\x8d;\\x15\\x1a\\x02=\\x9fZ\\x9a\\xbc\\x85i\\xdb\\xbb\\xf1\\x95\\x80\\xbd\\x98ZL=\\x9eP\\x9a\\xbd\\x8a-\\xa2\\xbc\\xe8\\xd5h\\xbd\\xc4Q\\x85=(\\xf3=\\xbdJ\\xa3=;\\xa2\\x9a\\xe3;\\x19\\x9a==\\xddQ\\x8e:N+\\x12=\\xbeg\\xa8;\\xc5$t\\xbc\\t8\\x89=\\xd5\\x9e\\x00\\xbd>\\xc0\\x9b\\xbb\\xa9\\xe4\\x1f\\xbdY\\x83A\\xbd\\xcd@t=%\\xde\\x02=n\\x99\\t\\xbd@,\\x84=\\x99M\\xcd=\\xf6\\xd2\\xb9\\xbc\\xe3\\x1c\\x1c=\\xf2`\\x96\\xbcJ\\xf1+\\xbc?\\t.\\t\\xa1\\xaa\\x85=v\\x07\\x07\\xbc:\\x9e-\\xbc\\x879\\xba=XL^<\\x91\\x05U\\xbc\\x1a\\xa6\\x06\\xbd\\x14\\x1d\\x95\\xbc\\xb1\\x8f\\xcf\\xbcl@\\x92=\\x8c\\x1e\\x91\\xbd\\x8b\\xe7%\\xbd\\xc6P!<u\\x03l\\xbd~\\x12\\x84=\\xc0\\xc9\\x0b\\xbd\\xec\\xd0\\xd9;|\\xca\\xab\\xbd\\x03i\\xb2\\xbd\\\\V\\x86;\\xe1\\x1f\\x07\\xbdi\\x0f\\x90\\xbdo\\xbb\\\\<jx\\x10<\\xb3%\\xbd=6\\xb9\\xa4\\xbd,[m\\xbd\\xc9\\x03\\x8b=\\x17|z\\xbd0\\x0c\\xca</\\x1e-\\xbd\\x1f\\x9f\\x8b\\xba\\xb4\\xbc\\xb6=\\xb2u\\\\\\xbd\\x857\\xb9=~/l<\\xddY\\xb8<N\\x1e\\x1a\\xbbpQ0\\xbd\\x9f\\xfem\\xbd\\x920\\xe4<\\x90p\\x89<\\x05PA=L\\x15\\xed\\xbc\\xa1\\xc0\\xce=\\xaf\\xb1Y<y\\xa5\\xc4=\\x9cn.\\xbch\\xa7\\x1a\\xbd\\xfd\\x16`\\xbc\\xd2\\xeb\\x00;0>\\x91=(P\\x81\\xbd8\\xa0\\x8a\\xbc\\x9d^\\x98\\xbd\\xd4\\xd8\\xb9<\\x92\\xdc$=\\x12G\\xa7\\xbcLI\\t=.gP=\\xd5\\xb3\\xb1=1x\\xa3=\\xc0r\\x8e=x\\x19\\xd9\\xbd\\xfbZb=\\x8bJa\\xbd\\xe3[\\x01=\\xa2\\xa6\\x07\\xbc>\\x9a\\x91\\xbc\\xbd\\x92\\xa0<o\\x95\\xf1\\xbc\\x8e\\xa7\\x9f\\xbcO;.=\\xf8\\x8e}=\\xb7-s\\xbc2_\\xfe\\xbcy\\xe15=\\xe4H\\r=\\xba\\x0c\\xb4<\\xd2G\\xae;\\x1a\\x9bG=\\x8c\\x8dv\\xbd\\x1fC\\x05\\xbd\\x97\\xc7\\xb4=:mU\\xbd\\x866\\x0b\\xbeBx\\x15\\xbc\\xc24h\\xbd\\x93\\xf8\\x80\\xbd\\x1fI\\x83\\xbdv\\x0b\\x01<=\\xa6\\xfd<\\xda(\\x13=ME\\xbe\\xbd\\x8e\\x91c;~\\xc8\\x9d\\x89\\x04\\xfc\\x88=\\xd4B+\\xbd\\xcdb\\xf6=*M\\xdd\\xbd\\xcdR\\xe4<\\x01\\xdfx\\xbc-\\x9d\\xa2=\\xa2\\x15\\xce\\xbcE(\\xcc=\\x0f\\x92\\xfc=[\\xdd\\xba\\xbd\\xe6\\xa1\\x06=j\\x123=\\xd1\\xdd\\xcd<\\xe8\\xd0\\xb8\\xbcA\\xa9[=\\xf0?\\xa0<\\xa9X\\xa3\\xbd\\x0e\\x12\\x11=\\x8c\\x18\\x14\\xbbUMW\\xbd\\xbbn\\xd3;\\xe9\\xcd\\xf3<$\\'!\\xbd\\xc1\\xebD=\\xf6g\\x14<\\t\\x7f\\'\\xbbQ\\xd3\\r=\\xae)s\\xbc\\xc0\\x89[\\xbdz0\\x8f\\xbcm\\xf1\\x9f<3(\\xea<\\x0f\\xb3\\xff:\\xf0b\\x80\\xbd\\xd9\\xb24\\xbcm<\\xfb<)\\x0b\\x05\\xbd%f\\xa0\\xbda\\x82\\x98\\xbc\\xca\\x87\\xcc=\\xe8+\\xc6\\xbc\\xe4\\xd2\\r=0.\\xa7\\xbdFj\\x1f=\\xc2}\\xdd=\\x0b\\n\\x85\\xbcO\\xb0D\\xbd\\x1c\\x12:\\xbe\\xb8z%;j>:=;\\x7f\\xbc\\xbb+\\x96=\\xbd\\x85\\xf1\\xd9=U\\xf4\\x97<}M\\xaa\\xbc\\x0bt>\\xbd\\xeb\\x8a}<3\\x90\\'\\xbd \\x8e\\x1d\\xbd\\x8e\\x0b\\xa5<\\x8b9\\x0e\\xbd+O\\x07=-\\xdd\\x14=\\xc1\\x99}\\xbc\\xb7\\x1b\\xd6<T-F\\xbd\\xe8h\\xb6<\\x9c\\x9f`\\xbd\\x94x\\x8d\\xbc\\'\\xc6\\xa2\\xbd\\xf0=B\\xbd\\xa8t\\x94=h\\xc0\\xb1\\xbc\\x9c\\xd5W\\xbd\\x87\\xf2\\xd5<\\x98\\x99\\x9d<.\\xaab\\xbd\\x19\\xec\\xaa\\xbc\\x8a7}\\xbd\\xdd\\xe1\\x17=7\\xb3\\x00=\\xb1}\\xc9\\xbd\\x1f\\xf5\\xa0\\xbc\\xa2\\xe7\\x82=\\x94\\x9ak<\\xab-==\\x11\\xec\\xc9\\xbc\\x16\\x11\\x81\\xbc\\xca\\xf6\\xec:l\\xf80\\xbd\\xd0;\\r;\\xfcmi\\xbd\\x8bnn=!\\xcbi\\xbd\\xe1\\xac#\\xb3*\\xe4\\xe9;\\xd1\\xd3\\x05>h\\xb3\\x04\\xbdP\\x9f~\\xbc\\xf7x\\x82<+y\\x12\\xbd\\xee\\x03\\x84=q`&=\\xe1\\x03\\x82<S\\xbc\\xbe=\\xe8\\x11\\x91\\xbb\\xa1\\\\\\xf1\\xbb\\x99h\\\\<A\\xc3\\x18=\\x1ft\\xba\\xbd\\xa3\\x8f\\r<O\\x13\\xa0\\xbc\\xfb\\xd5\\xa9\\xbd\\xfe\\x8e\\xab\\xbb\\xf0\\xb4\\xdf<`\\x15`\\xbd\\n\\xe9\\t=\\xca\\x86S\\xbd\\x8bh\\x8e=\\x8bgY=\\xf08\\xa2\\xbb\\x10w\\x18<\\x04(\\x12<G\\xf3\\xbe=\\xe2J\\xfd\\xbb\\xa3\\x1f\\x05=.B.=B_\\x02<\\x93\\xe9\\x00=\\xc6\\xd3\\xaa;\\xcc\\xd5\\x80=(\\x8e=\\xbd\\x0bx\\x87=8\\xa9`:\\x8d\\\\\\xff=Y-\\x8c<\\xa9Gf\\xbc^/f\\xbcU\\xcc\\x99<\\xa60\\x0c<\\xedxX:\\tg\\x8f;am~<o\\xefQ\\xbb\\xea\\x1c@<\\xb0\\xeeC\\xbd\\r@2\\xbdm\\xa3\\xb4;\\xa8\\x07\\xeb\\xbc\\xeb\\xd3\\xfa=S\\x1eA\\xbd\\xa3y`\\xbd\\x07\\xb2\\x01\\xbe\\x07n\\xcd<\\x8f\\xc5\\x12\\xbb\\x9f\\x93\\xc4:T\\xaa\\xdf\\xbc\\x1c\\xec*\\xbd\\xfa;t=',\n",
       " b'proposition': b'The Appalachian Trail shelters include Hawk Mountain Shelter located at mile 7.9, Gooch Mountain Shelter at mile 15.5, Woods Hole Shelter at mile 24.9, Blood Mountain Shelter at mile 20.8, Whitley Gap Shelter at mile 22.3, Low Gap Shelter at mile 15.1, Blue Mountain Shelter at mile 21.2, and Tray Mountain Shelter at mile 20.2. Important amenities include water sources, tent pads, privies, and bear cables or boxes. Detailed coordinates are provided for each shelter location. Some shelters have unreliable water sources, and fires are not permitted at certain locations. Specific distances to water sources are noted in yards. Neels Gap is the last reliable water source heading southbound until 11.5 miles away. Refer to the provided map for additional geographical reference.'}"
      ]
     },
     "execution_count": 87,
     "metadata": {},
     "output_type": "execute_result"
    }
   ],
   "source": [
    "client.hgetall('chunk:3')"
   ]
  },
  {
   "cell_type": "code",
   "execution_count": 42,
   "metadata": {},
   "outputs": [
    {
     "data": {
      "text/plain": [
       "<redisvl.index.index.SearchIndex at 0x1ad2d240050>"
      ]
     },
     "execution_count": 42,
     "metadata": {},
     "output_type": "execute_result"
    }
   ],
   "source": [
    "index"
   ]
  },
  {
   "cell_type": "code",
   "execution_count": 88,
   "metadata": {},
   "outputs": [
    {
     "name": "stdout",
     "output_type": "stream",
     "text": [
      "hello: [{'id': 'chunk:3', 'vector_distance': '0.287704229355', 'raw_content': '(0.2W) 7.9<<5.3<Hawk Mountain Shelter>7.6>>19.6>>>20.8 w Water is located 400 yards on a blue blazed trail behind the shelter, t tent pads, p privy, J bear cables. (0.1W) 15.5<<<12.9<<7.6<Gooch Mountain Shelter>12>>13.2>>>22.3 w Water (spring) is located 100 yards behind the shelter, t tent pads that can accommo- date two tents each, p privy, J bear box.\\n\\n+[34.66467,-84.13702] s[34.66608,-84.13638]\\n\\n+[34.65492,-84.04948] s[34.65573,-84.04998] w[34.65652,-84.04954]\\n\\n3194\\n\\n3000\\n\\n2193.7\\n\\n2188.4 2180.8\\n\\n27.7\\n\\n28.9\\n\\n38.0\\n\\n42.8\\n\\nW+t s{7} EpJ`\\n\\ns{8} pZv`\\n\\nw+Z t{3}s{7} EpJv `\\n\\nws{7} t{4} EpJ`\\n\\nBird Gap (0.4W) 24.9<<<19.6<<12<Woods Hole Shelter>1.2>>10.3>>>15.1 W Water (stream) on trail to shelter is unreliable in dry months, p privy, t tenting, J bear cables. Bird Gap, Freeman Trail just east bypasses Blood Mtn. and rejoins AT at Flatrock Gap. Blood Mountain, open rocky summit. 20.8<<<13.2<<1.2<Blood Mountain Shelter>9.1>>13.9>>>21.2 Shelter is located south of summit, no water at shelter, p privy, view. | Fires are not permitted. Crest Wildcat Mountain. (1.2E) 22.3<<<10.3<<9.1<Whitley Gap Shelter>4.8>>12.1>>>20.2 w Water (spring) located (0.2) beyond shelter, p privy, J bear cables. (0.1E) beyond shelter to t tent sites. (190 yds E) 15.1<<<13.9<<4.8<Low Gap Shelter>7.3>>15.4>>>22.8 w Water located 30 yards in front of shelter, t tenting, p privy, J bear cables. | Last reliable water heading SOBO until Neels Gap (11.5 miles)\\n\\n+[34.73706,-83.94835] s[34.73713,-83.95500]\\n\\ns[34.73998,-83.93738]\\n\\n+[34.72476,-83.84102] s[34.71238,-83.83440]\\n\\n+[34.77659,-83.82627] s[34.77626,-83.82450]\\n\\n3650\\n\\n4461\\n\\n3370\\n\\n3050\\n\\n2168.8\\n\\n2167.6 2158.5\\n\\n2153.7\\n\\n50.1\\n\\n58.2\\n\\n65.6\\n\\n73.7\\n\\n+ws{7} t{4} EpJ` +wt{3} s{7} EpJ` +wt{4} s{12} EpJ`\\n\\nw+t{6} s{14}E pJ|`\\n\\n(0.1W) 21.2<<<12.1<<7.3<Blue Mountain Shelter>8.1>>15.5>>>23.6 w (No potable water) at shelter, w water (spring) located (0.1) south of shelter on AT, t +[34.81665,-83.76706] s[34.81721,-83.76673] tenting, p privy, J bear cables. (230 yds W) 20.2<<<15.4<<8.1<Tray Mountain Shelter>7.4>>15.5>>>22.8 w Water (box spring) located 50 yards behind shelter, t tenting, p privy, J bear cables. +[34.80283,-83.67857] s[34.80396,-83.67690] w[34.80491,-83.67568]', 'proposition': 'The Appalachian Trail shelters include Hawk Mountain Shelter located at mile 7.9, Gooch Mountain Shelter at mile 15.5, Woods Hole Shelter at mile 24.9, Blood Mountain Shelter at mile 20.8, Whitley Gap Shelter at mile 22.3, Low Gap Shelter at mile 15.1, Blue Mountain Shelter at mile 21.2, and Tray Mountain Shelter at mile 20.2. Important amenities include water sources, tent pads, privies, and bear cables or boxes. Detailed coordinates are provided for each shelter location. Some shelters have unreliable water sources, and fires are not permitted at certain locations. Specific distances to water sources are noted in yards. Neels Gap is the last reliable water source heading southbound until 11.5 miles away. Refer to the provided map for additional geographical reference.'}, {'id': 'chunk:4', 'vector_distance': '0.39252448082', 'raw_content': '(0.3E) 22.8<<<15.5<<7.4<Deep Gap Shelter>8.1>>15.4>>>20.3 w Water (spring) is located (0.1) south on the trail to the shelter, t tenting, p privy, J bear cables. +[34.88539,-83.64790] s[34.88249,-83.64597] w[34.88313,-83.64719] Plumorchard Gap. (0.2E) 23.6<<<15.5<<8.1<Plumorchard Gap Shelter>7.3>>12.2>>>19.8 w Plumorchard Creek is on the shelter trail, beyond the shelter. t tenting, p privy, J bear cables. | Caution the stump in front of the shelter has been home to copperhead snakes. w Water located 200 yards west on AT beyond shelter.\\n\\n3900\\n\\n4200\\n\\n3550\\n\\n3050\\n\\n2146.4\\n\\n2138.3\\n\\n2130.9\\n\\n81.0\\n\\n85.9\\n\\n93.5\\n\\n102.2\\n\\n105.6\\n\\n113.1\\n\\n120.4\\n\\nw+ s{8} t Ep`\\n\\nwts{8} Ep`\\n\\nwts{8} Ep`\\n\\nw+t{5} s{16} Ep` W+s{8} Ep`\\n\\nw+ s{8} t pJ`\\n\\nw+s{8} t{5} Ep`\\n\\n+[34.94607,-83.59118] s[34.94603,-83.58830]\\n\\n(100 ft E) 22.8<<<15.4<<7.3<Muskrat Creek Shelter>4.9>>12.5>>>21.2 w Water (spring) is located behind shelter, t tenting, p privy. s[35.02053,-83.58160] 4600 (250 ft E) 20.3<<<12.2<<4.9<Standing Indian Shelter>7.6>>16.3>>>19.7 w Creek that serves as the water source for shelter is on the opposite side of the AT from s[35.04200,-83.54806] the shelter. t tenting, p privy. (100 ft E) 19.8<<<12.5<<7.6<Carter Gap Shelter>8.7>>12.1>>>19.6 w Water (spring) is located 200 yards west on blue blaze trail, t tenting, p privy.\\n\\n4760\\n\\n4540\\n\\ns[34.99898,-83.49413]\\n\\n(0.1W) 21.2<<<16.3<<8.7<Long Branch Shelter>3.4>>10.9>>>18.2 w Water, t tent sites, p privy. (300 ft W) 19.7<<<12.1<<3.4<Rock Gap Shelter>7.5>>14.8>>>19.6 water (spring) is known to go dry, privy. Southern end of blue blaze of Siler Bald Loop (0.5E) 19.6<<<10.9<<7.5<Siler Bald Shelter>7.3>>12.1>>>17.9 w Water (spring) is located 300 feet south of shelter on loop trail, t tenting, p privy, J bear cables but non funtional, south end of loop trail to shelter. s[35.14413,-83.57250] (100 ydsE) 18.2<<<14.8<<7.3<Wayah Shelter>4.8>>10.6>>>15.5 Shelter on AT. w Water (Little Laurel Spring) is located (546FT W) on blue blaze trail across s[35.18784,-83.56201 ] from shelter side trail, t tent sites, p privy. w[35.18624,-83.56355]\\n\\n+[35.06941,-83.49706] s[35.06996,-83.49815] 4932\\n\\ns[35.09143,-83.52310] 3760\\n\\n4600\\n\\n4480\\n\\n2122.8\\n\\n2115.5\\n\\n2110.6\\n\\n2103.0\\n\\n2094.3\\n\\n2090.9\\n\\n2083.4\\n\\n2076.1\\n\\n291 -', 'proposition': 'The Appalachian Trail shelters and their mile markers are as follows: Deep Gap Shelter at mile 22.8, Plumorchard Gap Shelter at mile 23.6, Muskrat Creek Shelter at mile 22.8, Standing Indian Shelter at mile 20.3, Carter Gap Shelter at mile 19.8, Long Branch Shelter at mile 21.2, Rock Gap Shelter at mile 19.7, Siler Bald Shelter at mile 19.6, Wayah Shelter at mile 18.2. Important notes include water sources, tenting availability, privy locations, and bear cables at the shelters.'}, {'id': 'chunk:1', 'vector_distance': '0.475901603699', 'raw_content': '52.5 M` PO M–F 9am–12:30pm and 1:30pm-4pm, Sa 9am-12pm. 706-878-2422. 7976 S Main St. Helen, GA\\n\\n30545.\\n\\nM[34.69801,-83.71968]\\n\\nHiawassee, GA 30546 (11.0W)\\n\\n62.9 M` PO M-F 8:30am-5pm, Sa 8:30am-12pm. 706-896-4173. 118 N Main St. Hiawassee, GA 30546.\\n\\nM[34.94988,-83.75796]\\n\\nFranklin, NC 28734 (10E)\\n\\n109.4 M` PO M-F 8:30am-5pm, Sa 9am-12pm. 828-524-3219. 250 Depot St. Franklin, NC 28734.\\n\\nM[35.17885,-83.37433]\\n\\nRobbinsville, NC (7.0W) from Stecoah Gap.\\n\\n136.7 M` PO M-F 9am-4:30pm, Sa-Su Closed. 828-479-3397. 74 Sweetwater Rd. Robbinsville, NC 28771.\\n\\nM[35.32396,-83.80100]\\n\\nFontana Village, NC (2W from NC 28)\\n\\n165.9 M` PO M-F: 11:45am-3:45pm. 828-498-2315. 50 Fontana Rd. Fontana, NC 28733.\\n\\nM[35.43506,-83.82551]\\n\\nGatlinburg, TN (15.0W)\\n\\n207.7 M` PO M-F 9am-5pm, Sa 9am-11am. 865-436-3229. 1216 East Pkwy 37738. 1216 East Pkwy. Gattlinburg, M[35.72556,-83.48150]\\n\\nTN 37738.\\n\\nHot Springs, NC\\n\\n274.6 M` PO M-F 9am-11:30am & 1pm-4pm, Sa 9am-10:30am 828-622-3242. 11 Bridge St. Hot Springs, NC\\n\\n28743.\\n\\nM[35.89280,-82.82768]\\n\\nErwin, TN 37650.\\n\\n344.3 M` PO M-F 8:30-4:45, Sa 10-12, 423-743-9422. 201 N Main Ave, Erwin TN 37650.\\n\\nM[36.14673,-82.41555]\\n\\nElk Park, NC. (2.5E)\\n\\n395.3 M` (2.3E) PO M-F 9am-12:30am & 1:30pm-4pm, Sa 8am-11:30am. 828-733-5711. 153 Main St. W, Elk\\n\\nM[36.15778,-81.98004]\\n\\nPark, NC 28622. Roan Mountain, TN 37687 (3.5W)\\n\\n395.3 M` PO M-F 8am-12pm & 1pm-4pm, Sa 7:30am-9:30am 423-772-3014. 8060 US-19E, Roan Mtn, TN 37687. M[36.20021,-82.07448]\\n\\nHampton, TN 37658 (2.6W)\\n\\n428.5 M` PO M-F 7:30am - 11:30am, 12:30pm - 1:00pm. Sat-Sun Closed. 423-725-2177. 153 Main St. W. Hamp- M[36.28621,-82.16526]\\n\\nton, TN 28622.\\n\\nShady Valley, TN.(2.7E)\\n\\n455.7 M` PO M–F 8am-12pm, Sa 8am-10am, 423-739-2073. 136 Hwy 133. Shady Valley, TN 37688.\\n\\nM[36.51961,-81.92803]\\n\\nDamascus, VA. 24236.\\n\\n470.7 M` PO M-F 8:30-1 & 2-4:30, Sa 9-11, 276-475-3411. 211 N Reynolds St. Damascus, VA 24236.\\n\\nM[36.63608,-81.78988]\\n\\nTroutedale, VA 24378 (2.6E)\\n\\n520.2 M` PO M 8am-12pm, Sa 8am-11am, Su Closed. 93 Ripshin Rd. Troutedale, VA . 24378.\\n\\nM[36.70260,-81.43910]\\n\\nSugar Grove, VA 24375 (3.2E)\\n\\n534.2 M` PO M-F 8:30-12:30 & 1:30-3:30, Sa 8:15-10:30, 276-677-3200. 5444 Sugar Grove Hwy. Sugar Grove,\\n\\nVA 24375.\\n\\nM[36.77535,-81.41308]\\n\\nMarion, VA 24354 (6.0W)\\n\\n534.3 M` PO M-F 9am-5pm, Sa 9:30am-12pm, 276-783-5051. 200 Pearl Ave. Marion, VA 24354.\\n\\nM[36.83223,-81.51753]\\n\\nAtkins, VA.\\n\\n546.0 M` (3.0W) PO M-F 8:30am-12pm & 12:30am-3:15pm, Sa 9am-10:45am, 276-783-5551. 5864 Lee Hwy.\\n\\nAtkins, VA 24311.', 'proposition': 'The following shelter locations along the Appalachian Trail are available for hikers: \\n- Helen, GA: Mile Marker 52.5, contact 706-878-2422, address 7976 S Main St. Helen, GA 30545, coordinates [34.69801, -83.71968].\\n- Hiawassee, GA: Mile Marker 62.9, contact 706-896-4173, address 118 N Main St. Hiawassee, GA 30546, coordinates [34.94988, -83.75796].\\n- Franklin, NC: Mile Marker 109.4, contact 828-524-3219, address 250 Depot St. Franklin, NC 28734, coordinates [35.17885, -83.37433].\\n- Robbinsville, NC: Mile Marker 136.7, contact 828-479-3397, address 74 Sweetwater Rd. Robbinsville, NC 28771, coordinates [35.32396, -83.80100].\\n- Fontana Village, NC: Mile Marker 165.9, contact 828-498-2315, address 50 Fontana Rd. Fontana, NC 28733, coordinates [35.43506, -83.82551].\\n- Gatlinburg, TN: Mile Marker 207.7, contact 865-436-3229, address 1216 East Pkwy 37738. Gatlinburg, TN 37738, coordinates [35.72556, -83.48150].\\n- Hot Springs, NC: Mile Marker 274.6, contact 828-622-3242, address 11 Bridge St. Hot Springs, NC 28743, coordinates [35.89280, -82.82768].\\n- Erwin, TN: Mile Marker 344.3, contact 423-743-9422, address 201 N Main Ave, Erwin TN 37650, coordinates [36.14673, -82.41555].\\n- Elk Park, NC: Mile Marker 395.3, contact 828-733-5711, address 153 Main St. W, Elk Park, NC 28622, coordinates [36.15778, -81.98004].\\n- Roan Mountain, TN: Mile Marker 395.3, contact 423-772-3014, address 8060 US-19E, Roan Mtn, TN 37687, coordinates [36.20021, -82.07448].\\n- Hampton, TN: Mile Marker 428.5, contact 423-725-2177, address 153 Main St. W, Hampton, TN 28622, coordinates [36.28621, -82.16526].\\n- Shady Valley, TN: Mile Marker 455.7, contact 423-739-2073, address 136 Hwy 133. Shady Valley, TN 37688, coordinates [36.51961, -81.92803].\\n- Damascus, VA: Mile Marker 470.7, contact 276-475-3411, address 211 N Reynolds St. Damascus, VA 24236, coordinates [36.63608, -81.78988].\\n- Troutedale, VA: Mile Marker 520.2, contact 93 Ripshin Rd. Troutedale, VA 24378, coordinates [36.70260, -81.43910].\\n- Sugar Grove, VA: Mile Marker 534.2, contact 276-677-3200, address 5444 Sugar Grove Hwy. Sugar Grove, VA 24375, coordinates [36.77535, -81.41308].\\n- Marion, VA: Mile Marker 534.3, contact 276-783-5051, address 200 Pearl Ave. Marion, VA 24354, coordinates [36.83223, -81.51753].\\n- Atkins, VA: Mile Marker 546.0, contact 276-783-5551, address 5864 Lee Hwy. Atkins, VA 24311.'}]\n"
     ]
    }
   ],
   "source": [
    "query = 'How many miles are between Stover Creek Shelter and Hawk Mountain shelter?'\n",
    "\n",
    "context = retrieve_context(index, query)\n"
   ]
  },
  {
   "cell_type": "code",
   "execution_count": 44,
   "metadata": {},
   "outputs": [
    {
     "data": {
      "text/plain": [
       "''"
      ]
     },
     "execution_count": 44,
     "metadata": {},
     "output_type": "execute_result"
    }
   ],
   "source": []
  },
  {
   "cell_type": "code",
   "execution_count": 101,
   "metadata": {},
   "outputs": [],
   "source": []
  },
  {
   "cell_type": "code",
   "execution_count": 102,
   "metadata": {},
   "outputs": [
    {
     "ename": "KeyError",
     "evalue": "'propositions'",
     "output_type": "error",
     "traceback": [
      "\u001b[1;31m---------------------------------------------------------------------------\u001b[0m",
      "\u001b[1;31mKeyError\u001b[0m                                  Traceback (most recent call last)",
      "Cell \u001b[1;32mIn[102], line 2\u001b[0m\n\u001b[0;32m      1\u001b[0m query \u001b[38;5;241m=\u001b[39m \u001b[38;5;124m'\u001b[39m\u001b[38;5;124mHow many miles are between Stover Creek Shelter and Hawk Mountain shelter?\u001b[39m\u001b[38;5;124m'\u001b[39m\n\u001b[1;32m----> 2\u001b[0m answer \u001b[38;5;241m=\u001b[39m \u001b[38;5;28;01mawait\u001b[39;00m chat\u001b[38;5;241m.\u001b[39manswer_question(query)\n\u001b[0;32m      3\u001b[0m answer\n",
      "Cell \u001b[1;32mIn[30], line 66\u001b[0m, in \u001b[0;36mChat.answer_question\u001b[1;34m(self, query)\u001b[0m\n\u001b[0;32m     65\u001b[0m \u001b[38;5;28;01masync\u001b[39;00m \u001b[38;5;28;01mdef\u001b[39;00m \u001b[38;5;21manswer_question\u001b[39m(\u001b[38;5;28mself\u001b[39m, query):\n\u001b[1;32m---> 66\u001b[0m     context \u001b[38;5;241m=\u001b[39m \u001b[38;5;28;43mself\u001b[39;49m\u001b[38;5;241;43m.\u001b[39;49m\u001b[43mretrieve_context\u001b[49m\u001b[43m(\u001b[49m\u001b[43mquery\u001b[49m\u001b[43m)\u001b[49m\n\u001b[0;32m     68\u001b[0m     SYSTEM_PROMPT \u001b[38;5;241m=\u001b[39m \u001b[38;5;124m\"\u001b[39m\u001b[38;5;124mYou are a tool assiting hikers find simple trail info.\u001b[39m\u001b[38;5;124m\"\u001b[39m\n\u001b[0;32m     70\u001b[0m     response \u001b[38;5;241m=\u001b[39m \u001b[38;5;28;01mawait\u001b[39;00m openai\u001b[38;5;241m.\u001b[39mAsyncClient()\u001b[38;5;241m.\u001b[39mchat\u001b[38;5;241m.\u001b[39mcompletions\u001b[38;5;241m.\u001b[39mcreate(\n\u001b[0;32m     71\u001b[0m         model\u001b[38;5;241m=\u001b[39msettings\u001b[38;5;241m.\u001b[39mCHAT_MODEL,\n\u001b[0;32m     72\u001b[0m         messages\u001b[38;5;241m=\u001b[39m[\n\u001b[1;32m   (...)\u001b[0m\n\u001b[0;32m     77\u001b[0m         seed\u001b[38;5;241m=\u001b[39m\u001b[38;5;241m42\u001b[39m,\n\u001b[0;32m     78\u001b[0m     )\n",
      "Cell \u001b[1;32mIn[30], line 40\u001b[0m, in \u001b[0;36mChat.retrieve_context\u001b[1;34m(self, query)\u001b[0m\n\u001b[0;32m     36\u001b[0m \u001b[38;5;66;03m# we would need reference to the index to query it that makes sense\u001b[39;00m\n\u001b[0;32m     37\u001b[0m res \u001b[38;5;241m=\u001b[39m \u001b[38;5;28mself\u001b[39m\u001b[38;5;241m.\u001b[39mindex\u001b[38;5;241m.\u001b[39mquery(vector_query)\n\u001b[0;32m     39\u001b[0m \u001b[38;5;28;01mreturn\u001b[39;00m \u001b[38;5;124m\"\u001b[39m\u001b[38;5;130;01m\\n\u001b[39;00m\u001b[38;5;124m\"\u001b[39m\u001b[38;5;241m.\u001b[39mjoin(\n\u001b[1;32m---> 40\u001b[0m     \u001b[43m[\u001b[49m\u001b[43mr\u001b[49m\u001b[43m[\u001b[49m\u001b[38;5;124;43m\"\u001b[39;49m\u001b[38;5;124;43mpropositions\u001b[39;49m\u001b[38;5;124;43m\"\u001b[39;49m\u001b[43m]\u001b[49m\u001b[43m \u001b[49m\u001b[38;5;28;43;01mfor\u001b[39;49;00m\u001b[43m \u001b[49m\u001b[43mr\u001b[49m\u001b[43m \u001b[49m\u001b[38;5;129;43;01min\u001b[39;49;00m\u001b[43m \u001b[49m\u001b[43mres\u001b[49m\u001b[43m]\u001b[49m\n\u001b[0;32m     41\u001b[0m )\n",
      "Cell \u001b[1;32mIn[30], line 40\u001b[0m, in \u001b[0;36m<listcomp>\u001b[1;34m(.0)\u001b[0m\n\u001b[0;32m     36\u001b[0m \u001b[38;5;66;03m# we would need reference to the index to query it that makes sense\u001b[39;00m\n\u001b[0;32m     37\u001b[0m res \u001b[38;5;241m=\u001b[39m \u001b[38;5;28mself\u001b[39m\u001b[38;5;241m.\u001b[39mindex\u001b[38;5;241m.\u001b[39mquery(vector_query)\n\u001b[0;32m     39\u001b[0m \u001b[38;5;28;01mreturn\u001b[39;00m \u001b[38;5;124m\"\u001b[39m\u001b[38;5;130;01m\\n\u001b[39;00m\u001b[38;5;124m\"\u001b[39m\u001b[38;5;241m.\u001b[39mjoin(\n\u001b[1;32m---> 40\u001b[0m     [\u001b[43mr\u001b[49m\u001b[43m[\u001b[49m\u001b[38;5;124;43m\"\u001b[39;49m\u001b[38;5;124;43mpropositions\u001b[39;49m\u001b[38;5;124;43m\"\u001b[39;49m\u001b[43m]\u001b[49m \u001b[38;5;28;01mfor\u001b[39;00m r \u001b[38;5;129;01min\u001b[39;00m res]\n\u001b[0;32m     41\u001b[0m )\n",
      "\u001b[1;31mKeyError\u001b[0m: 'propositions'"
     ]
    }
   ],
   "source": [
    "from at_tool.chat import Chat\n",
    "chat = Chat(index)\n",
    "query = 'How many miles are between Stover Creek Shelter and Hawk Mountain shelter?'\n",
    "chat.answer_question(query)"
   ]
  },
  {
   "cell_type": "code",
   "execution_count": 78,
   "metadata": {},
   "outputs": [],
   "source": [
    "SYSTEM_PROMPT = \"\"\"\n",
    "    You are a trail guide tool. Segments of a raw pdf containing tables, information text, and maps of the Appalachian Trail.\n",
    "\n",
    "    Create a clear proposition from the data which includes all potentially important information on the location of shelters, mile markers, etc.\n",
    "\n",
    "    Return the proposition as a single string with key proposition in a json like so: {\"proposition\": \"single string\"}\n",
    "\"\"\"\n",
    "\n",
    "response = openai.OpenAI().chat.completions.create(\n",
    "    model=settings.CHAT_MODEL,\n",
    "    response_format={\"type\": \"json_object\"},\n",
    "    messages=[\n",
    "        {\"role\": \"system\", \"content\": SYSTEM_PROMPT},\n",
    "        {\n",
    "            \"role\": \"user\",\n",
    "            \"content\": f\"Decompose this raw content using the rules above:\\n {chunk} \",\n",
    "        },\n",
    "    ],\n",
    ")\n",
    "\n",
    "res = response.choices[0].message.content"
   ]
  },
  {
   "cell_type": "code",
   "execution_count": 80,
   "metadata": {},
   "outputs": [
    {
     "data": {
      "text/plain": [
       "'The resupply locations along the Appalachian Trail include: Suches, GA (20.5 miles NOBO & 2.0 miles SOBO), Neel Gap, GA, Blairsville, GA, Dahlonega, GA, Helen, GA (9.0 miles SOBO), Hiawassee, GA, Franklin, NC, NOC, NC, Stecoah Gap, NC, Robbinsville, NC, Fontana Village, NC, Gatlinburg, TN, Cherokee, NC, Davenport Gap, TN, Green Corner Road, Hot Springs, NC, Log Cabin Rd, Sams Gap, TN, Uncle Johnny’s Nolichucky Hostel, Erwin, TN, Elk Park, NC, Roan Mountain, TN, Scotty’s Budget Hostel Dennis Cove, TN, Shook Branch Road, Hampton, TN, Shady Valley, TN, Damascus, VA, Troutdale, VA, Sugar Grove, VA, Marion, VA, Atkins, VA, Quarter Way Inn, VA. 42/W Blue Grass Trail, Saint Luke’s Hostel, Bland, VA, Bastian, VA, Sugar Run Gap, VA, Narrows, VA, Pearisburg, VA, Newport, VA, Catawba, VA, Daleville, VA, Troutville, VA, Buchanan, VA, Jennings Creek Road, Big Island, VA. Additionally, there are Post Office options located in Suches, GA and Helen, GA.'"
      ]
     },
     "execution_count": 80,
     "metadata": {},
     "output_type": "execute_result"
    }
   ],
   "source": [
    "import json\n",
    "json.loads(res)[\"proposition\"]"
   ]
  },
  {
   "cell_type": "code",
   "execution_count": 91,
   "metadata": {},
   "outputs": [],
   "source": [
    "indexes = client.execute_command('FT._LIST')"
   ]
  },
  {
   "cell_type": "code",
   "execution_count": 99,
   "metadata": {},
   "outputs": [
    {
     "name": "stdout",
     "output_type": "stream",
     "text": [
      "yay\n"
     ]
    }
   ],
   "source": [
    "name = \"at_tool_redis\"\n",
    "if f\"b'{name}'\" in [str(i) for i in indexes]:\n",
    "  print(\"yay\")"
   ]
  },
  {
   "cell_type": "code",
   "execution_count": 98,
   "metadata": {},
   "outputs": [
    {
     "data": {
      "text/plain": [
       "\"b'at_tool_redis'\""
      ]
     },
     "execution_count": 98,
     "metadata": {},
     "output_type": "execute_result"
    }
   ],
   "source": [
    "\n",
    "str(indexes[0])"
   ]
  },
  {
   "cell_type": "code",
   "execution_count": null,
   "metadata": {},
   "outputs": [],
   "source": []
  }
 ],
 "metadata": {
  "kernelspec": {
   "display_name": ".venv",
   "language": "python",
   "name": "python3"
  },
  "language_info": {
   "codemirror_mode": {
    "name": "ipython",
    "version": 3
   },
   "file_extension": ".py",
   "mimetype": "text/x-python",
   "name": "python",
   "nbconvert_exporter": "python",
   "pygments_lexer": "ipython3",
   "version": "3.11.7"
  }
 },
 "nbformat": 4,
 "nbformat_minor": 2
}
